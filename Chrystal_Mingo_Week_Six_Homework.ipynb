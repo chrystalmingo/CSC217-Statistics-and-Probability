{
 "cells": [
  {
   "cell_type": "code",
   "execution_count": 138,
   "metadata": {},
   "outputs": [],
   "source": [
    "import numpy as np\n",
    "import matplotlib.pyplot as plt\n",
    "import scipy.stats as stats\n",
    "%matplotlib inline\n",
    "from scipy.special import comb, perm"
   ]
  },
  {
   "cell_type": "markdown",
   "metadata": {},
   "source": [
    "#### 1. From Chapter 5 of Introduction to Probability and Statistics, please do Questions 22, 23, 24, 25, 26, 27, 28"
   ]
  },
  {
   "cell_type": "markdown",
   "metadata": {},
   "source": [
    "Question 22:\n",
    "f(x) = 1/b-a\n",
    "a<x<b\n",
    "10:00<x<10:30\n",
    "0<x<30\n",
    "f(x) = 1/30-0\n",
    "f(x) = 1/30\n",
    "\n",
    "Part A:\n",
    "P(wait longer than 10 minutes) --> f(x > 10) integrate from 10 to 30(being max time) f(x)\n",
    "10<x<30 over 1/30 = 2/3\n",
    "\n",
    "P(wait longer than 10 minutes) = 2/3\n",
    "\n",
    "Part B:\n",
    "P(waits for 15mins to 25mins) --> f(15<x<25) integrate from 15 to 25 of f(x)\n",
    "15<x<25 over 1/30 = 1/3\n",
    "\n",
    "P(waits for 15mins to 25mins) = 1/3"
   ]
  },
  {
   "cell_type": "markdown",
   "metadata": {},
   "source": [
    "Question 23:"
   ]
  },
  {
   "cell_type": "code",
   "execution_count": 164,
   "metadata": {},
   "outputs": [
    {
     "name": "stdout",
     "output_type": "stream",
     "text": [
      "0.7967306081719316\n",
      "0.6826894921370859\n",
      "0.3773832276929932\n",
      "0.9522096477271853\n",
      "-0.03806688133628844\n"
     ]
    }
   ],
   "source": [
    "# normal distribution is 0 mean and 1 standard variance\n",
    "A = scipy.stats.norm(0, 1).cdf(0.83)\n",
    "print(A)\n",
    "B = scipy.stats.norm(0, 1).cdf((16-10)/6) - scipy.stats.norm(0, 1).cdf((4-10)/6)\n",
    "print(B)\n",
    "C = scipy.stats.norm(0, 1).pdf((8-10)/6)\n",
    "print(C)\n",
    "D = scipy.stats.norm(0, 1).cdf((20-10)/6)\n",
    "print(D)\n",
    "E = scipy.stats.norm(0, 1).pdf(1) - scipy.stats.norm(0, 1).pdf(0.8413)\n",
    "print(E)"
   ]
  },
  {
   "cell_type": "markdown",
   "metadata": {},
   "source": [
    "Question 24"
   ]
  },
  {
   "cell_type": "code",
   "execution_count": 165,
   "metadata": {},
   "outputs": [
    {
     "name": "stdout",
     "output_type": "stream",
     "text": [
      "0.42157023045754516\n",
      "0.00044503689682340357\n"
     ]
    }
   ],
   "source": [
    "mean=500\n",
    "std=100\n",
    "t = stats.norm(mean,std)\n",
    "#Part A\n",
    "import math\n",
    "A = math.pow(t.cdf(600),5)\n",
    "print(A)\n",
    "#Part B\n",
    "B = math.pow(t.cdf(640),2)*math.pow(1-(t.cdf(640)), 3)\n",
    "print(B)"
   ]
  },
  {
   "cell_type": "markdown",
   "metadata": {},
   "source": [
    "Question 25"
   ]
  },
  {
   "cell_type": "code",
   "execution_count": 166,
   "metadata": {},
   "outputs": [
    {
     "data": {
      "text/plain": [
       "0.00022849524983804603"
      ]
     },
     "execution_count": 166,
     "metadata": {},
     "output_type": "execute_result"
    }
   ],
   "source": [
    "mean=40\n",
    "std=4\n",
    "rain = stats.norm(mean,std)\n",
    "c = comb(4,2)\n",
    "ans = c * (math.pow(rain.cdf(50),2)) * (math.pow(1-rain.cdf(50),2))\n",
    "ans"
   ]
  },
  {
   "cell_type": "markdown",
   "metadata": {},
   "source": [
    "Question 26"
   ]
  },
  {
   "cell_type": "code",
   "execution_count": 167,
   "metadata": {},
   "outputs": [
    {
     "name": "stdout",
     "output_type": "stream",
     "text": [
      "0.09558070454562917\n",
      "0.0019298233425200037\n"
     ]
    }
   ],
   "source": [
    "mean=.9000\n",
    "std=.0030\n",
    "dur = stats.norm(mean,std)\n",
    "#Part A\n",
    "A = 1 - ((1 - dur.cdf((0.9000-0.0050))) + (dur.cdf((0.9000+0.0050))-1)) \n",
    "print(A)\n",
    "#Part B\n",
    "B = (((1 - dur.cdf((0.9000-0.0050))) + (dur.cdf((0.9000+0.0050))-1)) - mean)/2.29\n",
    "print(B)"
   ]
  },
  {
   "cell_type": "markdown",
   "metadata": {},
   "source": [
    "Question 27"
   ]
  },
  {
   "cell_type": "code",
   "execution_count": 168,
   "metadata": {},
   "outputs": [
    {
     "data": {
      "text/plain": [
       "1860.1874417091249"
      ]
     },
     "execution_count": 168,
     "metadata": {},
     "output_type": "execute_result"
    }
   ],
   "source": [
    "mean=2000\n",
    "std=85\n",
    "light = stats.norm(mean,std)\n",
    "light.ppf(0.05)"
   ]
  },
  {
   "cell_type": "markdown",
   "metadata": {},
   "source": [
    "Question 28"
   ]
  },
  {
   "cell_type": "code",
   "execution_count": 169,
   "metadata": {},
   "outputs": [
    {
     "data": {
      "text/plain": [
       "1.0"
      ]
     },
     "execution_count": 169,
     "metadata": {},
     "output_type": "execute_result"
    }
   ],
   "source": [
    "mean=1.2\n",
    "std=0.005\n",
    "bolt = stats.norm(mean,std)\n",
    "ans = bolt.cdf(1.19) + (bolt.cdf(1.21))\n",
    "ans"
   ]
  },
  {
   "cell_type": "markdown",
   "metadata": {},
   "source": [
    "#### 2. From Chapter 6 of Introduction to Probability and Statistics, please do Questions 10, 11, 12, 13"
   ]
  },
  {
   "cell_type": "markdown",
   "metadata": {},
   "source": [
    "Question 10:"
   ]
  },
  {
   "cell_type": "code",
   "execution_count": 170,
   "metadata": {},
   "outputs": [
    {
     "name": "stdout",
     "output_type": "stream",
     "text": [
      "1.0717571933538524e-287\n"
     ]
    }
   ],
   "source": [
    "mean=2.2\n",
    "std=.3\n",
    "cig = stats.norm(mean, std)\n",
    "ans = pow((1-cig.cdf(3.1)),100)\n",
    "print(ans)"
   ]
  },
  {
   "cell_type": "markdown",
   "metadata": {},
   "source": [
    "Question 11:"
   ]
  },
  {
   "cell_type": "code",
   "execution_count": 171,
   "metadata": {},
   "outputs": [
    {
     "name": "stdout",
     "output_type": "stream",
     "text": [
      "0.2672797108318157\n"
     ]
    }
   ],
   "source": [
    "from statistics import mean\n",
    "#PART A\n",
    "means_A = []\n",
    "for i in range(10000):\n",
    "    means_A.append(np.random.normal(loc = 500, scale = 80, size = 4).mean())\n",
    "meanA = mean(means_A)\n",
    "stdA = np.std(means_A)\n",
    "PART_A = 1 - stats.norm(meanA, stdA).cdf(525)\n",
    "print(PART_A)"
   ]
  },
  {
   "cell_type": "code",
   "execution_count": 172,
   "metadata": {},
   "outputs": [
    {
     "name": "stdout",
     "output_type": "stream",
     "text": [
      "0.10461313777105707\n"
     ]
    }
   ],
   "source": [
    "#PART B\n",
    "means_B = []\n",
    "for i in range(10000):\n",
    "    means_B.append(np.random.normal(loc = 500, scale = 80, size = 16).mean())\n",
    "meanB = mean(means_B)\n",
    "stdB = np.std(means_B)\n",
    "PART_B = 1 - stats.norm(meanB, stdB).cdf(525)\n",
    "print(PART_B)"
   ]
  },
  {
   "cell_type": "code",
   "execution_count": 173,
   "metadata": {},
   "outputs": [
    {
     "name": "stdout",
     "output_type": "stream",
     "text": [
      "0.03056375120794852\n"
     ]
    }
   ],
   "source": [
    "#PART C\n",
    "means_C = []\n",
    "for i in range(10000):\n",
    "    means_C.append(np.random.normal(loc = 500, scale = 80, size = 36).mean())\n",
    "meanC = mean(means_C)\n",
    "stdC = np.std(means_C)\n",
    "PART_C = 1 - stats.norm(meanC, stdC).cdf(525)\n",
    "print(PART_C)"
   ]
  },
  {
   "cell_type": "code",
   "execution_count": 174,
   "metadata": {},
   "outputs": [
    {
     "name": "stdout",
     "output_type": "stream",
     "text": [
      "0.006272651919465799\n"
     ]
    }
   ],
   "source": [
    "#PART D\n",
    "means_D = []\n",
    "for i in range(10000):\n",
    "    means_D.append(np.random.normal(loc = 500, scale = 80, size = 64).mean())\n",
    "meanD = mean(means_D)\n",
    "stdD = np.std(means_D)\n",
    "PART_D = 1 - stats.norm(meanD, stdD).cdf(525)\n",
    "print(PART_D)"
   ]
  },
  {
   "cell_type": "markdown",
   "metadata": {},
   "source": [
    "Question 12:"
   ]
  },
  {
   "cell_type": "code",
   "execution_count": 175,
   "metadata": {},
   "outputs": [
    {
     "name": "stdout",
     "output_type": "stream",
     "text": [
      "0.09864744092506039\n"
     ]
    }
   ],
   "source": [
    "#PART A\n",
    "means_A = []\n",
    "for i in range(10000):\n",
    "    means_A.append(np.random.normal(loc = 77, scale = 15, size = 25).mean())\n",
    "meanA = mean(means_A)\n",
    "stdAA = np.std(means_A)\n",
    "PART_A = (1 - stats.norm(meanA, stdA).cdf(72)) + (stats.norm(meanA, stdA).cdf(82)-1)\n",
    "print(PART_A)"
   ]
  },
  {
   "cell_type": "code",
   "execution_count": 176,
   "metadata": {},
   "outputs": [
    {
     "name": "stdout",
     "output_type": "stream",
     "text": [
      "0.9923478064524885\n"
     ]
    }
   ],
   "source": [
    "#PART B\n",
    "means_B = []\n",
    "for i in range(10000):\n",
    "    means_B.append(np.random.normal(loc = 77, scale = 15, size = 64).mean())\n",
    "meanB = mean(means_B)\n",
    "stdB = np.std(means_B)\n",
    "PART_B = (1 - stats.norm(meanB, stdB).cdf(72)) + (stats.norm(meanB, stdB).cdf(82)-1)\n",
    "print(PART_B)"
   ]
  },
  {
   "cell_type": "code",
   "execution_count": 177,
   "metadata": {},
   "outputs": [
    {
     "name": "stdout",
     "output_type": "stream",
     "text": [
      "0.5004\n"
     ]
    }
   ],
   "source": [
    "#PART C \n",
    "count = 0\n",
    "for i in range(10000):\n",
    "    if np.random.normal(loc = 77, scale = 15, size = 25).mean() > np.random.normal(loc = 77, scale = 15, size = 64).mean():\n",
    "        count+=1\n",
    "ans = count/10000\n",
    "print(ans)"
   ]
  },
  {
   "cell_type": "code",
   "execution_count": 178,
   "metadata": {},
   "outputs": [
    {
     "name": "stdout",
     "output_type": "stream",
     "text": [
      "Based on the Central Limit Theorem, the class of 25 students were more likely to have averaged 83 because its sample size is smaller.\n"
     ]
    }
   ],
   "source": [
    "#PART D\n",
    "print(\"Based on the Central Limit Theorem, the class of 25 students were more likely to have averaged 83 because its sample size is smaller.\")"
   ]
  },
  {
   "cell_type": "markdown",
   "metadata": {},
   "source": [
    "Question 13:"
   ]
  },
  {
   "cell_type": "code",
   "execution_count": 179,
   "metadata": {},
   "outputs": [
    {
     "name": "stdout",
     "output_type": "stream",
     "text": [
      "0.9591386024593491\n",
      "0.9523752128238208\n",
      "0.9573752128238208\n"
     ]
    }
   ],
   "source": [
    "binom_dist = stats.binom(n=150, p=0.6)\n",
    "binom = 1 - binom_dist.cdf(79.99)\n",
    "print(binom)\n",
    "#PART A\n",
    "norm_dist = stats.norm(binom_dist.mean(), binom_dist.std())\n",
    "print(1 - norm_dist.cdf(79.99))\n",
    "#PART B\n",
    "norm_dist2 = stats.norm(binom_dist.mean(), binom_dist.std())\n",
    "print(1 - norm_dist2.cdf((79.99)) + 0.005)"
   ]
  }
 ],
 "metadata": {
  "kernelspec": {
   "display_name": "Python 3",
   "language": "python",
   "name": "python3"
  },
  "language_info": {
   "codemirror_mode": {
    "name": "ipython",
    "version": 3
   },
   "file_extension": ".py",
   "mimetype": "text/x-python",
   "name": "python",
   "nbconvert_exporter": "python",
   "pygments_lexer": "ipython3",
   "version": "3.7.1"
  }
 },
 "nbformat": 4,
 "nbformat_minor": 2
}
