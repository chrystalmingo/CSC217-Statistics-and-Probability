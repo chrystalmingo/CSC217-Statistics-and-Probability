{
 "cells": [
  {
   "cell_type": "markdown",
   "metadata": {},
   "source": [
    "Chrystal Mingo\n",
    "\n",
    "\n",
    "Homework #3"
   ]
  },
  {
   "cell_type": "markdown",
   "metadata": {},
   "source": [
    "#### 1. From our Intro to Probability and Statistics textbook, answer questions 1-6 and 19 and 22 from Chapter 3, starting on Page 80. Insert the questions with their respective answers and any necessary code below."
   ]
  },
  {
   "cell_type": "markdown",
   "metadata": {},
   "source": [
    "1. A box contains three marbles — one red, one green, and one blue. Consider an experiment that consists of taking one marble from the box, then replacing it in the box and drawing a second marble from the box. Describe the sample space. Repeat for the case in which the second marble is drawn without first replacing the first marble.\n"
   ]
  },
  {
   "cell_type": "code",
   "execution_count": 159,
   "metadata": {},
   "outputs": [
    {
     "name": "stdout",
     "output_type": "stream",
     "text": [
      "9\n",
      "6.0\n"
     ]
    }
   ],
   "source": [
    "#sample space: In this case the set would look like this:\n",
    "#A = [(red,red) (red,blue) (red,green) (blue,red) (blue,blue)\n",
    "#(blue,green) (green,red) (green,blue) (green,green)] (Total 9 elements)\n",
    "a = 3*3\n",
    "#Repeat for the case in which the second marble is drawn without \n",
    "#first replacing the first marble\n",
    "#B = [(red,blue) (red,green) (blue,red) (blue,green) (green,red) (green,blue)]\n",
    "b = perm(3,3)\n",
    "print(a)\n",
    "print(b)"
   ]
  },
  {
   "cell_type": "markdown",
   "metadata": {},
   "source": [
    "2. An experiment consists of tossing a coin three times. What is the sample space of this experiment? Which event corresponds to the experiment resulting in more heads than tails?"
   ]
  },
  {
   "cell_type": "code",
   "execution_count": 160,
   "metadata": {},
   "outputs": [
    {
     "name": "stdout",
     "output_type": "stream",
     "text": [
      "8\n",
      "4.0\n"
     ]
    }
   ],
   "source": [
    "#sample space\n",
    "#A = [(HHH) (HHT) (HTT) (TTT) (THT) (TTH) (HTH) (THH))]\n",
    "a = 2 ** 3\n",
    "print(a)\n",
    "#more heads than tails\n",
    "#B= [(HHH) (HHT) (THH) (HTH)] \n",
    "b = (2 ** 3)/2\n",
    "print(b)"
   ]
  },
  {
   "cell_type": "markdown",
   "metadata": {},
   "source": [
    "3. Let S = {1,2,3,4,5,6,7}, E = {1,3,5,7}, F = {7,4,6}, G = {1,4}. Find (a)EF; (c)EGc; (e)Ec(F ∪G);\n",
    "(b)E ∪FG; (d)EFc ∪G; (f)EG ∪FG."
   ]
  },
  {
   "cell_type": "code",
   "execution_count": 161,
   "metadata": {},
   "outputs": [
    {
     "name": "stdout",
     "output_type": "stream",
     "text": [
      "[7]\n",
      "[1, 3, 4, 5, 7]\n",
      "[3, 5, 7]\n",
      "[1, 3, 4, 5]\n",
      "[1, 4, 6]\n",
      "[1, 4]\n"
     ]
    }
   ],
   "source": [
    "S = [1,2,3,4,5,6,7] \n",
    "E = [1,3,5,7]\n",
    "F = [7,4,6]\n",
    "G = [1,4]\n",
    "#a\n",
    "a = [i for i in S if i in E and i in F]\n",
    "print(a)\n",
    "#b \n",
    "b = [i for i in S if i in E or i in F and i in G]\n",
    "print(b)\n",
    "#c\n",
    "c = [i for i in S if i in E and i not in G]\n",
    "print(c)\n",
    "#d\n",
    "d = [i for i in S if i in E and i not in F or i in G]\n",
    "print(d)\n",
    "#e\n",
    "e = [i for i in S if i not in E and i in F or i in G]\n",
    "print(e)\n",
    "#f\n",
    "f = [i for i in S if i in E and i in G or i in G and i in F]\n",
    "print(f)"
   ]
  },
  {
   "cell_type": "markdown",
   "metadata": {},
   "source": [
    "4. Two dice are thrown. Let E be the event that the sum of the dice is odd, let F be the event that the first die lands on 1, and let G be the event that the sum is 5. Describe the events EF, E ∪ F, FG, EF c , EFG."
   ]
  },
  {
   "cell_type": "markdown",
   "metadata": {},
   "source": [
    "The event EF is the event that the sum of the dice is odd and that the first die lands on 1\n",
    "The event E ∪ F is the event that the sum of the dice is odd or that the first die lands on 1\n",
    "The event FG is the event that the first die lands on 1 and that the sum of the dice is 5\n",
    "The event EF is the event that the sum of the dice is odd and that the first die lands on anything except 1\n",
    "The event EFG is the event that the sum of the dice is odd and that the first die lands on 1 and that the sume is 5"
   ]
  },
  {
   "cell_type": "markdown",
   "metadata": {},
   "source": [
    "5. A system is composed of four components, each of which is either working or failed. Consider an experiment that consists of observing the status of each component, and let the outcome of the experiment be given by the vector (x1, x2, x3, x4) where xi is equal to 1 if component i is working and is equal to 0 if component i is failed. (a) How many outcomes are in the sample space of this experiment? (b) Suppose that the system will work if components 1 and 2 are both working, or if components 3 and 4 are both working. Specify all the outcomes in the event that the system works. (c) Let E be the event that components 1 and 3 are both failed. How many outcomes are contained in event E?"
   ]
  },
  {
   "cell_type": "markdown",
   "metadata": {},
   "source": [
    "Part A\n",
    "a = 2 ** 4\n",
    "Answer:16\n",
    "Part B\n",
    "Answer = (1,1,1,1) (1,1,1,0) (1,1,0,0) (1,1,0,1) (1,0,1,1) (0,1,1,1) (0,0,1,1)\n",
    "Part C:\n",
    "Answer: 4 Events"
   ]
  },
  {
   "cell_type": "markdown",
   "metadata": {},
   "source": [
    "6. Let E,F,G be three events. Find expressions for the events that\n",
    "of E,F,G:\n",
    "(a) only F occurs,\n",
    "(b) both E and F occur but not G,\n",
    "(c) at least one event occurs,\n",
    "(d) at least two events occur,\n",
    "(e) all three events occur,\n",
    "(f) none occurs,\n",
    "(g) at most one occurs,\n",
    "(h) at most two occur."
   ]
  },
  {
   "cell_type": "markdown",
   "metadata": {},
   "source": [
    "a. E ∩ ~F ∩ ~G\n",
    "b. E ∩ G ∩ ~F\n",
    "c. E ∪ F ∪ G\n",
    "d. (E ∩ G) ∪ (E ∩ F) ∪ (F ∩ G)\n",
    "e. E ∩ F ∩ G\n",
    "f. ~E ∩ ~F ∩ ~G\n",
    "g. (~E ∩ ~F ∩ ~G) ∪ (E ∩ ~F ∩ ~G) ∪ (~E ∩ F ∩ ~G) ∪ (~E ∩ ~F ∩ G)\n",
    "h. ~E ∪ ~F ∪ ~G\n",
    "i. (~E ∩ F ∩ G) ∪ (E ∩ F ∩ ~G) ∪ (E ∩ ~F ∩ G)\n",
    "j. U (The entire universe)"
   ]
  },
  {
   "cell_type": "markdown",
   "metadata": {},
   "source": [
    "19. Consider a set of 23 unrelated people. Because each pair of people shares the same birthday with probability 1/365, and there are 23 2 \u0004 = 253 pairs, why isn’t the probability that at least two people have the same birthday equal to 253/365?"
   ]
  },
  {
   "cell_type": "code",
   "execution_count": 162,
   "metadata": {},
   "outputs": [
    {
     "data": {
      "text/plain": [
       "50.72972343239853"
      ]
     },
     "execution_count": 162,
     "metadata": {},
     "output_type": "execute_result"
    }
   ],
   "source": [
    "(1-perm(365,23)*(pow(1/365,23)))*100\n",
    "#The probability is too high since there is more than a 50% probability that at least two people have the same birthday "
   ]
  },
  {
   "cell_type": "markdown",
   "metadata": {},
   "source": [
    "22. A closet contains 8 pairs of shoes. If 4 shoes are randomly selected, what is the probability that there will be (a) no complete pair and (b) exactly 1 complete pair?"
   ]
  },
  {
   "cell_type": "code",
   "execution_count": 163,
   "metadata": {},
   "outputs": [
    {
     "data": {
      "text/plain": [
       "0.6153846153846154"
      ]
     },
     "execution_count": 163,
     "metadata": {},
     "output_type": "execute_result"
    }
   ],
   "source": [
    "#part A\n",
    "(comb(8, 4)*(pow(2,4)))/comb(16, 4)"
   ]
  },
  {
   "cell_type": "code",
   "execution_count": 164,
   "metadata": {},
   "outputs": [
    {
     "data": {
      "text/plain": [
       "0.36923076923076925"
      ]
     },
     "execution_count": 164,
     "metadata": {},
     "output_type": "execute_result"
    }
   ],
   "source": [
    "#part B\n",
    "((comb(8,1))*(comb(7, 2))*(pow(2,2)))/comb(16, 4)"
   ]
  },
  {
   "cell_type": "markdown",
   "metadata": {},
   "source": [
    "#### 2. Answer questions 1-14 [here](https://www.indiabix.com/aptitude/permutation-and-combination/) (open in new tab) below. Insert the questions with their respective answers and any necessary code below."
   ]
  },
  {
   "cell_type": "code",
   "execution_count": 165,
   "metadata": {},
   "outputs": [],
   "source": [
    "import random\n",
    "import numpy as np\n",
    "from scipy.special import comb, perm\n",
    "import itertools"
   ]
  },
  {
   "cell_type": "markdown",
   "metadata": {},
   "source": [
    "1. From a group of 7 men and 6 women, five persons are to be selected to form a committee so that at least 3 men are there on the committee. In how many ways can it be done?"
   ]
  },
  {
   "cell_type": "code",
   "execution_count": 166,
   "metadata": {},
   "outputs": [
    {
     "name": "stdout",
     "output_type": "stream",
     "text": [
      "756.0\n"
     ]
    }
   ],
   "source": [
    "a = comb(7,3)*comb(6,2) #Choose 3 from 7 men and 2 from 6 women\n",
    "b = comb(7,4)*comb(6,1) #Choose 4 from 7 men and 1 from 6 women\n",
    "c = comb(7,5)*comb(6,0) #Choose 5 from 7 men and 0 from 6 women\n",
    "total_ways = print(a+b+c)\n",
    "#Answer = (D) 756"
   ]
  },
  {
   "cell_type": "markdown",
   "metadata": {},
   "source": [
    "2. In how many different ways can the letters of the word 'LEADING' be arranged in such a way that the vowels always come together?\n",
    "Ans: (C) 720"
   ]
  },
  {
   "cell_type": "code",
   "execution_count": 167,
   "metadata": {},
   "outputs": [
    {
     "data": {
      "text/plain": [
       "720.0"
      ]
     },
     "execution_count": 167,
     "metadata": {},
     "output_type": "execute_result"
    }
   ],
   "source": [
    "#EAI - there are 3 constants can be rearrannged(3!)\n",
    "#LDNG - there are 4letters can be rearranged (4!)\n",
    "#And the constants can be arranged 5 ways (5 spaces between the letters LDNG)\n",
    "#3!*4!*5\n",
    "perm(3,3)*perm(4,4)*5"
   ]
  },
  {
   "cell_type": "markdown",
   "metadata": {},
   "source": [
    "3. In how many different ways can the letters of the word 'CORPORATION' be arranged so that the vowels always come together?\n",
    "Ans: (D) 50400"
   ]
  },
  {
   "cell_type": "code",
   "execution_count": 168,
   "metadata": {},
   "outputs": [
    {
     "data": {
      "text/plain": [
       "50400.0"
      ]
     },
     "execution_count": 168,
     "metadata": {},
     "output_type": "execute_result"
    }
   ],
   "source": [
    "a = perm(7,7)/perm(2,2)\n",
    "b = perm(5,5)/perm(3,3)\n",
    "a*b"
   ]
  },
  {
   "cell_type": "markdown",
   "metadata": {},
   "source": [
    "4. Out of 7 consonants and 4 vowels, how many words of 3 consonants and 2 vowels can be formed?\n",
    "Ans: (C) 210"
   ]
  },
  {
   "cell_type": "code",
   "execution_count": 169,
   "metadata": {},
   "outputs": [
    {
     "data": {
      "text/plain": [
       "210.0"
      ]
     },
     "execution_count": 169,
     "metadata": {},
     "output_type": "execute_result"
    }
   ],
   "source": [
    "comb(7,3)*comb(4,2)"
   ]
  },
  {
   "cell_type": "markdown",
   "metadata": {},
   "source": [
    "5. In how many ways can the letters of the word 'LEADER' be arranged?\n",
    "Ans: (C) 360"
   ]
  },
  {
   "cell_type": "code",
   "execution_count": 170,
   "metadata": {},
   "outputs": [
    {
     "data": {
      "text/plain": [
       "360.0"
      ]
     },
     "execution_count": 170,
     "metadata": {},
     "output_type": "execute_result"
    }
   ],
   "source": [
    "perm(6,6)/perm(2,2)"
   ]
  },
  {
   "cell_type": "markdown",
   "metadata": {},
   "source": [
    "6. In a group of 6 boys and 4 girls, four children are to be selected. In how many different ways can they be selected such that at least one boy should be there?\n",
    "Ans: (D) 209"
   ]
  },
  {
   "cell_type": "code",
   "execution_count": 171,
   "metadata": {},
   "outputs": [
    {
     "data": {
      "text/plain": [
       "209.0"
      ]
     },
     "execution_count": 171,
     "metadata": {},
     "output_type": "execute_result"
    }
   ],
   "source": [
    "(6*4)+(comb(6,2)*comb(4,2))+(comb(6,3)*comb(4,1))+comb(6,2)"
   ]
  },
  {
   "cell_type": "markdown",
   "metadata": {},
   "source": [
    "7. How many 3-digit numbers can be formed from the digits 2, 3, 5, 6, 7 and 9, which are divisible by 5 and none of the digits is repeated?\n",
    "Ans: (D) 20"
   ]
  },
  {
   "cell_type": "code",
   "execution_count": 172,
   "metadata": {},
   "outputs": [
    {
     "data": {
      "text/plain": [
       "20"
      ]
     },
     "execution_count": 172,
     "metadata": {},
     "output_type": "execute_result"
    }
   ],
   "source": [
    "1*5*4"
   ]
  },
  {
   "cell_type": "markdown",
   "metadata": {},
   "source": [
    "8. In how many ways a committee, consisting of 5 men and 6 women can be formed from 8 men and 10 women?\n",
    "Ans: (C) 11760"
   ]
  },
  {
   "cell_type": "code",
   "execution_count": 173,
   "metadata": {},
   "outputs": [
    {
     "data": {
      "text/plain": [
       "11760.0"
      ]
     },
     "execution_count": 173,
     "metadata": {},
     "output_type": "execute_result"
    }
   ],
   "source": [
    "comb(10,6)*comb(8,5)"
   ]
  },
  {
   "cell_type": "markdown",
   "metadata": {},
   "source": [
    "9. A box contains 2 white balls, 3 black balls and 4 red balls. In how many ways can 3 balls be drawn from the box, if at least one black ball is to be included in the draw?\n",
    "Ans: (C) 64"
   ]
  },
  {
   "cell_type": "code",
   "execution_count": 174,
   "metadata": {},
   "outputs": [
    {
     "data": {
      "text/plain": [
       "64.0"
      ]
     },
     "execution_count": 174,
     "metadata": {},
     "output_type": "execute_result"
    }
   ],
   "source": [
    "3*comb(6,2)+ 6*comb(3,2) +1"
   ]
  },
  {
   "cell_type": "markdown",
   "metadata": {},
   "source": [
    "10. In how many different ways can the letters of the word 'DETAIL' be arranged in such a way that the vowels occupy only the odd positions?\n",
    "Ans: (C) 11760"
   ]
  },
  {
   "cell_type": "code",
   "execution_count": 175,
   "metadata": {},
   "outputs": [
    {
     "data": {
      "text/plain": [
       "6.0"
      ]
     },
     "execution_count": 175,
     "metadata": {},
     "output_type": "execute_result"
    }
   ],
   "source": [
    "perm(3,3)"
   ]
  },
  {
   "cell_type": "markdown",
   "metadata": {},
   "source": [
    "11. In how many ways can a group of 5 men and 2 women be made out of a total of 7 men and 3 women?\n",
    "Ans: (A) 63"
   ]
  },
  {
   "cell_type": "code",
   "execution_count": 176,
   "metadata": {},
   "outputs": [
    {
     "data": {
      "text/plain": [
       "63.0"
      ]
     },
     "execution_count": 176,
     "metadata": {},
     "output_type": "execute_result"
    }
   ],
   "source": [
    "comb(7,2)*comb(3,2)"
   ]
  },
  {
   "cell_type": "markdown",
   "metadata": {},
   "source": [
    "12. How many 4-letter words with or without meaning, can be formed out of the letters of the word, 'LOGARITHMS', if repetition of letters is not allowed?\n",
    "Ans: (C) 5040"
   ]
  },
  {
   "cell_type": "code",
   "execution_count": 177,
   "metadata": {},
   "outputs": [
    {
     "data": {
      "text/plain": [
       "5040.0"
      ]
     },
     "execution_count": 177,
     "metadata": {},
     "output_type": "execute_result"
    }
   ],
   "source": [
    "perm(10,4)"
   ]
  },
  {
   "cell_type": "markdown",
   "metadata": {},
   "source": [
    "13. In how many different ways can the letters of the word 'MATHEMATICS' be arranged so that the vowels always come together?\n",
    "Ans: (C) 120960"
   ]
  },
  {
   "cell_type": "code",
   "execution_count": 178,
   "metadata": {},
   "outputs": [
    {
     "data": {
      "text/plain": [
       "120960.0"
      ]
     },
     "execution_count": 178,
     "metadata": {},
     "output_type": "execute_result"
    }
   ],
   "source": [
    "a=perm(8,8)/(perm(2,2)*perm(2,2))\n",
    "b=perm(4,2)\n",
    "a*b"
   ]
  },
  {
   "cell_type": "markdown",
   "metadata": {},
   "source": [
    "14. In how many different ways can the letters of the word 'OPTICAL' be arranged so that the vowels always come together?\n",
    "Ans: (B) 720"
   ]
  },
  {
   "cell_type": "code",
   "execution_count": 179,
   "metadata": {},
   "outputs": [
    {
     "data": {
      "text/plain": [
       "720.0"
      ]
     },
     "execution_count": 179,
     "metadata": {},
     "output_type": "execute_result"
    }
   ],
   "source": [
    "perm(5,5)*perm(3,3)"
   ]
  }
 ],
 "metadata": {
  "kernelspec": {
   "display_name": "Python 3",
   "language": "python",
   "name": "python3"
  },
  "language_info": {
   "codemirror_mode": {
    "name": "ipython",
    "version": 3
   },
   "file_extension": ".py",
   "mimetype": "text/x-python",
   "name": "python",
   "nbconvert_exporter": "python",
   "pygments_lexer": "ipython3",
   "version": "3.7.1"
  }
 },
 "nbformat": 4,
 "nbformat_minor": 2
}
