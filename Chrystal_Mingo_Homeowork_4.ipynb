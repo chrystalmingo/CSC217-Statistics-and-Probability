{
 "cells": [
  {
   "cell_type": "code",
   "execution_count": 151,
   "metadata": {},
   "outputs": [],
   "source": [
    "import numpy as np\n",
    "from scipy.special import comb, perm"
   ]
  },
  {
   "cell_type": "markdown",
   "metadata": {},
   "source": [
    "## Monty Hall\n",
    "\n",
    "Below is a Monty Hall function that you're free to try for yourself."
   ]
  },
  {
   "cell_type": "code",
   "execution_count": 152,
   "metadata": {},
   "outputs": [],
   "source": [
    "def monty_hall(change_doors, pick=1, print_statements=True):\n",
    "    assert pick in [1,2,3]\n",
    "    assert change_doors in [True, False]\n",
    "    assert print_statements in [True, False]\n",
    "    if print_statements:\n",
    "        print('You pick door', pick)\n",
    "    car = np.random.randint(1,4)\n",
    "    d = {}\n",
    "    for i in range(1,4):\n",
    "        if car == i:\n",
    "            d[i] = 'car'\n",
    "        else:\n",
    "            d[i] = 'goat'\n",
    "    for i in range(1,4):\n",
    "        if (i != pick) and (d[i] != 'car'):\n",
    "            door_shown = i\n",
    "            if print_statements:\n",
    "                print('Monty shows door', i)\n",
    "            break\n",
    "    if change_doors:\n",
    "        for i in range(1,4):\n",
    "            if (i != pick) and (i != door_shown):\n",
    "                pick = i\n",
    "                if print_statements:\n",
    "                    print('You switch to door', pick)\n",
    "                break\n",
    "    if print_statements:\n",
    "        print('Car is in door', car)\n",
    "    if car == pick:\n",
    "        if print_statements:\n",
    "            print('Congratulations! You win.')\n",
    "        return 'Car'\n",
    "    else:\n",
    "        if print_statements:\n",
    "            print('You lose. Enjoy your goat.')\n",
    "        return 'Goat'"
   ]
  },
  {
   "cell_type": "markdown",
   "metadata": {},
   "source": [
    "Note the arguments in the function. 'Change doors' is either 'True' or 'False', pick defaults at 1 but can only be 1, 2, or 3, and print statements is a way of tidying up the function if we're running it a loop.\n",
    "\n",
    "The **assert** function is a good way of insuring that the arguments for a function will only be contained to what we want, so that we don't get any unexpected errors.\n",
    "\n",
    "Below we can run a simulation of the Monty Hall process. Try messing around with the arguments and seeing what happens."
   ]
  },
  {
   "cell_type": "code",
   "execution_count": 153,
   "metadata": {},
   "outputs": [
    {
     "name": "stdout",
     "output_type": "stream",
     "text": [
      "You pick door 2\n",
      "Monty shows door 1\n",
      "You switch to door 3\n",
      "Car is in door 2\n",
      "You lose. Enjoy your goat.\n"
     ]
    },
    {
     "data": {
      "text/plain": [
       "'Goat'"
      ]
     },
     "execution_count": 153,
     "metadata": {},
     "output_type": "execute_result"
    }
   ],
   "source": [
    "monty_hall(change_doors=True, pick=2)"
   ]
  },
  {
   "cell_type": "markdown",
   "metadata": {},
   "source": [
    "Below we can run 1000 simulations to get a sense of the outcome in the macro. First, we'll choose to change doors every time - note that we win the car roughly 2/3 of the time! Also note that the results aren't printing out now that the results statement is false."
   ]
  },
  {
   "cell_type": "code",
   "execution_count": 154,
   "metadata": {},
   "outputs": [
    {
     "data": {
      "text/plain": [
       "array([['Car', '694'],\n",
       "       ['Goat', '306']], dtype='<U32')"
      ]
     },
     "execution_count": 154,
     "metadata": {},
     "output_type": "execute_result"
    }
   ],
   "source": [
    "all_results = np.array([])\n",
    "for i in range(1000):\n",
    "    result = monty_hall(change_doors=True, pick=3, print_statements=False)\n",
    "    all_results = np.append(all_results, result)\n",
    "np.transpose(np.unique(all_results, return_counts=True))"
   ]
  },
  {
   "cell_type": "markdown",
   "metadata": {},
   "source": [
    "And below we'll note the results when we choose to remain with the same door every time. Now we only win the car roughly 1/3 of the time."
   ]
  },
  {
   "cell_type": "code",
   "execution_count": 155,
   "metadata": {},
   "outputs": [
    {
     "data": {
      "text/plain": [
       "array([['Car', '320'],\n",
       "       ['Goat', '680']], dtype='<U32')"
      ]
     },
     "execution_count": 155,
     "metadata": {},
     "output_type": "execute_result"
    }
   ],
   "source": [
    "all_results = np.array([])\n",
    "for i in range(1000):\n",
    "    result = monty_hall(change_doors=False, print_statements=False)\n",
    "    all_results = np.append(all_results, result)\n",
    "np.transpose(np.unique(all_results, return_counts=True))"
   ]
  },
  {
   "cell_type": "markdown",
   "metadata": {},
   "source": [
    "Another way of tracking our results could be to create a counter that tracks every time we get the result we want."
   ]
  },
  {
   "cell_type": "code",
   "execution_count": 156,
   "metadata": {},
   "outputs": [
    {
     "name": "stdout",
     "output_type": "stream",
     "text": [
      "We win the car 657 times, or 65.7% of the time\n"
     ]
    }
   ],
   "source": [
    "car = 0\n",
    "total_trials = 1000\n",
    "for i in range(total_trials):\n",
    "    result = monty_hall(change_doors=True, print_statements=False)\n",
    "    if result == 'Car':\n",
    "        car += 1\n",
    "print('We win the car', car, 'times, or',str(np.round((car/total_trials) * 100, 2)) + '%', 'of the time')"
   ]
  },
  {
   "cell_type": "code",
   "execution_count": 157,
   "metadata": {},
   "outputs": [
    {
     "name": "stdout",
     "output_type": "stream",
     "text": [
      "We win the car 340 times, or 34.0% of the time\n"
     ]
    }
   ],
   "source": [
    "car = 0\n",
    "for i in range(1000):\n",
    "    result = monty_hall(change_doors=False, print_statements=False)\n",
    "    if result == 'Car':\n",
    "        car += 1\n",
    "print('We win the car', car, 'times, or',str(np.round((car/total_trials) * 100, 2)) + '%', 'of the time')"
   ]
  },
  {
   "cell_type": "markdown",
   "metadata": {},
   "source": [
    "## Probability vs. Statistics"
   ]
  },
  {
   "cell_type": "markdown",
   "metadata": {},
   "source": [
    "We briefly touched on this last week, and will touch on this of course later in the course, but above is a good example of probability vs. statistics. We know via probability that the odds of getting a car if you choose to switch doors is 66.67%, but the odds above in repeated simulations are slightly different. Does our knowledge of the probability make our experiment invalid? What would happen if we ran less simulations? Or ran more? Something to think about."
   ]
  },
  {
   "cell_type": "markdown",
   "metadata": {},
   "source": [
    "## Functions"
   ]
  },
  {
   "cell_type": "markdown",
   "metadata": {},
   "source": [
    "We've informally covered functions before, but they're a great way of taking an argument, feeding it into some code, and outputting a result."
   ]
  },
  {
   "cell_type": "code",
   "execution_count": 158,
   "metadata": {},
   "outputs": [],
   "source": [
    "def my_name_is(name):\n",
    "    print('My name is', name)"
   ]
  },
  {
   "cell_type": "code",
   "execution_count": 159,
   "metadata": {},
   "outputs": [
    {
     "name": "stdout",
     "output_type": "stream",
     "text": [
      "My name is asdfs\n"
     ]
    }
   ],
   "source": [
    "my_name_is('asdfs')"
   ]
  },
  {
   "cell_type": "code",
   "execution_count": 160,
   "metadata": {},
   "outputs": [],
   "source": [
    "def add_three(number):\n",
    "    print(number + 3)"
   ]
  },
  {
   "cell_type": "code",
   "execution_count": 161,
   "metadata": {},
   "outputs": [],
   "source": [
    "def return_three(number):\n",
    "    return(number + 3)"
   ]
  },
  {
   "cell_type": "code",
   "execution_count": 162,
   "metadata": {},
   "outputs": [
    {
     "name": "stdout",
     "output_type": "stream",
     "text": [
      "8\n"
     ]
    }
   ],
   "source": [
    "add_three(5)"
   ]
  },
  {
   "cell_type": "markdown",
   "metadata": {},
   "source": [
    "Ending a function with 'print' will print your result into the console, while 'return' will output it to a variable"
   ]
  },
  {
   "cell_type": "code",
   "execution_count": 163,
   "metadata": {},
   "outputs": [
    {
     "data": {
      "text/plain": [
       "5"
      ]
     },
     "execution_count": 163,
     "metadata": {},
     "output_type": "execute_result"
    }
   ],
   "source": [
    "x = return_three(2)\n",
    "x"
   ]
  },
  {
   "cell_type": "markdown",
   "metadata": {},
   "source": [
    "## Random"
   ]
  },
  {
   "cell_type": "markdown",
   "metadata": {},
   "source": [
    "The 'random' module lets us take random values from a list. This will be useful when we need to make simulations in the course. \n",
    "\n",
    "Specifically the 'Randint' function lets us take a number from within a range of numbers (first point inclusive, second point exclusive)"
   ]
  },
  {
   "cell_type": "code",
   "execution_count": 164,
   "metadata": {},
   "outputs": [
    {
     "data": {
      "text/plain": [
       "1"
      ]
     },
     "execution_count": 164,
     "metadata": {},
     "output_type": "execute_result"
    }
   ],
   "source": [
    "np.random.randint(1,5)"
   ]
  },
  {
   "cell_type": "markdown",
   "metadata": {},
   "source": [
    "The 'Choice' function lets us take a random choice from a list"
   ]
  },
  {
   "cell_type": "code",
   "execution_count": 165,
   "metadata": {},
   "outputs": [
    {
     "data": {
      "text/plain": [
       "'car'"
      ]
     },
     "execution_count": 165,
     "metadata": {},
     "output_type": "execute_result"
    }
   ],
   "source": [
    "l = np.array(['car', 'goat'])\n",
    "np.random.choice(l)"
   ]
  },
  {
   "cell_type": "markdown",
   "metadata": {},
   "source": [
    "You can use the 'replace' argument in the random choice function to take something without replacement (if you enter in nothing it will default as replacement being True"
   ]
  },
  {
   "cell_type": "code",
   "execution_count": 166,
   "metadata": {},
   "outputs": [
    {
     "data": {
      "text/plain": [
       "'goat'"
      ]
     },
     "execution_count": 166,
     "metadata": {},
     "output_type": "execute_result"
    }
   ],
   "source": [
    "np.random.choice(l, replace=False)"
   ]
  },
  {
   "cell_type": "markdown",
   "metadata": {},
   "source": [
    "You can use the 'size' argument to select the size of the random choice you want to take from a list."
   ]
  },
  {
   "cell_type": "code",
   "execution_count": 167,
   "metadata": {},
   "outputs": [
    {
     "data": {
      "text/plain": [
       "array(['car', 'car'], dtype='<U4')"
      ]
     },
     "execution_count": 167,
     "metadata": {},
     "output_type": "execute_result"
    }
   ],
   "source": [
    "np.random.choice(l, size=2)"
   ]
  },
  {
   "cell_type": "markdown",
   "metadata": {},
   "source": [
    "Of course you can use both arguments if you wish."
   ]
  },
  {
   "cell_type": "code",
   "execution_count": 168,
   "metadata": {},
   "outputs": [
    {
     "data": {
      "text/plain": [
       "array(['goat', 'car'], dtype='<U4')"
      ]
     },
     "execution_count": 168,
     "metadata": {},
     "output_type": "execute_result"
    }
   ],
   "source": [
    "np.random.choice(l, size=2, replace=False)"
   ]
  },
  {
   "cell_type": "markdown",
   "metadata": {},
   "source": [
    "And of course you can feed this into a larger function."
   ]
  },
  {
   "cell_type": "code",
   "execution_count": 169,
   "metadata": {},
   "outputs": [],
   "source": [
    "def return_value(l):\n",
    "    x = np.random.choice(l)\n",
    "    return x"
   ]
  },
  {
   "cell_type": "code",
   "execution_count": 170,
   "metadata": {},
   "outputs": [
    {
     "data": {
      "text/plain": [
       "'first'"
      ]
     },
     "execution_count": 170,
     "metadata": {},
     "output_type": "execute_result"
    }
   ],
   "source": [
    "return_value(['first', 'second', 'third'])"
   ]
  },
  {
   "cell_type": "code",
   "execution_count": 171,
   "metadata": {},
   "outputs": [
    {
     "data": {
      "text/plain": [
       "'test'"
      ]
     },
     "execution_count": 171,
     "metadata": {},
     "output_type": "execute_result"
    }
   ],
   "source": [
    "return_value(['new', 'test', 'here'])"
   ]
  },
  {
   "cell_type": "markdown",
   "metadata": {},
   "source": [
    "## Poker\n",
    "\n",
    "Let's have some fun by using what we've learned this week and last to apply to simulated poker hands. We'll be using the classic '5-Card Draw' style, where players get 5 cards from a deck of 52.\n",
    "\n",
    "As you see below, there are 13 'value' cards, each of which have 4 suits (Hearts, Spades, Clubs, Diamonds) which make up the 52 cards total. The cards are numbered 2-10. There are then three 'face' cards - Jack, Queen, and King, as well as the Ace.\n",
    "\n",
    "We'll create our own deck below."
   ]
  },
  {
   "cell_type": "code",
   "execution_count": 172,
   "metadata": {},
   "outputs": [
    {
     "name": "stdout",
     "output_type": "stream",
     "text": [
      "['2♥', '2♦', '2♠', '2♣', '3♥', '3♦', '3♠', '3♣', '4♥', '4♦', '4♠', '4♣', '5♥', '5♦', '5♠', '5♣', '6♥', '6♦', '6♠', '6♣', '7♥', '7♦', '7♠', '7♣', '8♥', '8♦', '8♠', '8♣', '9♥', '9♦', '9♠', '9♣', '10♥', '10♦', '10♠', '10♣', 'J♥', 'J♦', 'J♠', 'J♣', 'Q♥', 'Q♦', 'Q♠', 'Q♣', 'K♥', 'K♦', 'K♠', 'K♣', 'A♥', 'A♦', 'A♠', 'A♣']\n"
     ]
    }
   ],
   "source": [
    "suits = ['♥','♦','♠','♣']\n",
    "values = ['2', '3', '4', '5', '6', '7', '8', '9', '10', 'J', 'Q', 'K', 'A']\n",
    "full_deck = []\n",
    "for i in values:\n",
    "    for j in suits:\n",
    "        full_deck.append(i + j)\n",
    "print(full_deck)"
   ]
  },
  {
   "cell_type": "markdown",
   "metadata": {},
   "source": [
    "Remember last week we reviewed list comprehension. We could use that here, also, if we wanted to see how many of a certain value was in our deck."
   ]
  },
  {
   "cell_type": "code",
   "execution_count": 173,
   "metadata": {},
   "outputs": [
    {
     "data": {
      "text/plain": [
       "['2♥', '2♦', '2♠', '2♣']"
      ]
     },
     "execution_count": 173,
     "metadata": {},
     "output_type": "execute_result"
    }
   ],
   "source": [
    "[i for i in full_deck if '2' in i]"
   ]
  },
  {
   "cell_type": "code",
   "execution_count": 174,
   "metadata": {},
   "outputs": [
    {
     "data": {
      "text/plain": [
       "['2♥', '3♥', '4♥', '5♥', '6♥', '7♥', '8♥', '9♥', '10♥', 'J♥', 'Q♥', 'K♥', 'A♥']"
      ]
     },
     "execution_count": 174,
     "metadata": {},
     "output_type": "execute_result"
    }
   ],
   "source": [
    "[i for i in full_deck if '♥' in i]"
   ]
  },
  {
   "cell_type": "code",
   "execution_count": 175,
   "metadata": {},
   "outputs": [
    {
     "data": {
      "text/plain": [
       "['2♥']"
      ]
     },
     "execution_count": 175,
     "metadata": {},
     "output_type": "execute_result"
    }
   ],
   "source": [
    "[i for i in full_deck if '2' in i and '♥' in i]"
   ]
  },
  {
   "cell_type": "code",
   "execution_count": 176,
   "metadata": {},
   "outputs": [
    {
     "data": {
      "text/plain": [
       "['2♥',\n",
       " '2♦',\n",
       " '2♠',\n",
       " '2♣',\n",
       " '3♥',\n",
       " '4♥',\n",
       " '5♥',\n",
       " '6♥',\n",
       " '7♥',\n",
       " '8♥',\n",
       " '9♥',\n",
       " '10♥',\n",
       " 'J♥',\n",
       " 'Q♥',\n",
       " 'K♥',\n",
       " 'A♥']"
      ]
     },
     "execution_count": 176,
     "metadata": {},
     "output_type": "execute_result"
    }
   ],
   "source": [
    "[i for i in full_deck if '2' in i or '♥' in i]"
   ]
  },
  {
   "cell_type": "markdown",
   "metadata": {},
   "source": [
    "Again, something to think about going forward. If we get 1,000 hands, how many of them will have a 4 in them?"
   ]
  },
  {
   "cell_type": "code",
   "execution_count": 177,
   "metadata": {},
   "outputs": [
    {
     "name": "stdout",
     "output_type": "stream",
     "text": [
      "A 4 is in our deck 277 times, or 0.277% of the time\n"
     ]
    }
   ],
   "source": [
    "count = 0\n",
    "for j in range(1000):\n",
    "    result = np.random.choice(full_deck, size=4, replace=False)\n",
    "    check = [i for i in result if '4' in i]\n",
    "    if len(check) > 0:\n",
    "        count += 1\n",
    "print('A 4 is in our deck', count, 'times, or',str(count/1000) + '%', 'of the time')"
   ]
  },
  {
   "cell_type": "markdown",
   "metadata": {},
   "source": [
    "Using loops like in the above example may be a helpful way of providing a sanity check for some of the answers below."
   ]
  },
  {
   "cell_type": "markdown",
   "metadata": {},
   "source": [
    "### Answer the questions below, using code where necessary."
   ]
  },
  {
   "cell_type": "markdown",
   "metadata": {},
   "source": [
    "0) How large is the full deck? How many cards of each suit are in the full deck?"
   ]
  },
  {
   "cell_type": "code",
   "execution_count": 178,
   "metadata": {},
   "outputs": [
    {
     "data": {
      "text/plain": [
       "52"
      ]
     },
     "execution_count": 178,
     "metadata": {},
     "output_type": "execute_result"
    }
   ],
   "source": [
    "len(full_deck)\n",
    "#In a full deck there is 52 Cards"
   ]
  },
  {
   "cell_type": "code",
   "execution_count": 179,
   "metadata": {},
   "outputs": [
    {
     "data": {
      "text/plain": [
       "13.0"
      ]
     },
     "execution_count": 179,
     "metadata": {},
     "output_type": "execute_result"
    }
   ],
   "source": [
    "len(full_deck)/len(suits)\n",
    "#There are 13 cards in each suit"
   ]
  },
  {
   "cell_type": "markdown",
   "metadata": {},
   "source": [
    "1) How many different five-card poker hands are there? (Order does not matter and cards are not replaceable)"
   ]
  },
  {
   "cell_type": "code",
   "execution_count": 180,
   "metadata": {},
   "outputs": [
    {
     "data": {
      "text/plain": [
       "2598960.0"
      ]
     },
     "execution_count": 180,
     "metadata": {},
     "output_type": "execute_result"
    }
   ],
   "source": [
    "comb(52,5)\n",
    "#There are 2598960 (Order does not matter)"
   ]
  },
  {
   "cell_type": "markdown",
   "metadata": {},
   "source": [
    "2) Say I give you one card from a shuffled deck of cards. What is the probability that it is a Heart?"
   ]
  },
  {
   "cell_type": "code",
   "execution_count": 181,
   "metadata": {},
   "outputs": [
    {
     "data": {
      "text/plain": [
       "25.0"
      ]
     },
     "execution_count": 181,
     "metadata": {},
     "output_type": "execute_result"
    }
   ],
   "source": [
    "(13/52)*100  \n",
    "#25% Chance of getting a Heart "
   ]
  },
  {
   "cell_type": "markdown",
   "metadata": {},
   "source": [
    "3) Say I give you one card from a shuffled deck of cards. What is the probability that it is a face card (K, Q, J)?  "
   ]
  },
  {
   "cell_type": "code",
   "execution_count": 182,
   "metadata": {},
   "outputs": [
    {
     "data": {
      "text/plain": [
       "23.076923076923077"
      ]
     },
     "execution_count": 182,
     "metadata": {},
     "output_type": "execute_result"
    }
   ],
   "source": [
    "((3*4)/52)*100\n",
    "#There is a 23% probability that the face of teh card is K,Q,J"
   ]
  },
  {
   "cell_type": "markdown",
   "metadata": {},
   "source": [
    "4) Say I give you one card from a shuffled deck of cards. What is the probability that it is a face card OR a Heart card?"
   ]
  },
  {
   "cell_type": "code",
   "execution_count": 183,
   "metadata": {},
   "outputs": [
    {
     "name": "stdout",
     "output_type": "stream",
     "text": [
      "23.076923076923077\n",
      "19.230769230769234\n",
      "42.307692307692314\n"
     ]
    }
   ],
   "source": [
    "a=(3*4)*(1/52)\n",
    "print(a*100)\n",
    "#There is a 23% chance that one card from the deck is a face\n",
    "b=(13-3)*(1/52)\n",
    "print(b*100)\n",
    "#There is a 19.2% chnace that the one card from the deck is a heart card\n",
    "Total = print((a+b)*100)\n",
    "#Prob of face OR Heart Card"
   ]
  },
  {
   "cell_type": "markdown",
   "metadata": {},
   "source": [
    "5) Say I give you one card from a shuffled deck of cards. What is the probability that it is a face card AND a heart card?"
   ]
  },
  {
   "cell_type": "code",
   "execution_count": 184,
   "metadata": {},
   "outputs": [
    {
     "data": {
      "text/plain": [
       "5.769230769230769"
      ]
     },
     "execution_count": 184,
     "metadata": {},
     "output_type": "execute_result"
    }
   ],
   "source": [
    "(3)*(1/52)*100\n",
    "#There is a 5.7% chance that it is both a heart and a face card"
   ]
  },
  {
   "cell_type": "markdown",
   "metadata": {},
   "source": [
    "6) Say I give you five cards from a shuffled deck of cards (so taken from the deck without replacement). What is the probability of you getting at least one '6' card? (**Hint:** Think of all of the combinations of cards that **don't** have a 6 in it and work backwards."
   ]
  },
  {
   "cell_type": "code",
   "execution_count": 185,
   "metadata": {},
   "outputs": [],
   "source": [
    "total=comb(52,5, repetition = False) #Total Deck"
   ]
  },
  {
   "cell_type": "code",
   "execution_count": 186,
   "metadata": {},
   "outputs": [],
   "source": [
    "a=comb(47,5, repetition = False) #W/o 6"
   ]
  },
  {
   "cell_type": "code",
   "execution_count": 187,
   "metadata": {},
   "outputs": [
    {
     "data": {
      "text/plain": [
       "0.40978737648905716"
      ]
     },
     "execution_count": 187,
     "metadata": {},
     "output_type": "execute_result"
    }
   ],
   "source": [
    "(total-a)/total"
   ]
  },
  {
   "cell_type": "markdown",
   "metadata": {},
   "source": [
    "One great hand in poker is a flush, which is when all of the cards in your hand have the same suit.  \n",
    "\n",
    "7) Say you are dealt the hand [3♠,6♠,7♠,J♠,5♥]. You ask to put the 5 of hearts aside and get a new card. What is the probability that the next card dealt to you is a spade? (*note the 5 of hearts is not going back into the deck!*)"
   ]
  },
  {
   "cell_type": "code",
   "execution_count": 188,
   "metadata": {},
   "outputs": [
    {
     "data": {
      "text/plain": [
       "19.148936170212767"
      ]
     },
     "execution_count": 188,
     "metadata": {},
     "output_type": "execute_result"
    }
   ],
   "source": [
    "a = 52-5 #how many cards left in the deck (47)\n",
    "b = 13-4 #In that deck of 47 there is now 9 spades left\n",
    "b/a*100\n",
    "#There is a 19% Chance that the player will get a spade."
   ]
  },
  {
   "cell_type": "markdown",
   "metadata": {},
   "source": [
    "8) You get the following hand: [4♥,4♣,8♣,8♠,K♥]. You ask to put the king aside and get a new card. What is the probability that the next card dealt to you is a 4 or an 8? (*note the King of Hearts isn't going back into the deck!)"
   ]
  },
  {
   "cell_type": "code",
   "execution_count": 189,
   "metadata": {},
   "outputs": [
    {
     "data": {
      "text/plain": [
       "8.51063829787234"
      ]
     },
     "execution_count": 189,
     "metadata": {},
     "output_type": "execute_result"
    }
   ],
   "source": [
    "52-5# Number left in the deck 45\n",
    "4-2# 2 is left of 4\n",
    "4-2# 2 is left for 4\n",
    "#Since it's or we have 2+2 = 4 cards left to get 4 or 8\n",
    "4/47*100\n",
    "#There's an 8.5% chance of getting 4 or 8 in the next card"
   ]
  },
  {
   "cell_type": "markdown",
   "metadata": {},
   "source": [
    "9) You get the following hand: [A♥,A♣,A♣,6♠,10♥]. You ask to put the 6 and 10 aside and get two new cards, in the hopes of getting either four of a kind (four Aces + one random card), or a full house (three aces and a pair of other cards). What are the odds of getting either a four of a kind or a full house? Keep in mind that you may need to subtract any hands that are double counted."
   ]
  },
  {
   "cell_type": "code",
   "execution_count": 190,
   "metadata": {},
   "outputs": [
    {
     "data": {
      "text/plain": [
       "1081.0"
      ]
     },
     "execution_count": 190,
     "metadata": {},
     "output_type": "execute_result"
    }
   ],
   "source": [
    "comb(47,2, repetition = False)"
   ]
  },
  {
   "cell_type": "code",
   "execution_count": 191,
   "metadata": {},
   "outputs": [
    {
     "data": {
      "text/plain": [
       "46.0"
      ]
     },
     "execution_count": 191,
     "metadata": {},
     "output_type": "execute_result"
    }
   ],
   "source": [
    "comb(46,1, repetition = False)"
   ]
  },
  {
   "cell_type": "code",
   "execution_count": 192,
   "metadata": {},
   "outputs": [
    {
     "data": {
      "text/plain": [
       "60.0"
      ]
     },
     "execution_count": 192,
     "metadata": {},
     "output_type": "execute_result"
    }
   ],
   "source": [
    "comb(4,2, repetition = False)*10"
   ]
  },
  {
   "cell_type": "code",
   "execution_count": 193,
   "metadata": {},
   "outputs": [
    {
     "data": {
      "text/plain": [
       "60.0"
      ]
     },
     "execution_count": 193,
     "metadata": {},
     "output_type": "execute_result"
    }
   ],
   "source": [
    "comb(4,2, repetition = False)*10"
   ]
  },
  {
   "cell_type": "code",
   "execution_count": 194,
   "metadata": {},
   "outputs": [
    {
     "data": {
      "text/plain": [
       "6.0"
      ]
     },
     "execution_count": 194,
     "metadata": {},
     "output_type": "execute_result"
    }
   ],
   "source": [
    "comb(3,2, repetition = False)*2"
   ]
  },
  {
   "cell_type": "code",
   "execution_count": 195,
   "metadata": {},
   "outputs": [
    {
     "data": {
      "text/plain": [
       "10.360777058279371"
      ]
     },
     "execution_count": 195,
     "metadata": {},
     "output_type": "execute_result"
    }
   ],
   "source": [
    "((6+60+46)/1081)*100"
   ]
  },
  {
   "cell_type": "markdown",
   "metadata": {},
   "source": [
    "10) What is the probability of getting a Full House from a draw of five random cards?"
   ]
  },
  {
   "cell_type": "code",
   "execution_count": 196,
   "metadata": {},
   "outputs": [
    {
     "data": {
      "text/plain": [
       "2598960.0"
      ]
     },
     "execution_count": 196,
     "metadata": {},
     "output_type": "execute_result"
    }
   ],
   "source": [
    "comb(52,5)"
   ]
  },
  {
   "cell_type": "code",
   "execution_count": 197,
   "metadata": {},
   "outputs": [
    {
     "data": {
      "text/plain": [
       "52.0"
      ]
     },
     "execution_count": 197,
     "metadata": {},
     "output_type": "execute_result"
    }
   ],
   "source": [
    "comb(4,3)*13"
   ]
  },
  {
   "cell_type": "code",
   "execution_count": 198,
   "metadata": {},
   "outputs": [
    {
     "data": {
      "text/plain": [
       "72.0"
      ]
     },
     "execution_count": 198,
     "metadata": {},
     "output_type": "execute_result"
    }
   ],
   "source": [
    "comb(4,2)*12"
   ]
  },
  {
   "cell_type": "code",
   "execution_count": 199,
   "metadata": {},
   "outputs": [
    {
     "data": {
      "text/plain": [
       "0.14405762304921968"
      ]
     },
     "execution_count": 199,
     "metadata": {},
     "output_type": "execute_result"
    }
   ],
   "source": [
    "((52*72)/2598960.0)*100"
   ]
  },
  {
   "cell_type": "markdown",
   "metadata": {},
   "source": [
    "11) What is the probability of getting four of a kind from a draw of five random cards?"
   ]
  },
  {
   "cell_type": "code",
   "execution_count": 200,
   "metadata": {},
   "outputs": [
    {
     "data": {
      "text/plain": [
       "2598960.0"
      ]
     },
     "execution_count": 200,
     "metadata": {},
     "output_type": "execute_result"
    }
   ],
   "source": [
    "comb(52,5)"
   ]
  },
  {
   "cell_type": "code",
   "execution_count": 201,
   "metadata": {},
   "outputs": [
    {
     "data": {
      "text/plain": [
       "13.0"
      ]
     },
     "execution_count": 201,
     "metadata": {},
     "output_type": "execute_result"
    }
   ],
   "source": [
    "comb(4,4)*13"
   ]
  },
  {
   "cell_type": "code",
   "execution_count": 202,
   "metadata": {},
   "outputs": [
    {
     "data": {
      "text/plain": [
       "48.0"
      ]
     },
     "execution_count": 202,
     "metadata": {},
     "output_type": "execute_result"
    }
   ],
   "source": [
    "comb(4,1)*12"
   ]
  },
  {
   "cell_type": "code",
   "execution_count": 203,
   "metadata": {},
   "outputs": [
    {
     "data": {
      "text/plain": [
       "0.024009603841536616"
      ]
     },
     "execution_count": 203,
     "metadata": {},
     "output_type": "execute_result"
    }
   ],
   "source": [
    "((13*48)/2598960.0)*100"
   ]
  },
  {
   "cell_type": "markdown",
   "metadata": {},
   "source": [
    "12) Create a Python function that returns a random card from the full deck of cards (you can use the list for a full deck of cards notated above)"
   ]
  },
  {
   "cell_type": "code",
   "execution_count": 204,
   "metadata": {},
   "outputs": [
    {
     "data": {
      "text/plain": [
       "'5♣'"
      ]
     },
     "execution_count": 204,
     "metadata": {},
     "output_type": "execute_result"
    }
   ],
   "source": [
    "def randomCard():\n",
    "    suits = ['♥','♦','♠','♣']\n",
    "    values = ['2', '3', '4', '5', '6', '7', '8', '9', '10', 'J', 'Q', 'K', 'A']\n",
    "    full_deck = []\n",
    "    for i in values:\n",
    "        for j in suits:\n",
    "            full_deck.append(i + j)\n",
    "\n",
    "return np.random.choice(full_deck)"
   ]
  },
  {
   "cell_type": "markdown",
   "metadata": {},
   "source": [
    "13) Create a Python function that returns a random hand of five from the full deck of cards (again you can use the list for a full deck of cards notated above)"
   ]
  },
  {
   "cell_type": "code",
   "execution_count": 205,
   "metadata": {},
   "outputs": [
    {
     "data": {
      "text/plain": [
       "array(['7♦', 'J♣', 'J♦', '3♠', '7♠'], dtype='<U3')"
      ]
     },
     "execution_count": 205,
     "metadata": {},
     "output_type": "execute_result"
    }
   ],
   "source": [
    "def randomCard5():\n",
    "    suits = ['♥','♦','♠','♣']\n",
    "    values = ['2', '3', '4', '5', '6', '7', '8', '9', '10', 'J', 'Q', 'K', 'A']\n",
    "    full_deck = []\n",
    "    for i in values:\n",
    "        for j in suits:\n",
    "            full_deck.append(i + j)\n",
    "\n",
    "return np.random.choice(full_deck, size=5)"
   ]
  },
  {
   "cell_type": "markdown",
   "metadata": {},
   "source": [
    "### Bayes' Theorem"
   ]
  },
  {
   "cell_type": "markdown",
   "metadata": {},
   "source": [
    "You go to see the doctor for your annual checkup. The doctor selects you at random to have\n",
    "a blood test for the Zika virus, which for the purposes of this exercise we will say is currently suspected\n",
    "to affect 1 in 10,000 people in the United States.  \n",
    "\n",
    "The test is 99% accurate, in the sense that the probability\n",
    "of a false positive is 1%. The probability of a false negative is zero. You test positive.  \n",
    "\n",
    "What is the new probability that you have the Zika virus?  \n",
    "\n",
    "Now imagine that you went to a friend’s wedding in Mexico recently, and (for the purposes of this\n",
    "exercise) it is know that 1 in 200 people who visited Mexico recently come back with the Zika virus.\n",
    "Given the same test result as above, what should your revised estimate be for the probability you\n",
    "have the disease?"
   ]
  },
  {
   "cell_type": "code",
   "execution_count": 206,
   "metadata": {},
   "outputs": [
    {
     "data": {
      "text/plain": [
       "0.010098000000000001"
      ]
     },
     "execution_count": 206,
     "metadata": {},
     "output_type": "execute_result"
    }
   ],
   "source": [
    "Alert = (0.99 * 0.0001) + (0.01 * 0.9999)\n",
    "Alert"
   ]
  },
  {
   "cell_type": "code",
   "execution_count": 207,
   "metadata": {},
   "outputs": [
    {
     "data": {
      "text/plain": [
       "0.9803921568627451"
      ]
     },
     "execution_count": 207,
     "metadata": {},
     "output_type": "execute_result"
    }
   ],
   "source": [
    "Pos_Alert = (0.99 * 0.0001) / (0.010098000000000001)\n",
    "Pos_Alert*100\n",
    "#I have a 0.98% chance of getting the zika virus"
   ]
  },
  {
   "cell_type": "code",
   "execution_count": 208,
   "metadata": {},
   "outputs": [
    {
     "data": {
      "text/plain": [
       "0.0149"
      ]
     },
     "execution_count": 208,
     "metadata": {},
     "output_type": "execute_result"
    }
   ],
   "source": [
    "New_Alert = (0.99 * 0.005) + (0.01 * 0.995) \n",
    "New_Alert"
   ]
  },
  {
   "cell_type": "code",
   "execution_count": 209,
   "metadata": {},
   "outputs": [
    {
     "data": {
      "text/plain": [
       "33.22147651006711"
      ]
     },
     "execution_count": 209,
     "metadata": {},
     "output_type": "execute_result"
    }
   ],
   "source": [
    "New_Pos_Alert = (0.99 * 0.005) / (0.0149)\n",
    "New_Pos_Alert*100\n",
    "#I have a 33.2% chance of getting the zika virus"
   ]
  },
  {
   "cell_type": "markdown",
   "metadata": {},
   "source": [
    "### Monty Hall"
   ]
  },
  {
   "cell_type": "markdown",
   "metadata": {},
   "source": [
    "Explain why you should always switch doors in the Monty Hall scenario we discussed during class."
   ]
  },
  {
   "cell_type": "markdown",
   "metadata": {},
   "source": [
    "In class we discused that if you don't switch you have 1/3 of a chance of winning, if you do you have 2/3 chance of winning. This is due to the conditional probability."
   ]
  }
 ],
 "metadata": {
  "kernelspec": {
   "display_name": "Python 3",
   "language": "python",
   "name": "python3"
  },
  "language_info": {
   "codemirror_mode": {
    "name": "ipython",
    "version": 3
   },
   "file_extension": ".py",
   "mimetype": "text/x-python",
   "name": "python",
   "nbconvert_exporter": "python",
   "pygments_lexer": "ipython3",
   "version": "3.7.1"
  }
 },
 "nbformat": 4,
 "nbformat_minor": 2
}
