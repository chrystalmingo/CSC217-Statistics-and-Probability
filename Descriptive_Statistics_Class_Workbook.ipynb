{
 "cells": [
  {
   "cell_type": "code",
   "execution_count": 3,
   "metadata": {},
   "outputs": [],
   "source": [
    "import pandas as pd\n",
    "import numpy as np\n",
    "import seaborn as sns\n",
    "import matplotlib.pyplot as plt\n",
    "%matplotlib inline"
   ]
  },
  {
   "cell_type": "markdown",
   "metadata": {},
   "source": [
    "## Part One - Extracting Data With Pandas\n",
    "\n",
    "As we discussed last week, the 'Read HTML' function in Pandas is an easy way to pull down tables from web pages. We'll be using Wikipedia for a lot of examples in class.\n",
    "\n",
    "Today we'll be looking at the Wikipedia page the median age of every country in the world.\n",
    "\n",
    "If you need to know more about a function in Python, you can type in a function with a question mark next to it to pull up its documentation (you can also Google the function). The question mark below will pull up the same info you can see at https://pandas.pydata.org/pandas-docs/version/0.23.4/generated/pandas.read_html.html"
   ]
  },
  {
   "cell_type": "code",
   "execution_count": 4,
   "metadata": {},
   "outputs": [],
   "source": [
    "pd.read_html?"
   ]
  },
  {
   "cell_type": "markdown",
   "metadata": {},
   "source": [
    "The Read HTML function only has one required argument, which is the URL of the page you want to scrape. It will return a **list of dataframes** from that page - essentially it will translate anything on a page that's structured as a table and return it as a **dataframe** to work with.\n",
    "\n",
    "Below we'll see that there are two dataframes in this list as per the len function, which gives us the length of a variable."
   ]
  },
  {
   "cell_type": "code",
   "execution_count": 5,
   "metadata": {},
   "outputs": [
    {
     "name": "stdout",
     "output_type": "stream",
     "text": [
      "2\n"
     ]
    }
   ],
   "source": [
    "tables = pd.read_html('https://en.wikipedia.org/wiki/List_of_countries_by_median_age')\n",
    "print(len(tables))"
   ]
  },
  {
   "cell_type": "code",
   "execution_count": 6,
   "metadata": {},
   "outputs": [
    {
     "data": {
      "text/html": [
       "<div>\n",
       "<style scoped>\n",
       "    .dataframe tbody tr th:only-of-type {\n",
       "        vertical-align: middle;\n",
       "    }\n",
       "\n",
       "    .dataframe tbody tr th {\n",
       "        vertical-align: top;\n",
       "    }\n",
       "\n",
       "    .dataframe thead th {\n",
       "        text-align: right;\n",
       "    }\n",
       "</style>\n",
       "<table border=\"1\" class=\"dataframe\">\n",
       "  <thead>\n",
       "    <tr style=\"text-align: right;\">\n",
       "      <th></th>\n",
       "      <th>0</th>\n",
       "      <th>1</th>\n",
       "      <th>2</th>\n",
       "      <th>3</th>\n",
       "      <th>4</th>\n",
       "    </tr>\n",
       "  </thead>\n",
       "  <tbody>\n",
       "    <tr>\n",
       "      <th>0</th>\n",
       "      <td>Country/Territory</td>\n",
       "      <td>Rank</td>\n",
       "      <td>Total(Year)</td>\n",
       "      <td>Male(Year)</td>\n",
       "      <td>Female (Year)</td>\n",
       "    </tr>\n",
       "    <tr>\n",
       "      <th>1</th>\n",
       "      <td>Afghanistan</td>\n",
       "      <td>208</td>\n",
       "      <td>18.8</td>\n",
       "      <td>18.8</td>\n",
       "      <td>18.9</td>\n",
       "    </tr>\n",
       "    <tr>\n",
       "      <th>2</th>\n",
       "      <td>Albania</td>\n",
       "      <td>95</td>\n",
       "      <td>32.9</td>\n",
       "      <td>31.6</td>\n",
       "      <td>34.3</td>\n",
       "    </tr>\n",
       "    <tr>\n",
       "      <th>3</th>\n",
       "      <td>Algeria</td>\n",
       "      <td>136</td>\n",
       "      <td>28.1</td>\n",
       "      <td>27.8</td>\n",
       "      <td>28.4</td>\n",
       "    </tr>\n",
       "    <tr>\n",
       "      <th>4</th>\n",
       "      <td>American Samoa</td>\n",
       "      <td>122</td>\n",
       "      <td>25.5</td>\n",
       "      <td>25.1</td>\n",
       "      <td>26.0</td>\n",
       "    </tr>\n",
       "    <tr>\n",
       "      <th>5</th>\n",
       "      <td>Andorra</td>\n",
       "      <td>10</td>\n",
       "      <td>44.3</td>\n",
       "      <td>44.4</td>\n",
       "      <td>44.1</td>\n",
       "    </tr>\n",
       "    <tr>\n",
       "      <th>6</th>\n",
       "      <td>Angola</td>\n",
       "      <td>214</td>\n",
       "      <td>15.9</td>\n",
       "      <td>15.4</td>\n",
       "      <td>16.3</td>\n",
       "    </tr>\n",
       "    <tr>\n",
       "      <th>7</th>\n",
       "      <td>Anguilla</td>\n",
       "      <td>79</td>\n",
       "      <td>34.8</td>\n",
       "      <td>32.9</td>\n",
       "      <td>36.7</td>\n",
       "    </tr>\n",
       "    <tr>\n",
       "      <th>8</th>\n",
       "      <td>Antigua and Barbuda</td>\n",
       "      <td>102</td>\n",
       "      <td>31.9</td>\n",
       "      <td>30.0</td>\n",
       "      <td>33.5</td>\n",
       "    </tr>\n",
       "    <tr>\n",
       "      <th>9</th>\n",
       "      <td>Argentina</td>\n",
       "      <td>105</td>\n",
       "      <td>31.7</td>\n",
       "      <td>30.5</td>\n",
       "      <td>32.9</td>\n",
       "    </tr>\n",
       "    <tr>\n",
       "      <th>10</th>\n",
       "      <td>Armenia</td>\n",
       "      <td>80</td>\n",
       "      <td>35.1</td>\n",
       "      <td>33.3</td>\n",
       "      <td>36.9</td>\n",
       "    </tr>\n",
       "    <tr>\n",
       "      <th>11</th>\n",
       "      <td>Aruba</td>\n",
       "      <td>55</td>\n",
       "      <td>39.3</td>\n",
       "      <td>37.5</td>\n",
       "      <td>41.1</td>\n",
       "    </tr>\n",
       "    <tr>\n",
       "      <th>12</th>\n",
       "      <td>Australia</td>\n",
       "      <td>58</td>\n",
       "      <td>38.7</td>\n",
       "      <td>37.9</td>\n",
       "      <td>39.5</td>\n",
       "    </tr>\n",
       "    <tr>\n",
       "      <th>13</th>\n",
       "      <td>Austria</td>\n",
       "      <td>13</td>\n",
       "      <td>44.0</td>\n",
       "      <td>42.8</td>\n",
       "      <td>45.1</td>\n",
       "    </tr>\n",
       "    <tr>\n",
       "      <th>14</th>\n",
       "      <td>Azerbaijan</td>\n",
       "      <td>107</td>\n",
       "      <td>31.3</td>\n",
       "      <td>29.8</td>\n",
       "      <td>33.0</td>\n",
       "    </tr>\n",
       "    <tr>\n",
       "      <th>15</th>\n",
       "      <td>The Bahamas</td>\n",
       "      <td>100</td>\n",
       "      <td>32.0</td>\n",
       "      <td>30.9</td>\n",
       "      <td>33.2</td>\n",
       "    </tr>\n",
       "    <tr>\n",
       "      <th>16</th>\n",
       "      <td>Bahrain</td>\n",
       "      <td>99</td>\n",
       "      <td>32.3</td>\n",
       "      <td>33.8</td>\n",
       "      <td>29.5</td>\n",
       "    </tr>\n",
       "    <tr>\n",
       "      <th>17</th>\n",
       "      <td>Bangladesh</td>\n",
       "      <td>148</td>\n",
       "      <td>26.7</td>\n",
       "      <td>26.0</td>\n",
       "      <td>27.3</td>\n",
       "    </tr>\n",
       "    <tr>\n",
       "      <th>18</th>\n",
       "      <td>Barbados</td>\n",
       "      <td>59</td>\n",
       "      <td>38.6</td>\n",
       "      <td>37.5</td>\n",
       "      <td>39.8</td>\n",
       "    </tr>\n",
       "    <tr>\n",
       "      <th>19</th>\n",
       "      <td>Belarus</td>\n",
       "      <td>51</td>\n",
       "      <td>40.0</td>\n",
       "      <td>37.1</td>\n",
       "      <td>43.1</td>\n",
       "    </tr>\n",
       "    <tr>\n",
       "      <th>20</th>\n",
       "      <td>Belgium</td>\n",
       "      <td>39</td>\n",
       "      <td>41.4</td>\n",
       "      <td>40.2</td>\n",
       "      <td>42.7</td>\n",
       "    </tr>\n",
       "    <tr>\n",
       "      <th>21</th>\n",
       "      <td>Belize</td>\n",
       "      <td>177</td>\n",
       "      <td>22.7</td>\n",
       "      <td>22.5</td>\n",
       "      <td>22.9</td>\n",
       "    </tr>\n",
       "    <tr>\n",
       "      <th>22</th>\n",
       "      <td>Benin</td>\n",
       "      <td>216</td>\n",
       "      <td>18.2</td>\n",
       "      <td>17.9</td>\n",
       "      <td>18.6</td>\n",
       "    </tr>\n",
       "    <tr>\n",
       "      <th>23</th>\n",
       "      <td>Bermuda</td>\n",
       "      <td>17</td>\n",
       "      <td>43.4</td>\n",
       "      <td>41.5</td>\n",
       "      <td>45.3</td>\n",
       "    </tr>\n",
       "    <tr>\n",
       "      <th>24</th>\n",
       "      <td>Bhutan</td>\n",
       "      <td>144</td>\n",
       "      <td>27.6</td>\n",
       "      <td>28.2</td>\n",
       "      <td>27.1</td>\n",
       "    </tr>\n",
       "    <tr>\n",
       "      <th>25</th>\n",
       "      <td>Bolivia</td>\n",
       "      <td>162</td>\n",
       "      <td>24.3</td>\n",
       "      <td>23.6</td>\n",
       "      <td>25.0</td>\n",
       "    </tr>\n",
       "    <tr>\n",
       "      <th>26</th>\n",
       "      <td>Bosnia and Herzegovina</td>\n",
       "      <td>32</td>\n",
       "      <td>42.1</td>\n",
       "      <td>40.5</td>\n",
       "      <td>43.5</td>\n",
       "    </tr>\n",
       "    <tr>\n",
       "      <th>27</th>\n",
       "      <td>Botswana</td>\n",
       "      <td>170</td>\n",
       "      <td>24.5</td>\n",
       "      <td>23.5</td>\n",
       "      <td>25.6</td>\n",
       "    </tr>\n",
       "    <tr>\n",
       "      <th>28</th>\n",
       "      <td>Brazil</td>\n",
       "      <td>103</td>\n",
       "      <td>32.0</td>\n",
       "      <td>31.1</td>\n",
       "      <td>32.8</td>\n",
       "    </tr>\n",
       "    <tr>\n",
       "      <th>29</th>\n",
       "      <td>British Virgin Islands</td>\n",
       "      <td>72</td>\n",
       "      <td>36.5</td>\n",
       "      <td>36.3</td>\n",
       "      <td>36.6</td>\n",
       "    </tr>\n",
       "    <tr>\n",
       "      <th>...</th>\n",
       "      <td>...</td>\n",
       "      <td>...</td>\n",
       "      <td>...</td>\n",
       "      <td>...</td>\n",
       "      <td>...</td>\n",
       "    </tr>\n",
       "    <tr>\n",
       "      <th>201</th>\n",
       "      <td>Tajikistan</td>\n",
       "      <td>160</td>\n",
       "      <td>24.5</td>\n",
       "      <td>23.9</td>\n",
       "      <td>25.1</td>\n",
       "    </tr>\n",
       "    <tr>\n",
       "      <th>202</th>\n",
       "      <td>Tanzania</td>\n",
       "      <td>220</td>\n",
       "      <td>17.7</td>\n",
       "      <td>17.5</td>\n",
       "      <td>18.0</td>\n",
       "    </tr>\n",
       "    <tr>\n",
       "      <th>203</th>\n",
       "      <td>Thailand</td>\n",
       "      <td>66</td>\n",
       "      <td>37.7</td>\n",
       "      <td>36.6</td>\n",
       "      <td>38.7</td>\n",
       "    </tr>\n",
       "    <tr>\n",
       "      <th>204</th>\n",
       "      <td>Timor-Leste</td>\n",
       "      <td>206</td>\n",
       "      <td>18.9</td>\n",
       "      <td>18.3</td>\n",
       "      <td>19.6</td>\n",
       "    </tr>\n",
       "    <tr>\n",
       "      <th>205</th>\n",
       "      <td>Togo</td>\n",
       "      <td>194</td>\n",
       "      <td>19.8</td>\n",
       "      <td>19.5</td>\n",
       "      <td>20.1</td>\n",
       "    </tr>\n",
       "    <tr>\n",
       "      <th>206</th>\n",
       "      <td>Tonga</td>\n",
       "      <td>176</td>\n",
       "      <td>23.0</td>\n",
       "      <td>22.5</td>\n",
       "      <td>23.4</td>\n",
       "    </tr>\n",
       "    <tr>\n",
       "      <th>207</th>\n",
       "      <td>Trinidad and Tobago</td>\n",
       "      <td>75</td>\n",
       "      <td>36.0</td>\n",
       "      <td>35.6</td>\n",
       "      <td>36.6</td>\n",
       "    </tr>\n",
       "    <tr>\n",
       "      <th>208</th>\n",
       "      <td>Tunisia</td>\n",
       "      <td>97</td>\n",
       "      <td>31.6</td>\n",
       "      <td>31.0</td>\n",
       "      <td>32.2</td>\n",
       "    </tr>\n",
       "    <tr>\n",
       "      <th>209</th>\n",
       "      <td>Turkey</td>\n",
       "      <td>110</td>\n",
       "      <td>30.9</td>\n",
       "      <td>30.5</td>\n",
       "      <td>31.4</td>\n",
       "    </tr>\n",
       "    <tr>\n",
       "      <th>210</th>\n",
       "      <td>Turkmenistan</td>\n",
       "      <td>142</td>\n",
       "      <td>27.9</td>\n",
       "      <td>27.5</td>\n",
       "      <td>28.4</td>\n",
       "    </tr>\n",
       "    <tr>\n",
       "      <th>211</th>\n",
       "      <td>Turks and Caicos Islands</td>\n",
       "      <td>92</td>\n",
       "      <td>33.3</td>\n",
       "      <td>33.6</td>\n",
       "      <td>33.0</td>\n",
       "    </tr>\n",
       "    <tr>\n",
       "      <th>212</th>\n",
       "      <td>Tuvalu</td>\n",
       "      <td>155</td>\n",
       "      <td>25.7</td>\n",
       "      <td>24.7</td>\n",
       "      <td>26.9</td>\n",
       "    </tr>\n",
       "    <tr>\n",
       "      <th>213</th>\n",
       "      <td>Uganda</td>\n",
       "      <td>229</td>\n",
       "      <td>15.8</td>\n",
       "      <td>15.7</td>\n",
       "      <td>15.9</td>\n",
       "    </tr>\n",
       "    <tr>\n",
       "      <th>214</th>\n",
       "      <td>Ukraine</td>\n",
       "      <td>48</td>\n",
       "      <td>40.6</td>\n",
       "      <td>37.4</td>\n",
       "      <td>43.7</td>\n",
       "    </tr>\n",
       "    <tr>\n",
       "      <th>215</th>\n",
       "      <td>United Arab Emirates</td>\n",
       "      <td>113</td>\n",
       "      <td>30.3</td>\n",
       "      <td>32.1</td>\n",
       "      <td>25.0</td>\n",
       "    </tr>\n",
       "    <tr>\n",
       "      <th>216</th>\n",
       "      <td>United Kingdom</td>\n",
       "      <td>50</td>\n",
       "      <td>40.5</td>\n",
       "      <td>39.3</td>\n",
       "      <td>41.7</td>\n",
       "    </tr>\n",
       "    <tr>\n",
       "      <th>217</th>\n",
       "      <td>United States</td>\n",
       "      <td>61</td>\n",
       "      <td>38.1</td>\n",
       "      <td>36.8</td>\n",
       "      <td>39.4</td>\n",
       "    </tr>\n",
       "    <tr>\n",
       "      <th>218</th>\n",
       "      <td>Uruguay</td>\n",
       "      <td>78</td>\n",
       "      <td>35.0</td>\n",
       "      <td>33.1</td>\n",
       "      <td>36.7</td>\n",
       "    </tr>\n",
       "    <tr>\n",
       "      <th>219</th>\n",
       "      <td>Uzbekistan</td>\n",
       "      <td>132</td>\n",
       "      <td>28.6</td>\n",
       "      <td>28.0</td>\n",
       "      <td>29.2</td>\n",
       "    </tr>\n",
       "    <tr>\n",
       "      <th>220</th>\n",
       "      <td>Vanuatu</td>\n",
       "      <td>181</td>\n",
       "      <td>22.0</td>\n",
       "      <td>21.6</td>\n",
       "      <td>22.4</td>\n",
       "    </tr>\n",
       "    <tr>\n",
       "      <th>221</th>\n",
       "      <td>Venezuela</td>\n",
       "      <td>134</td>\n",
       "      <td>28.3</td>\n",
       "      <td>27.6</td>\n",
       "      <td>29.0</td>\n",
       "    </tr>\n",
       "    <tr>\n",
       "      <th>222</th>\n",
       "      <td>Vietnam</td>\n",
       "      <td>114</td>\n",
       "      <td>30.5</td>\n",
       "      <td>29.4</td>\n",
       "      <td>31.7</td>\n",
       "    </tr>\n",
       "    <tr>\n",
       "      <th>223</th>\n",
       "      <td>Virgin Islands</td>\n",
       "      <td>44</td>\n",
       "      <td>41.0</td>\n",
       "      <td>39.9</td>\n",
       "      <td>41.9</td>\n",
       "    </tr>\n",
       "    <tr>\n",
       "      <th>224</th>\n",
       "      <td>Wallis and Futuna</td>\n",
       "      <td>104</td>\n",
       "      <td>32.2</td>\n",
       "      <td>31.3</td>\n",
       "      <td>33.4</td>\n",
       "    </tr>\n",
       "    <tr>\n",
       "      <th>225</th>\n",
       "      <td>West Bank</td>\n",
       "      <td>186</td>\n",
       "      <td>21.1</td>\n",
       "      <td>20.9</td>\n",
       "      <td>21.3</td>\n",
       "    </tr>\n",
       "    <tr>\n",
       "      <th>226</th>\n",
       "      <td>Western Sahara</td>\n",
       "      <td>183</td>\n",
       "      <td>21.1</td>\n",
       "      <td>20.9</td>\n",
       "      <td>21.3</td>\n",
       "    </tr>\n",
       "    <tr>\n",
       "      <th>227</th>\n",
       "      <td>World</td>\n",
       "      <td>115</td>\n",
       "      <td>30.4</td>\n",
       "      <td>29.6</td>\n",
       "      <td>31.1</td>\n",
       "    </tr>\n",
       "    <tr>\n",
       "      <th>228</th>\n",
       "      <td>Yemen</td>\n",
       "      <td>202</td>\n",
       "      <td>19.5</td>\n",
       "      <td>19.3</td>\n",
       "      <td>19.6</td>\n",
       "    </tr>\n",
       "    <tr>\n",
       "      <th>229</th>\n",
       "      <td>Zambia</td>\n",
       "      <td>226</td>\n",
       "      <td>16.8</td>\n",
       "      <td>16.6</td>\n",
       "      <td>16.9</td>\n",
       "    </tr>\n",
       "    <tr>\n",
       "      <th>230</th>\n",
       "      <td>Zimbabwe</td>\n",
       "      <td>189</td>\n",
       "      <td>20.0</td>\n",
       "      <td>19.6</td>\n",
       "      <td>20.4</td>\n",
       "    </tr>\n",
       "  </tbody>\n",
       "</table>\n",
       "<p>231 rows × 5 columns</p>\n",
       "</div>"
      ],
      "text/plain": [
       "                            0     1            2           3              4\n",
       "0           Country/Territory  Rank  Total(Year)  Male(Year)  Female (Year)\n",
       "1                 Afghanistan   208         18.8        18.8           18.9\n",
       "2                     Albania    95         32.9        31.6           34.3\n",
       "3                     Algeria   136         28.1        27.8           28.4\n",
       "4              American Samoa   122         25.5        25.1           26.0\n",
       "5                     Andorra    10         44.3        44.4           44.1\n",
       "6                      Angola   214         15.9        15.4           16.3\n",
       "7                    Anguilla    79         34.8        32.9           36.7\n",
       "8         Antigua and Barbuda   102         31.9        30.0           33.5\n",
       "9                   Argentina   105         31.7        30.5           32.9\n",
       "10                    Armenia    80         35.1        33.3           36.9\n",
       "11                      Aruba    55         39.3        37.5           41.1\n",
       "12                  Australia    58         38.7        37.9           39.5\n",
       "13                    Austria    13         44.0        42.8           45.1\n",
       "14                 Azerbaijan   107         31.3        29.8           33.0\n",
       "15                The Bahamas   100         32.0        30.9           33.2\n",
       "16                    Bahrain    99         32.3        33.8           29.5\n",
       "17                 Bangladesh   148         26.7        26.0           27.3\n",
       "18                   Barbados    59         38.6        37.5           39.8\n",
       "19                    Belarus    51         40.0        37.1           43.1\n",
       "20                    Belgium    39         41.4        40.2           42.7\n",
       "21                     Belize   177         22.7        22.5           22.9\n",
       "22                      Benin   216         18.2        17.9           18.6\n",
       "23                    Bermuda    17         43.4        41.5           45.3\n",
       "24                     Bhutan   144         27.6        28.2           27.1\n",
       "25                    Bolivia   162         24.3        23.6           25.0\n",
       "26     Bosnia and Herzegovina    32         42.1        40.5           43.5\n",
       "27                   Botswana   170         24.5        23.5           25.6\n",
       "28                     Brazil   103         32.0        31.1           32.8\n",
       "29     British Virgin Islands    72         36.5        36.3           36.6\n",
       "..                        ...   ...          ...         ...            ...\n",
       "201                Tajikistan   160         24.5        23.9           25.1\n",
       "202                  Tanzania   220         17.7        17.5           18.0\n",
       "203                  Thailand    66         37.7        36.6           38.7\n",
       "204               Timor-Leste   206         18.9        18.3           19.6\n",
       "205                      Togo   194         19.8        19.5           20.1\n",
       "206                     Tonga   176         23.0        22.5           23.4\n",
       "207       Trinidad and Tobago    75         36.0        35.6           36.6\n",
       "208                   Tunisia    97         31.6        31.0           32.2\n",
       "209                    Turkey   110         30.9        30.5           31.4\n",
       "210              Turkmenistan   142         27.9        27.5           28.4\n",
       "211  Turks and Caicos Islands    92         33.3        33.6           33.0\n",
       "212                    Tuvalu   155         25.7        24.7           26.9\n",
       "213                    Uganda   229         15.8        15.7           15.9\n",
       "214                   Ukraine    48         40.6        37.4           43.7\n",
       "215      United Arab Emirates   113         30.3        32.1           25.0\n",
       "216            United Kingdom    50         40.5        39.3           41.7\n",
       "217             United States    61         38.1        36.8           39.4\n",
       "218                   Uruguay    78         35.0        33.1           36.7\n",
       "219                Uzbekistan   132         28.6        28.0           29.2\n",
       "220                   Vanuatu   181         22.0        21.6           22.4\n",
       "221                 Venezuela   134         28.3        27.6           29.0\n",
       "222                   Vietnam   114         30.5        29.4           31.7\n",
       "223            Virgin Islands    44         41.0        39.9           41.9\n",
       "224         Wallis and Futuna   104         32.2        31.3           33.4\n",
       "225                 West Bank   186         21.1        20.9           21.3\n",
       "226            Western Sahara   183         21.1        20.9           21.3\n",
       "227                     World   115         30.4        29.6           31.1\n",
       "228                     Yemen   202         19.5        19.3           19.6\n",
       "229                    Zambia   226         16.8        16.6           16.9\n",
       "230                  Zimbabwe   189         20.0        19.6           20.4\n",
       "\n",
       "[231 rows x 5 columns]"
      ]
     },
     "execution_count": 6,
     "metadata": {},
     "output_type": "execute_result"
    }
   ],
   "source": [
    "tables[0]"
   ]
  },
  {
   "cell_type": "markdown",
   "metadata": {},
   "source": [
    "If we add a '0' in brackets after the function, we'll get the first dataframe in the list. (the head function after gives us the first five rows of the dataframe)\n",
    "\n",
    "Note that Python uses **0-based indexing** meaning that if you want to access the first item in a list, you reference it with **0** rather than **1**."
   ]
  },
  {
   "cell_type": "code",
   "execution_count": 7,
   "metadata": {},
   "outputs": [
    {
     "data": {
      "text/html": [
       "<div>\n",
       "<style scoped>\n",
       "    .dataframe tbody tr th:only-of-type {\n",
       "        vertical-align: middle;\n",
       "    }\n",
       "\n",
       "    .dataframe tbody tr th {\n",
       "        vertical-align: top;\n",
       "    }\n",
       "\n",
       "    .dataframe thead th {\n",
       "        text-align: right;\n",
       "    }\n",
       "</style>\n",
       "<table border=\"1\" class=\"dataframe\">\n",
       "  <thead>\n",
       "    <tr style=\"text-align: right;\">\n",
       "      <th></th>\n",
       "      <th>0</th>\n",
       "      <th>1</th>\n",
       "      <th>2</th>\n",
       "      <th>3</th>\n",
       "      <th>4</th>\n",
       "    </tr>\n",
       "  </thead>\n",
       "  <tbody>\n",
       "    <tr>\n",
       "      <th>0</th>\n",
       "      <td>Country/Territory</td>\n",
       "      <td>Rank</td>\n",
       "      <td>Total(Year)</td>\n",
       "      <td>Male(Year)</td>\n",
       "      <td>Female (Year)</td>\n",
       "    </tr>\n",
       "    <tr>\n",
       "      <th>1</th>\n",
       "      <td>Afghanistan</td>\n",
       "      <td>208</td>\n",
       "      <td>18.8</td>\n",
       "      <td>18.8</td>\n",
       "      <td>18.9</td>\n",
       "    </tr>\n",
       "    <tr>\n",
       "      <th>2</th>\n",
       "      <td>Albania</td>\n",
       "      <td>95</td>\n",
       "      <td>32.9</td>\n",
       "      <td>31.6</td>\n",
       "      <td>34.3</td>\n",
       "    </tr>\n",
       "    <tr>\n",
       "      <th>3</th>\n",
       "      <td>Algeria</td>\n",
       "      <td>136</td>\n",
       "      <td>28.1</td>\n",
       "      <td>27.8</td>\n",
       "      <td>28.4</td>\n",
       "    </tr>\n",
       "    <tr>\n",
       "      <th>4</th>\n",
       "      <td>American Samoa</td>\n",
       "      <td>122</td>\n",
       "      <td>25.5</td>\n",
       "      <td>25.1</td>\n",
       "      <td>26.0</td>\n",
       "    </tr>\n",
       "  </tbody>\n",
       "</table>\n",
       "</div>"
      ],
      "text/plain": [
       "                   0     1            2           3              4\n",
       "0  Country/Territory  Rank  Total(Year)  Male(Year)  Female (Year)\n",
       "1        Afghanistan   208         18.8        18.8           18.9\n",
       "2            Albania    95         32.9        31.6           34.3\n",
       "3            Algeria   136         28.1        27.8           28.4\n",
       "4     American Samoa   122         25.5        25.1           26.0"
      ]
     },
     "execution_count": 7,
     "metadata": {},
     "output_type": "execute_result"
    }
   ],
   "source": [
    "pd.read_html('https://en.wikipedia.org/wiki/List_of_countries_by_median_age')[0].head()"
   ]
  },
  {
   "cell_type": "markdown",
   "metadata": {},
   "source": [
    "We can turn the first row into column headers by adding the 'header' argument with the number of the row we want to use as the header."
   ]
  },
  {
   "cell_type": "code",
   "execution_count": 8,
   "metadata": {},
   "outputs": [
    {
     "data": {
      "text/html": [
       "<div>\n",
       "<style scoped>\n",
       "    .dataframe tbody tr th:only-of-type {\n",
       "        vertical-align: middle;\n",
       "    }\n",
       "\n",
       "    .dataframe tbody tr th {\n",
       "        vertical-align: top;\n",
       "    }\n",
       "\n",
       "    .dataframe thead th {\n",
       "        text-align: right;\n",
       "    }\n",
       "</style>\n",
       "<table border=\"1\" class=\"dataframe\">\n",
       "  <thead>\n",
       "    <tr style=\"text-align: right;\">\n",
       "      <th></th>\n",
       "      <th>Country/Territory</th>\n",
       "      <th>Rank</th>\n",
       "      <th>Total(Year)</th>\n",
       "      <th>Male(Year)</th>\n",
       "      <th>Female (Year)</th>\n",
       "    </tr>\n",
       "  </thead>\n",
       "  <tbody>\n",
       "    <tr>\n",
       "      <th>0</th>\n",
       "      <td>Afghanistan</td>\n",
       "      <td>208</td>\n",
       "      <td>18.8</td>\n",
       "      <td>18.8</td>\n",
       "      <td>18.9</td>\n",
       "    </tr>\n",
       "    <tr>\n",
       "      <th>1</th>\n",
       "      <td>Albania</td>\n",
       "      <td>95</td>\n",
       "      <td>32.9</td>\n",
       "      <td>31.6</td>\n",
       "      <td>34.3</td>\n",
       "    </tr>\n",
       "    <tr>\n",
       "      <th>2</th>\n",
       "      <td>Algeria</td>\n",
       "      <td>136</td>\n",
       "      <td>28.1</td>\n",
       "      <td>27.8</td>\n",
       "      <td>28.4</td>\n",
       "    </tr>\n",
       "    <tr>\n",
       "      <th>3</th>\n",
       "      <td>American Samoa</td>\n",
       "      <td>122</td>\n",
       "      <td>25.5</td>\n",
       "      <td>25.1</td>\n",
       "      <td>26.0</td>\n",
       "    </tr>\n",
       "    <tr>\n",
       "      <th>4</th>\n",
       "      <td>Andorra</td>\n",
       "      <td>10</td>\n",
       "      <td>44.3</td>\n",
       "      <td>44.4</td>\n",
       "      <td>44.1</td>\n",
       "    </tr>\n",
       "  </tbody>\n",
       "</table>\n",
       "</div>"
      ],
      "text/plain": [
       "  Country/Territory  Rank  Total(Year)  Male(Year)  Female (Year)\n",
       "0       Afghanistan   208         18.8        18.8           18.9\n",
       "1           Albania    95         32.9        31.6           34.3\n",
       "2           Algeria   136         28.1        27.8           28.4\n",
       "3    American Samoa   122         25.5        25.1           26.0\n",
       "4           Andorra    10         44.3        44.4           44.1"
      ]
     },
     "execution_count": 8,
     "metadata": {},
     "output_type": "execute_result"
    }
   ],
   "source": [
    "pd.read_html('https://en.wikipedia.org/wiki/List_of_countries_by_median_age', header=0)[0].head()"
   ]
  },
  {
   "cell_type": "markdown",
   "metadata": {},
   "source": [
    "Now we can turn this into a local dataframe and work with it!"
   ]
  },
  {
   "cell_type": "code",
   "execution_count": 9,
   "metadata": {},
   "outputs": [],
   "source": [
    "df = pd.read_html('https://en.wikipedia.org/wiki/List_of_countries_by_median_age', header=0)[0]"
   ]
  },
  {
   "cell_type": "markdown",
   "metadata": {},
   "source": [
    "### Extreme Crash Course in Dataframes"
   ]
  },
  {
   "cell_type": "code",
   "execution_count": 10,
   "metadata": {},
   "outputs": [
    {
     "data": {
      "text/plain": [
       "(230, 5)"
      ]
     },
     "execution_count": 10,
     "metadata": {},
     "output_type": "execute_result"
    }
   ],
   "source": [
    "#Get the dimensions of a DataFrame\n",
    "df.shape"
   ]
  },
  {
   "cell_type": "code",
   "execution_count": 11,
   "metadata": {},
   "outputs": [
    {
     "data": {
      "text/plain": [
       "Index(['Country/Territory', 'Rank', 'Total(Year)', 'Male(Year)',\n",
       "       'Female (Year)'],\n",
       "      dtype='object')"
      ]
     },
     "execution_count": 11,
     "metadata": {},
     "output_type": "execute_result"
    }
   ],
   "source": [
    "#Get the columns in a DataFrame\n",
    "df.columns"
   ]
  },
  {
   "cell_type": "code",
   "execution_count": 12,
   "metadata": {},
   "outputs": [
    {
     "data": {
      "text/plain": [
       "Country/Territory     object\n",
       "Rank                   int64\n",
       "Total(Year)          float64\n",
       "Male(Year)           float64\n",
       "Female (Year)        float64\n",
       "dtype: object"
      ]
     },
     "execution_count": 12,
     "metadata": {},
     "output_type": "execute_result"
    }
   ],
   "source": [
    "#Get the datatype of each column in a Dataframe\n",
    "df.dtypes"
   ]
  },
  {
   "cell_type": "code",
   "execution_count": 13,
   "metadata": {},
   "outputs": [
    {
     "data": {
      "text/plain": [
       "0       Afghanistan\n",
       "1           Albania\n",
       "2           Algeria\n",
       "3    American Samoa\n",
       "4           Andorra\n",
       "Name: Country/Territory, dtype: object"
      ]
     },
     "execution_count": 13,
     "metadata": {},
     "output_type": "execute_result"
    }
   ],
   "source": [
    "#Extract a column in a Dataframe as a Series\n",
    "df['Country/Territory'].head()"
   ]
  },
  {
   "cell_type": "code",
   "execution_count": 14,
   "metadata": {},
   "outputs": [
    {
     "data": {
      "text/html": [
       "<div>\n",
       "<style scoped>\n",
       "    .dataframe tbody tr th:only-of-type {\n",
       "        vertical-align: middle;\n",
       "    }\n",
       "\n",
       "    .dataframe tbody tr th {\n",
       "        vertical-align: top;\n",
       "    }\n",
       "\n",
       "    .dataframe thead th {\n",
       "        text-align: right;\n",
       "    }\n",
       "</style>\n",
       "<table border=\"1\" class=\"dataframe\">\n",
       "  <thead>\n",
       "    <tr style=\"text-align: right;\">\n",
       "      <th></th>\n",
       "      <th>Country/Territory</th>\n",
       "      <th>Rank</th>\n",
       "    </tr>\n",
       "  </thead>\n",
       "  <tbody>\n",
       "    <tr>\n",
       "      <th>0</th>\n",
       "      <td>Afghanistan</td>\n",
       "      <td>208</td>\n",
       "    </tr>\n",
       "    <tr>\n",
       "      <th>1</th>\n",
       "      <td>Albania</td>\n",
       "      <td>95</td>\n",
       "    </tr>\n",
       "    <tr>\n",
       "      <th>2</th>\n",
       "      <td>Algeria</td>\n",
       "      <td>136</td>\n",
       "    </tr>\n",
       "    <tr>\n",
       "      <th>3</th>\n",
       "      <td>American Samoa</td>\n",
       "      <td>122</td>\n",
       "    </tr>\n",
       "    <tr>\n",
       "      <th>4</th>\n",
       "      <td>Andorra</td>\n",
       "      <td>10</td>\n",
       "    </tr>\n",
       "  </tbody>\n",
       "</table>\n",
       "</div>"
      ],
      "text/plain": [
       "  Country/Territory  Rank\n",
       "0       Afghanistan   208\n",
       "1           Albania    95\n",
       "2           Algeria   136\n",
       "3    American Samoa   122\n",
       "4           Andorra    10"
      ]
     },
     "execution_count": 14,
     "metadata": {},
     "output_type": "execute_result"
    }
   ],
   "source": [
    "#Extract multiple columns in a Dataframe as a new Dataframe\n",
    "df[['Country/Territory', 'Rank']].head()"
   ]
  },
  {
   "cell_type": "markdown",
   "metadata": {},
   "source": [
    "## Part Two - Data Visualization"
   ]
  },
  {
   "cell_type": "markdown",
   "metadata": {},
   "source": [
    "Now that we've seen our way around Pandas, we can look at some actual data using the techniques and metrics we saw in the lecture.\n",
    "\n",
    "The 'Total(Year)' column in our dataframe is the median age for every country in the world. Let's see what the distribution is like and find out more about it.\n",
    "\n",
    "First, let's plot a histogram to see the distribution using Seaborn and Matplotlib. Matplotlib is a core Python visualization library while Seaborn is a package built on top of it. You could go a mile deep into what these two packages are capable of, as you'll see in the readings this week. We want to keep it simple without it getting overwhelming for now. We'll learn the new tools as we need them."
   ]
  },
  {
   "cell_type": "code",
   "execution_count": 15,
   "metadata": {},
   "outputs": [
    {
     "data": {
      "text/plain": [
       "(array([28., 27., 29., 33., 28., 24., 25., 32.,  3.,  1.]),\n",
       " array([15.4 , 19.17, 22.94, 26.71, 30.48, 34.25, 38.02, 41.79, 45.56,\n",
       "        49.33, 53.1 ]),\n",
       " <a list of 10 Patch objects>)"
      ]
     },
     "execution_count": 15,
     "metadata": {},
     "output_type": "execute_result"
    },
    {
     "data": {
      "image/png": "[encoded data removed]",
      "text/plain": [
       "<Figure size 360x360 with 1 Axes>"
      ]
     },
     "metadata": {
      "needs_background": "light"
     },
     "output_type": "display_data"
    }
   ],
   "source": [
    "#Plot a Histogram - The Fig Line is to Make the Graph Bigger\n",
    "fig = plt.figure(figsize=(5,5))\n",
    "plt.hist(df['Total(Year)'])"
   ]
  },
  {
   "cell_type": "markdown",
   "metadata": {},
   "source": [
    "Looks like the median ages of countries are pretty evenly dispersed between ages 15 and 45, with a few countries that might have a higher age."
   ]
  },
  {
   "cell_type": "code",
   "execution_count": 16,
   "metadata": {},
   "outputs": [
    {
     "data": {
      "text/plain": [
       "<matplotlib.axes._subplots.AxesSubplot at 0x1a259d4e80>"
      ]
     },
     "execution_count": 16,
     "metadata": {},
     "output_type": "execute_result"
    },
    {
     "data": {
      "image/png": "[encoded data removed]",
      "text/plain": [
       "<Figure size 720x720 with 1 Axes>"
      ]
     },
     "metadata": {
      "needs_background": "light"
     },
     "output_type": "display_data"
    }
   ],
   "source": [
    "#Plot a Swarmplot\n",
    "fig = plt.figure(figsize=(10,10))\n",
    "sns.swarmplot(data=df['Total(Year)'])"
   ]
  },
  {
   "cell_type": "markdown",
   "metadata": {},
   "source": [
    "The swarmplot shows us that there's a country with an age between 50 and 55 that really sticks out."
   ]
  },
  {
   "cell_type": "code",
   "execution_count": 17,
   "metadata": {},
   "outputs": [
    {
     "data": {
      "image/png": "[encoded data removed]",
      "text/plain": [
       "<Figure size 720x720 with 1 Axes>"
      ]
     },
     "metadata": {
      "needs_background": "light"
     },
     "output_type": "display_data"
    }
   ],
   "source": [
    "#Plot an ECDF\n",
    "fig = plt.figure(figsize=(10,10))\n",
    "n,bins,patches = plt.hist(df['Total(Year)'], cumulative=True, bins=50, density=True, histtype='step');\n",
    "#This extra line removes the final line from the graph\n",
    "patches[0].set_xy(patches[0].get_xy()[:-1])"
   ]
  },
  {
   "cell_type": "markdown",
   "metadata": {},
   "source": [
    " The ECDF also confirms that the distribution is relatively uniform up through age 45."
   ]
  },
  {
   "cell_type": "code",
   "execution_count": 18,
   "metadata": {},
   "outputs": [
    {
     "data": {
      "text/plain": [
       "{'whiskers': [<matplotlib.lines.Line2D at 0x1a25e6ae10>,\n",
       "  <matplotlib.lines.Line2D at 0x1a25fcd470>],\n",
       " 'caps': [<matplotlib.lines.Line2D at 0x1a25fcd7f0>,\n",
       "  <matplotlib.lines.Line2D at 0x1a25fcdb38>],\n",
       " 'boxes': [<matplotlib.lines.Line2D at 0x1a25e6acc0>],\n",
       " 'medians': [<matplotlib.lines.Line2D at 0x1a25fcde80>],\n",
       " 'fliers': [<matplotlib.lines.Line2D at 0x1a25fcdf60>],\n",
       " 'means': []}"
      ]
     },
     "execution_count": 18,
     "metadata": {},
     "output_type": "execute_result"
    },
    {
     "data": {
      "image/png": "[encoded data removed]",
      "text/plain": [
       "<Figure size 720x720 with 1 Axes>"
      ]
     },
     "metadata": {
      "needs_background": "light"
     },
     "output_type": "display_data"
    }
   ],
   "source": [
    "#Plot a Boxplot\n",
    "fig = plt.figure(figsize=(10,10))\n",
    "plt.boxplot(df['Total(Year)'])"
   ]
  },
  {
   "cell_type": "markdown",
   "metadata": {},
   "source": [
    "The boxplot shows that the country with the median age of 55 isn't officially considered an outlier.\n",
    "\n",
    "Hopefully you can see how using multiple visualizations can give you a more complete understanding of your distribution!"
   ]
  },
  {
   "cell_type": "markdown",
   "metadata": {},
   "source": [
    "## Part Three - Summary Statistics"
   ]
  },
  {
   "cell_type": "markdown",
   "metadata": {},
   "source": [
    "First, let's get the mean and median values of our dataset."
   ]
  },
  {
   "cell_type": "code",
   "execution_count": 19,
   "metadata": {},
   "outputs": [
    {
     "data": {
      "text/plain": [
       "30.738695652173924"
      ]
     },
     "execution_count": 19,
     "metadata": {},
     "output_type": "execute_result"
    }
   ],
   "source": [
    "#Mean\n",
    "np.mean(df['Total(Year)'])"
   ]
  },
  {
   "cell_type": "code",
   "execution_count": 20,
   "metadata": {},
   "outputs": [
    {
     "data": {
      "text/plain": [
       "30.3"
      ]
     },
     "execution_count": 20,
     "metadata": {},
     "output_type": "execute_result"
    }
   ],
   "source": [
    "#Median\n",
    "np.median(df['Total(Year)'])"
   ]
  },
  {
   "cell_type": "markdown",
   "metadata": {},
   "source": [
    "The mean and the median being close make sense, since the data is fairly evenly distributed (had the data been highly skewed, the mean and the median would be further apart).\n",
    "\n",
    "Now let's look at the variance and standard deviation."
   ]
  },
  {
   "cell_type": "code",
   "execution_count": 21,
   "metadata": {},
   "outputs": [
    {
     "data": {
      "text/plain": [
       "78.67019829867668"
      ]
     },
     "execution_count": 21,
     "metadata": {},
     "output_type": "execute_result"
    }
   ],
   "source": [
    "#Variance\n",
    "np.var(df['Total(Year)'])"
   ]
  },
  {
   "cell_type": "code",
   "execution_count": 22,
   "metadata": {},
   "outputs": [
    {
     "data": {
      "text/plain": [
       "8.869622218486912"
      ]
     },
     "execution_count": 22,
     "metadata": {},
     "output_type": "execute_result"
    }
   ],
   "source": [
    "#Standard Deviation\n",
    "np.std(df['Total(Year)'])"
   ]
  },
  {
   "cell_type": "markdown",
   "metadata": {},
   "source": [
    "These numbers don't really provide much information by themselves."
   ]
  },
  {
   "cell_type": "code",
   "execution_count": 23,
   "metadata": {},
   "outputs": [
    {
     "data": {
      "text/plain": [
       "8.869622218486912"
      ]
     },
     "execution_count": 23,
     "metadata": {},
     "output_type": "execute_result"
    }
   ],
   "source": [
    "np.sqrt(np.var(df['Total(Year)']))"
   ]
  },
  {
   "cell_type": "markdown",
   "metadata": {},
   "source": [
    "Here we can see that the square root of the variance is indeed the standard deviation."
   ]
  },
  {
   "cell_type": "code",
   "execution_count": 24,
   "metadata": {},
   "outputs": [
    {
     "name": "stdout",
     "output_type": "stream",
     "text": [
      "78.67019829867668\n"
     ]
    }
   ],
   "source": [
    "total_variance = 0\n",
    "for i in df['Total(Year)']:\n",
    "    x = np.power(i - df['Total(Year)'].mean(), 2)\n",
    "    total_variance += x\n",
    "print(total_variance/len(df['Total(Year)']))"
   ]
  },
  {
   "cell_type": "markdown",
   "metadata": {},
   "source": [
    "For those curious, above is the variance executed by 'hand'"
   ]
  },
  {
   "cell_type": "code",
   "execution_count": 25,
   "metadata": {},
   "outputs": [
    {
     "data": {
      "text/plain": [
       "53.1"
      ]
     },
     "execution_count": 25,
     "metadata": {},
     "output_type": "execute_result"
    }
   ],
   "source": [
    "#Maximum\n",
    "np.max(df['Total(Year)'])"
   ]
  },
  {
   "cell_type": "code",
   "execution_count": 26,
   "metadata": {},
   "outputs": [
    {
     "data": {
      "text/plain": [
       "15.4"
      ]
     },
     "execution_count": 26,
     "metadata": {},
     "output_type": "execute_result"
    }
   ],
   "source": [
    "#Minimum\n",
    "np.min(df['Total(Year)'])"
   ]
  },
  {
   "cell_type": "code",
   "execution_count": 27,
   "metadata": {},
   "outputs": [
    {
     "data": {
      "text/plain": [
       "37.7"
      ]
     },
     "execution_count": 27,
     "metadata": {},
     "output_type": "execute_result"
    }
   ],
   "source": [
    "#Range\n",
    "np.max(df['Total(Year)']) - np.min(df['Total(Year)'])"
   ]
  },
  {
   "cell_type": "markdown",
   "metadata": {},
   "source": [
    "Above is the maximum, minimum, and range."
   ]
  },
  {
   "cell_type": "code",
   "execution_count": 28,
   "metadata": {},
   "outputs": [
    {
     "data": {
      "text/plain": [
       "23.0"
      ]
     },
     "execution_count": 28,
     "metadata": {},
     "output_type": "execute_result"
    }
   ],
   "source": [
    "#First Quartile\n",
    "np.percentile(df['Total(Year)'], q=25)"
   ]
  },
  {
   "cell_type": "code",
   "execution_count": 29,
   "metadata": {},
   "outputs": [
    {
     "data": {
      "text/plain": [
       "30.3"
      ]
     },
     "execution_count": 29,
     "metadata": {},
     "output_type": "execute_result"
    }
   ],
   "source": [
    "#Second Quartile\n",
    "np.percentile(df['Total(Year)'], q=50)"
   ]
  },
  {
   "cell_type": "code",
   "execution_count": 30,
   "metadata": {},
   "outputs": [
    {
     "data": {
      "text/plain": [
       "38.675000000000004"
      ]
     },
     "execution_count": 30,
     "metadata": {},
     "output_type": "execute_result"
    }
   ],
   "source": [
    "#Third Quartile\n",
    "np.percentile(df['Total(Year)'], q=75)"
   ]
  },
  {
   "cell_type": "code",
   "execution_count": 31,
   "metadata": {},
   "outputs": [
    {
     "data": {
      "text/plain": [
       "15.675000000000004"
      ]
     },
     "execution_count": 31,
     "metadata": {},
     "output_type": "execute_result"
    }
   ],
   "source": [
    "#Interquartile Range\n",
    "np.percentile(df['Total(Year)'], q=75) - np.percentile(df['Total(Year)'], q=25)"
   ]
  },
  {
   "cell_type": "markdown",
   "metadata": {},
   "source": [
    "Above are the first, second, and third quartiles. A few things here:\n",
    "\n",
    "* Note that the value of the second quartile is equivalent to the median which we found earlier.\n",
    "* Note that the difference between the first quartile and second quartile and the difference between the second quratile and third quartile are pretty close to each other, confirming that the data is pretty evenly distributed between these quartiles. The difference between the minimum value and the first quartile is also pretty close these values, however the diference between the third quartile and the maximum value is slightly larger than these, confirming our visual understanding that this distribution is fairly uniform besides a few high outliers."
   ]
  },
  {
   "cell_type": "markdown",
   "metadata": {},
   "source": [
    "Note that below it the unofficial equation for what constitutes a cutoff - anything above this value is technically an outlier."
   ]
  },
  {
   "cell_type": "code",
   "execution_count": 32,
   "metadata": {},
   "outputs": [
    {
     "data": {
      "text/plain": [
       "62.187500000000014"
      ]
     },
     "execution_count": 32,
     "metadata": {},
     "output_type": "execute_result"
    }
   ],
   "source": [
    "np.percentile(df['Total(Year)'], q=75) + (np.percentile(df['Total(Year)'], q=75) - np.percentile(df['Total(Year)'], q=25)) * 1.5"
   ]
  },
  {
   "cell_type": "markdown",
   "metadata": {},
   "source": [
    "And anything below this value is techincally an outlier. Obviously someone's age can't be negative, so this measure isn't perfect in this case."
   ]
  },
  {
   "cell_type": "code",
   "execution_count": 33,
   "metadata": {},
   "outputs": [
    {
     "data": {
      "text/plain": [
       "-0.5125000000000064"
      ]
     },
     "execution_count": 33,
     "metadata": {},
     "output_type": "execute_result"
    }
   ],
   "source": [
    "np.percentile(df['Total(Year)'], q=25) - (np.percentile(df['Total(Year)'], q=75) - np.percentile(df['Total(Year)'], q=25)) * 1.5"
   ]
  },
  {
   "cell_type": "markdown",
   "metadata": {},
   "source": [
    "## Part Four - Pandas Wrangling"
   ]
  },
  {
   "cell_type": "markdown",
   "metadata": {},
   "source": [
    "Now we can do some brief Pandas wrangling to find out a few things. First we can see which country had the highest median age."
   ]
  },
  {
   "cell_type": "code",
   "execution_count": 34,
   "metadata": {},
   "outputs": [
    {
     "data": {
      "text/html": [
       "<div>\n",
       "<style scoped>\n",
       "    .dataframe tbody tr th:only-of-type {\n",
       "        vertical-align: middle;\n",
       "    }\n",
       "\n",
       "    .dataframe tbody tr th {\n",
       "        vertical-align: top;\n",
       "    }\n",
       "\n",
       "    .dataframe thead th {\n",
       "        text-align: right;\n",
       "    }\n",
       "</style>\n",
       "<table border=\"1\" class=\"dataframe\">\n",
       "  <thead>\n",
       "    <tr style=\"text-align: right;\">\n",
       "      <th></th>\n",
       "      <th>Country/Territory</th>\n",
       "      <th>Rank</th>\n",
       "      <th>Total(Year)</th>\n",
       "      <th>Male(Year)</th>\n",
       "      <th>Female (Year)</th>\n",
       "    </tr>\n",
       "  </thead>\n",
       "  <tbody>\n",
       "    <tr>\n",
       "      <th>137</th>\n",
       "      <td>Monaco</td>\n",
       "      <td>1</td>\n",
       "      <td>53.1</td>\n",
       "      <td>51.7</td>\n",
       "      <td>54.5</td>\n",
       "    </tr>\n",
       "  </tbody>\n",
       "</table>\n",
       "</div>"
      ],
      "text/plain": [
       "    Country/Territory  Rank  Total(Year)  Male(Year)  Female (Year)\n",
       "137            Monaco     1         53.1        51.7           54.5"
      ]
     },
     "execution_count": 34,
     "metadata": {},
     "output_type": "execute_result"
    }
   ],
   "source": [
    "df[df['Total(Year)'] == np.max(df['Total(Year)'])]"
   ]
  },
  {
   "cell_type": "markdown",
   "metadata": {},
   "source": [
    "As well as which country had the lowest."
   ]
  },
  {
   "cell_type": "code",
   "execution_count": 35,
   "metadata": {},
   "outputs": [
    {
     "data": {
      "text/html": [
       "<div>\n",
       "<style scoped>\n",
       "    .dataframe tbody tr th:only-of-type {\n",
       "        vertical-align: middle;\n",
       "    }\n",
       "\n",
       "    .dataframe tbody tr th {\n",
       "        vertical-align: top;\n",
       "    }\n",
       "\n",
       "    .dataframe thead th {\n",
       "        text-align: right;\n",
       "    }\n",
       "</style>\n",
       "<table border=\"1\" class=\"dataframe\">\n",
       "  <thead>\n",
       "    <tr style=\"text-align: right;\">\n",
       "      <th></th>\n",
       "      <th>Country/Territory</th>\n",
       "      <th>Rank</th>\n",
       "      <th>Total(Year)</th>\n",
       "      <th>Male(Year)</th>\n",
       "      <th>Female (Year)</th>\n",
       "    </tr>\n",
       "  </thead>\n",
       "  <tbody>\n",
       "    <tr>\n",
       "      <th>151</th>\n",
       "      <td>Niger</td>\n",
       "      <td>230</td>\n",
       "      <td>15.4</td>\n",
       "      <td>15.3</td>\n",
       "      <td>15.5</td>\n",
       "    </tr>\n",
       "  </tbody>\n",
       "</table>\n",
       "</div>"
      ],
      "text/plain": [
       "    Country/Territory  Rank  Total(Year)  Male(Year)  Female (Year)\n",
       "151             Niger   230         15.4        15.3           15.5"
      ]
     },
     "execution_count": 35,
     "metadata": {},
     "output_type": "execute_result"
    }
   ],
   "source": [
    "df[df['Total(Year)'] == np.min(df['Total(Year)'])]"
   ]
  },
  {
   "cell_type": "markdown",
   "metadata": {},
   "source": [
    "We can also input different numbers by value - for example below we'll see which countries had a median age above 45. Try messing around with this!"
   ]
  },
  {
   "cell_type": "code",
   "execution_count": 36,
   "metadata": {},
   "outputs": [
    {
     "data": {
      "text/html": [
       "<div>\n",
       "<style scoped>\n",
       "    .dataframe tbody tr th:only-of-type {\n",
       "        vertical-align: middle;\n",
       "    }\n",
       "\n",
       "    .dataframe tbody tr th {\n",
       "        vertical-align: top;\n",
       "    }\n",
       "\n",
       "    .dataframe thead th {\n",
       "        text-align: right;\n",
       "    }\n",
       "</style>\n",
       "<table border=\"1\" class=\"dataframe\">\n",
       "  <thead>\n",
       "    <tr style=\"text-align: right;\">\n",
       "      <th></th>\n",
       "      <th>Country/Territory</th>\n",
       "      <th>Rank</th>\n",
       "      <th>Total(Year)</th>\n",
       "      <th>Male(Year)</th>\n",
       "      <th>Female (Year)</th>\n",
       "    </tr>\n",
       "  </thead>\n",
       "  <tbody>\n",
       "    <tr>\n",
       "      <th>77</th>\n",
       "      <td>Germany</td>\n",
       "      <td>3</td>\n",
       "      <td>47.1</td>\n",
       "      <td>46.0</td>\n",
       "      <td>48.2</td>\n",
       "    </tr>\n",
       "    <tr>\n",
       "      <th>101</th>\n",
       "      <td>Italy</td>\n",
       "      <td>5</td>\n",
       "      <td>45.5</td>\n",
       "      <td>44.4</td>\n",
       "      <td>46.5</td>\n",
       "    </tr>\n",
       "    <tr>\n",
       "      <th>103</th>\n",
       "      <td>Japan</td>\n",
       "      <td>2</td>\n",
       "      <td>47.3</td>\n",
       "      <td>46.0</td>\n",
       "      <td>48.7</td>\n",
       "    </tr>\n",
       "    <tr>\n",
       "      <th>137</th>\n",
       "      <td>Monaco</td>\n",
       "      <td>1</td>\n",
       "      <td>53.1</td>\n",
       "      <td>51.7</td>\n",
       "      <td>54.5</td>\n",
       "    </tr>\n",
       "    <tr>\n",
       "      <th>174</th>\n",
       "      <td>Saint Pierre and Miquelon</td>\n",
       "      <td>4</td>\n",
       "      <td>46.5</td>\n",
       "      <td>46.0</td>\n",
       "      <td>47.0</td>\n",
       "    </tr>\n",
       "  </tbody>\n",
       "</table>\n",
       "</div>"
      ],
      "text/plain": [
       "             Country/Territory  Rank  Total(Year)  Male(Year)  Female (Year)\n",
       "77                     Germany     3         47.1        46.0           48.2\n",
       "101                      Italy     5         45.5        44.4           46.5\n",
       "103                      Japan     2         47.3        46.0           48.7\n",
       "137                     Monaco     1         53.1        51.7           54.5\n",
       "174  Saint Pierre and Miquelon     4         46.5        46.0           47.0"
      ]
     },
     "execution_count": 36,
     "metadata": {},
     "output_type": "execute_result"
    }
   ],
   "source": [
    "df[df['Total(Year)'] >= 45]"
   ]
  },
  {
   "cell_type": "markdown",
   "metadata": {},
   "source": [
    "## Part Five - Grouped Data"
   ]
  },
  {
   "cell_type": "markdown",
   "metadata": {},
   "source": [
    "Now we'll import the associated continents for each country to look at this data by continent. We'll use the 'Read CSV' function, which reads in a CSV file."
   ]
  },
  {
   "cell_type": "code",
   "execution_count": 37,
   "metadata": {},
   "outputs": [
    {
     "data": {
      "text/html": [
       "<div>\n",
       "<style scoped>\n",
       "    .dataframe tbody tr th:only-of-type {\n",
       "        vertical-align: middle;\n",
       "    }\n",
       "\n",
       "    .dataframe tbody tr th {\n",
       "        vertical-align: top;\n",
       "    }\n",
       "\n",
       "    .dataframe thead th {\n",
       "        text-align: right;\n",
       "    }\n",
       "</style>\n",
       "<table border=\"1\" class=\"dataframe\">\n",
       "  <thead>\n",
       "    <tr style=\"text-align: right;\">\n",
       "      <th></th>\n",
       "      <th>Country(or dependent territory)</th>\n",
       "      <th>Continent</th>\n",
       "    </tr>\n",
       "  </thead>\n",
       "  <tbody>\n",
       "    <tr>\n",
       "      <th>0</th>\n",
       "      <td>Nigeria</td>\n",
       "      <td>Africa</td>\n",
       "    </tr>\n",
       "    <tr>\n",
       "      <th>1</th>\n",
       "      <td>Ethiopia</td>\n",
       "      <td>Africa</td>\n",
       "    </tr>\n",
       "    <tr>\n",
       "      <th>2</th>\n",
       "      <td>Egypt</td>\n",
       "      <td>Africa</td>\n",
       "    </tr>\n",
       "    <tr>\n",
       "      <th>3</th>\n",
       "      <td>Democratic Republic of the Congo</td>\n",
       "      <td>Africa</td>\n",
       "    </tr>\n",
       "    <tr>\n",
       "      <th>4</th>\n",
       "      <td>South Africa</td>\n",
       "      <td>Africa</td>\n",
       "    </tr>\n",
       "  </tbody>\n",
       "</table>\n",
       "</div>"
      ],
      "text/plain": [
       "    Country(or dependent territory) Continent\n",
       "0                           Nigeria    Africa\n",
       "1                          Ethiopia    Africa\n",
       "2                             Egypt    Africa\n",
       "3  Democratic Republic of the Congo    Africa\n",
       "4                      South Africa    Africa"
      ]
     },
     "execution_count": 37,
     "metadata": {},
     "output_type": "execute_result"
    }
   ],
   "source": [
    "continents = pd.read_csv('continents.csv')\n",
    "continents.head()"
   ]
  },
  {
   "cell_type": "markdown",
   "metadata": {},
   "source": [
    "We can add this information using the merge function (this isn't vital to know right now)."
   ]
  },
  {
   "cell_type": "code",
   "execution_count": 38,
   "metadata": {},
   "outputs": [
    {
     "data": {
      "text/html": [
       "<div>\n",
       "<style scoped>\n",
       "    .dataframe tbody tr th:only-of-type {\n",
       "        vertical-align: middle;\n",
       "    }\n",
       "\n",
       "    .dataframe tbody tr th {\n",
       "        vertical-align: top;\n",
       "    }\n",
       "\n",
       "    .dataframe thead th {\n",
       "        text-align: right;\n",
       "    }\n",
       "</style>\n",
       "<table border=\"1\" class=\"dataframe\">\n",
       "  <thead>\n",
       "    <tr style=\"text-align: right;\">\n",
       "      <th></th>\n",
       "      <th>Country/Territory</th>\n",
       "      <th>Rank</th>\n",
       "      <th>Total(Year)</th>\n",
       "      <th>Male(Year)</th>\n",
       "      <th>Female (Year)</th>\n",
       "      <th>Country(or dependent territory)</th>\n",
       "      <th>Continent</th>\n",
       "    </tr>\n",
       "  </thead>\n",
       "  <tbody>\n",
       "    <tr>\n",
       "      <th>0</th>\n",
       "      <td>Afghanistan</td>\n",
       "      <td>208</td>\n",
       "      <td>18.8</td>\n",
       "      <td>18.8</td>\n",
       "      <td>18.9</td>\n",
       "      <td>Afghanistan</td>\n",
       "      <td>Asia</td>\n",
       "    </tr>\n",
       "    <tr>\n",
       "      <th>1</th>\n",
       "      <td>Albania</td>\n",
       "      <td>95</td>\n",
       "      <td>32.9</td>\n",
       "      <td>31.6</td>\n",
       "      <td>34.3</td>\n",
       "      <td>Albania</td>\n",
       "      <td>Europe</td>\n",
       "    </tr>\n",
       "    <tr>\n",
       "      <th>2</th>\n",
       "      <td>Algeria</td>\n",
       "      <td>136</td>\n",
       "      <td>28.1</td>\n",
       "      <td>27.8</td>\n",
       "      <td>28.4</td>\n",
       "      <td>Algeria</td>\n",
       "      <td>Africa</td>\n",
       "    </tr>\n",
       "    <tr>\n",
       "      <th>3</th>\n",
       "      <td>American Samoa</td>\n",
       "      <td>122</td>\n",
       "      <td>25.5</td>\n",
       "      <td>25.1</td>\n",
       "      <td>26.0</td>\n",
       "      <td>American Samoa</td>\n",
       "      <td>Oceania</td>\n",
       "    </tr>\n",
       "    <tr>\n",
       "      <th>4</th>\n",
       "      <td>Andorra</td>\n",
       "      <td>10</td>\n",
       "      <td>44.3</td>\n",
       "      <td>44.4</td>\n",
       "      <td>44.1</td>\n",
       "      <td>Andorra</td>\n",
       "      <td>Europe</td>\n",
       "    </tr>\n",
       "  </tbody>\n",
       "</table>\n",
       "</div>"
      ],
      "text/plain": [
       "  Country/Territory  Rank  Total(Year)  Male(Year)  Female (Year)  \\\n",
       "0       Afghanistan   208         18.8        18.8           18.9   \n",
       "1           Albania    95         32.9        31.6           34.3   \n",
       "2           Algeria   136         28.1        27.8           28.4   \n",
       "3    American Samoa   122         25.5        25.1           26.0   \n",
       "4           Andorra    10         44.3        44.4           44.1   \n",
       "\n",
       "  Country(or dependent territory) Continent  \n",
       "0                     Afghanistan      Asia  \n",
       "1                         Albania    Europe  \n",
       "2                         Algeria    Africa  \n",
       "3                  American Samoa   Oceania  \n",
       "4                         Andorra    Europe  "
      ]
     },
     "execution_count": 38,
     "metadata": {},
     "output_type": "execute_result"
    }
   ],
   "source": [
    "new_df = df.merge(continents, how='inner', left_on='Country/Territory', right_on='Country(or dependent territory)')\n",
    "new_df.head()"
   ]
  },
  {
   "cell_type": "markdown",
   "metadata": {},
   "source": [
    "This dataframe is a bit messy. Let's just keep the essential columns."
   ]
  },
  {
   "cell_type": "code",
   "execution_count": 39,
   "metadata": {},
   "outputs": [
    {
     "data": {
      "text/html": [
       "<div>\n",
       "<style scoped>\n",
       "    .dataframe tbody tr th:only-of-type {\n",
       "        vertical-align: middle;\n",
       "    }\n",
       "\n",
       "    .dataframe tbody tr th {\n",
       "        vertical-align: top;\n",
       "    }\n",
       "\n",
       "    .dataframe thead th {\n",
       "        text-align: right;\n",
       "    }\n",
       "</style>\n",
       "<table border=\"1\" class=\"dataframe\">\n",
       "  <thead>\n",
       "    <tr style=\"text-align: right;\">\n",
       "      <th></th>\n",
       "      <th>Country/Territory</th>\n",
       "      <th>Total(Year)</th>\n",
       "      <th>Continent</th>\n",
       "    </tr>\n",
       "  </thead>\n",
       "  <tbody>\n",
       "    <tr>\n",
       "      <th>0</th>\n",
       "      <td>Afghanistan</td>\n",
       "      <td>18.8</td>\n",
       "      <td>Asia</td>\n",
       "    </tr>\n",
       "    <tr>\n",
       "      <th>1</th>\n",
       "      <td>Albania</td>\n",
       "      <td>32.9</td>\n",
       "      <td>Europe</td>\n",
       "    </tr>\n",
       "    <tr>\n",
       "      <th>2</th>\n",
       "      <td>Algeria</td>\n",
       "      <td>28.1</td>\n",
       "      <td>Africa</td>\n",
       "    </tr>\n",
       "    <tr>\n",
       "      <th>3</th>\n",
       "      <td>American Samoa</td>\n",
       "      <td>25.5</td>\n",
       "      <td>Oceania</td>\n",
       "    </tr>\n",
       "    <tr>\n",
       "      <th>4</th>\n",
       "      <td>Andorra</td>\n",
       "      <td>44.3</td>\n",
       "      <td>Europe</td>\n",
       "    </tr>\n",
       "  </tbody>\n",
       "</table>\n",
       "</div>"
      ],
      "text/plain": [
       "  Country/Territory  Total(Year) Continent\n",
       "0       Afghanistan         18.8      Asia\n",
       "1           Albania         32.9    Europe\n",
       "2           Algeria         28.1    Africa\n",
       "3    American Samoa         25.5   Oceania\n",
       "4           Andorra         44.3    Europe"
      ]
     },
     "execution_count": 39,
     "metadata": {},
     "output_type": "execute_result"
    }
   ],
   "source": [
    "new_df = new_df[['Country/Territory', 'Total(Year)', 'Continent']]\n",
    "new_df.head()"
   ]
  },
  {
   "cell_type": "markdown",
   "metadata": {},
   "source": [
    "We can see how many countries are in each continent by using the 'value counts' function."
   ]
  },
  {
   "cell_type": "code",
   "execution_count": 40,
   "metadata": {},
   "outputs": [
    {
     "data": {
      "text/plain": [
       "Europe           55\n",
       "Africa           50\n",
       "Asia             49\n",
       "North America    33\n",
       "Oceania          21\n",
       "South America    12\n",
       "Name: Continent, dtype: int64"
      ]
     },
     "execution_count": 40,
     "metadata": {},
     "output_type": "execute_result"
    }
   ],
   "source": [
    "new_df['Continent'].value_counts()"
   ]
  },
  {
   "cell_type": "markdown",
   "metadata": {},
   "source": [
    "We can also use the \"normalize\" argument to see the percentage of total countries in each continent."
   ]
  },
  {
   "cell_type": "code",
   "execution_count": 41,
   "metadata": {},
   "outputs": [
    {
     "data": {
      "text/plain": [
       "Europe           0.250000\n",
       "Africa           0.227273\n",
       "Asia             0.222727\n",
       "North America    0.150000\n",
       "Oceania          0.095455\n",
       "South America    0.054545\n",
       "Name: Continent, dtype: float64"
      ]
     },
     "execution_count": 41,
     "metadata": {},
     "output_type": "execute_result"
    }
   ],
   "source": [
    "new_df['Continent'].value_counts(normalize=True)"
   ]
  },
  {
   "cell_type": "markdown",
   "metadata": {},
   "source": [
    "We can single out a single continent by using the code below."
   ]
  },
  {
   "cell_type": "code",
   "execution_count": 42,
   "metadata": {},
   "outputs": [
    {
     "data": {
      "text/html": [
       "<div>\n",
       "<style scoped>\n",
       "    .dataframe tbody tr th:only-of-type {\n",
       "        vertical-align: middle;\n",
       "    }\n",
       "\n",
       "    .dataframe tbody tr th {\n",
       "        vertical-align: top;\n",
       "    }\n",
       "\n",
       "    .dataframe thead th {\n",
       "        text-align: right;\n",
       "    }\n",
       "</style>\n",
       "<table border=\"1\" class=\"dataframe\">\n",
       "  <thead>\n",
       "    <tr style=\"text-align: right;\">\n",
       "      <th></th>\n",
       "      <th>Country/Territory</th>\n",
       "      <th>Total(Year)</th>\n",
       "      <th>Continent</th>\n",
       "    </tr>\n",
       "  </thead>\n",
       "  <tbody>\n",
       "    <tr>\n",
       "      <th>0</th>\n",
       "      <td>Afghanistan</td>\n",
       "      <td>18.8</td>\n",
       "      <td>Asia</td>\n",
       "    </tr>\n",
       "    <tr>\n",
       "      <th>9</th>\n",
       "      <td>Armenia</td>\n",
       "      <td>35.1</td>\n",
       "      <td>Asia</td>\n",
       "    </tr>\n",
       "    <tr>\n",
       "      <th>13</th>\n",
       "      <td>Azerbaijan</td>\n",
       "      <td>31.3</td>\n",
       "      <td>Asia</td>\n",
       "    </tr>\n",
       "    <tr>\n",
       "      <th>15</th>\n",
       "      <td>Bahrain</td>\n",
       "      <td>32.3</td>\n",
       "      <td>Asia</td>\n",
       "    </tr>\n",
       "    <tr>\n",
       "      <th>16</th>\n",
       "      <td>Bangladesh</td>\n",
       "      <td>26.7</td>\n",
       "      <td>Asia</td>\n",
       "    </tr>\n",
       "  </tbody>\n",
       "</table>\n",
       "</div>"
      ],
      "text/plain": [
       "   Country/Territory  Total(Year) Continent\n",
       "0        Afghanistan         18.8      Asia\n",
       "9            Armenia         35.1      Asia\n",
       "13        Azerbaijan         31.3      Asia\n",
       "15           Bahrain         32.3      Asia\n",
       "16        Bangladesh         26.7      Asia"
      ]
     },
     "execution_count": 42,
     "metadata": {},
     "output_type": "execute_result"
    }
   ],
   "source": [
    "new_df[new_df['Continent'] == 'Asia'].head()"
   ]
  },
  {
   "cell_type": "markdown",
   "metadata": {},
   "source": [
    "We can do a **groupby** function to get the average age, variance, and standard deviation for each continent."
   ]
  },
  {
   "cell_type": "code",
   "execution_count": 43,
   "metadata": {},
   "outputs": [
    {
     "data": {
      "text/plain": [
       "Continent\n",
       "Africa           20.728000\n",
       "Asia             30.077551\n",
       "Europe           40.527273\n",
       "North America    33.327273\n",
       "Oceania          28.538095\n",
       "South America    29.633333\n",
       "Name: Total(Year), dtype: float64"
      ]
     },
     "execution_count": 43,
     "metadata": {},
     "output_type": "execute_result"
    }
   ],
   "source": [
    "new_df.groupby('Continent')['Total(Year)'].mean()"
   ]
  },
  {
   "cell_type": "code",
   "execution_count": 44,
   "metadata": {},
   "outputs": [
    {
     "data": {
      "text/plain": [
       "Continent\n",
       "Africa           4.739717\n",
       "Asia             6.530705\n",
       "Europe           4.352541\n",
       "North America    6.492316\n",
       "Oceania          5.376567\n",
       "South America    3.191276\n",
       "Name: Total(Year), dtype: float64"
      ]
     },
     "execution_count": 44,
     "metadata": {},
     "output_type": "execute_result"
    }
   ],
   "source": [
    "new_df.groupby('Continent')['Total(Year)'].std()"
   ]
  },
  {
   "cell_type": "code",
   "execution_count": 45,
   "metadata": {},
   "outputs": [
    {
     "data": {
      "text/plain": [
       "Continent\n",
       "Africa           22.464914\n",
       "Asia             42.650111\n",
       "Europe           18.944613\n",
       "North America    42.150170\n",
       "Oceania          28.907476\n",
       "South America    10.184242\n",
       "Name: Total(Year), dtype: float64"
      ]
     },
     "execution_count": 45,
     "metadata": {},
     "output_type": "execute_result"
    }
   ],
   "source": [
    "new_df.groupby('Continent')['Total(Year)'].var()"
   ]
  },
  {
   "cell_type": "markdown",
   "metadata": {},
   "source": [
    "This won't apply so much in this dataset, but you can group by multiple variables, too."
   ]
  },
  {
   "cell_type": "code",
   "execution_count": 46,
   "metadata": {},
   "outputs": [
    {
     "data": {
      "text/plain": [
       "Continent  Country/Territory\n",
       "Africa     Algeria              28.1\n",
       "           Angola               15.9\n",
       "           Benin                18.2\n",
       "           Botswana             24.5\n",
       "           Burkina Faso         17.3\n",
       "Name: Total(Year), dtype: float64"
      ]
     },
     "execution_count": 46,
     "metadata": {},
     "output_type": "execute_result"
    }
   ],
   "source": [
    "new_df.groupby(['Continent', 'Country/Territory'])['Total(Year)'].mean().head()"
   ]
  },
  {
   "cell_type": "markdown",
   "metadata": {},
   "source": [
    "Or you can see the value counts for a given continent."
   ]
  },
  {
   "cell_type": "code",
   "execution_count": 47,
   "metadata": {},
   "outputs": [
    {
     "data": {
      "text/plain": [
       "Algeria                  1\n",
       "Gabon                    1\n",
       "Uganda                   1\n",
       "Republic of the Congo    1\n",
       "Ghana                    1\n",
       "Name: Country/Territory, dtype: int64"
      ]
     },
     "execution_count": 47,
     "metadata": {},
     "output_type": "execute_result"
    }
   ],
   "source": [
    "new_df[new_df['Continent'] == 'Africa']['Country/Territory'].value_counts().head()"
   ]
  },
  {
   "cell_type": "markdown",
   "metadata": {},
   "source": [
    "We can lay the histograms for each of the continents on top of each other using a for loop."
   ]
  },
  {
   "cell_type": "code",
   "execution_count": 48,
   "metadata": {},
   "outputs": [
    {
     "data": {
      "text/plain": [
       "<matplotlib.legend.Legend at 0x1a261d9438>"
      ]
     },
     "execution_count": 48,
     "metadata": {},
     "output_type": "execute_result"
    },
    {
     "data": {
      "image/png": "[encoded data removed]",
      "text/plain": [
       "<Figure size 720x720 with 1 Axes>"
      ]
     },
     "metadata": {
      "needs_background": "light"
     },
     "output_type": "display_data"
    }
   ],
   "source": [
    "fig = plt.figure(figsize=(10,10))\n",
    "for continent in new_df['Continent'].unique():\n",
    "    plt.hist(new_df[new_df['Continent'] == continent]['Total(Year)'], density=True)\n",
    "plt.gca().legend(new_df['Continent'].unique())"
   ]
  },
  {
   "cell_type": "markdown",
   "metadata": {},
   "source": [
    "Unfortunately this looks extremely cluttered and isn't really helpful in our analysis. Histograms aren't great for this. Let's try a bee swarm, box plot and ECDF plot. Look below - what information can we gather from these?"
   ]
  },
  {
   "cell_type": "code",
   "execution_count": 49,
   "metadata": {},
   "outputs": [
    {
     "data": {
      "text/plain": [
       "<matplotlib.legend.Legend at 0x1a262d9be0>"
      ]
     },
     "execution_count": 49,
     "metadata": {},
     "output_type": "execute_result"
    },
    {
     "data": {
      "image/png": "[encoded data removed]",
      "text/plain": [
       "<Figure size 720x720 with 1 Axes>"
      ]
     },
     "metadata": {
      "needs_background": "light"
     },
     "output_type": "display_data"
    }
   ],
   "source": [
    "fig = plt.figure(figsize=(10,10))\n",
    "sns.swarmplot(x='Continent', y='Total(Year)', data=new_df)\n",
    "plt.gca().legend(new_df['Continent'].unique())"
   ]
  },
  {
   "cell_type": "code",
   "execution_count": 50,
   "metadata": {},
   "outputs": [
    {
     "data": {
      "text/plain": [
       "<matplotlib.legend.Legend at 0x1a264990f0>"
      ]
     },
     "execution_count": 50,
     "metadata": {},
     "output_type": "execute_result"
    },
    {
     "data": {
      "image/png": "[encoded data removed]",
      "text/plain": [
       "<Figure size 720x720 with 1 Axes>"
      ]
     },
     "metadata": {
      "needs_background": "light"
     },
     "output_type": "display_data"
    }
   ],
   "source": [
    "fig = plt.figure(figsize=(10,10))\n",
    "sns.boxplot(x='Continent', y='Total(Year)', data=new_df)\n",
    "plt.gca().legend(new_df['Continent'].unique())"
   ]
  },
  {
   "cell_type": "code",
   "execution_count": 51,
   "metadata": {},
   "outputs": [
    {
     "data": {
      "text/plain": [
       "<matplotlib.legend.Legend at 0x1a26722780>"
      ]
     },
     "execution_count": 51,
     "metadata": {},
     "output_type": "execute_result"
    },
    {
     "data": {
      "image/png": "[encoded data removed]",
      "text/plain": [
       "<Figure size 720x720 with 1 Axes>"
      ]
     },
     "metadata": {
      "needs_background": "light"
     },
     "output_type": "display_data"
    }
   ],
   "source": [
    "#Plot an ECDF\n",
    "fig = plt.figure(figsize=(10,10))\n",
    "for continent in new_df['Continent'].unique():\n",
    "    n,bins,patches = plt.hist(new_df[new_df['Continent'] == continent]['Total(Year)'], cumulative=True, bins=50, density=True, histtype='step');\n",
    "    patches[0].set_xy(patches[0].get_xy()[:-1])\n",
    "plt.gca().legend(new_df['Continent'].unique(), loc='lower right')"
   ]
  },
  {
   "cell_type": "markdown",
   "metadata": {},
   "source": [
    "## Part Six - Your Turn"
   ]
  },
  {
   "cell_type": "markdown",
   "metadata": {},
   "source": [
    "Now it's your turn! The dataframe below has the logarithmic value of the GDP for every country in the world (we're taking the log because the regular GDP is essentially ungraphable - try it yourself and see what happens). Let's explore and see what we can find!"
   ]
  },
  {
   "cell_type": "code",
   "execution_count": 52,
   "metadata": {},
   "outputs": [
    {
     "data": {
      "text/html": [
       "<div>\n",
       "<style scoped>\n",
       "    .dataframe tbody tr th:only-of-type {\n",
       "        vertical-align: middle;\n",
       "    }\n",
       "\n",
       "    .dataframe tbody tr th {\n",
       "        vertical-align: top;\n",
       "    }\n",
       "\n",
       "    .dataframe thead th {\n",
       "        text-align: right;\n",
       "    }\n",
       "</style>\n",
       "<table border=\"1\" class=\"dataframe\">\n",
       "  <thead>\n",
       "    <tr style=\"text-align: right;\">\n",
       "      <th></th>\n",
       "      <th>Country</th>\n",
       "      <th>GDP</th>\n",
       "      <th>GDP_Log</th>\n",
       "    </tr>\n",
       "  </thead>\n",
       "  <tbody>\n",
       "    <tr>\n",
       "      <th>0</th>\n",
       "      <td>United States</td>\n",
       "      <td>20513000.0</td>\n",
       "      <td>16.836569</td>\n",
       "    </tr>\n",
       "    <tr>\n",
       "      <th>1</th>\n",
       "      <td>China</td>\n",
       "      <td>13457267.0</td>\n",
       "      <td>16.415030</td>\n",
       "    </tr>\n",
       "    <tr>\n",
       "      <th>2</th>\n",
       "      <td>Japan</td>\n",
       "      <td>5070626.0</td>\n",
       "      <td>15.438975</td>\n",
       "    </tr>\n",
       "    <tr>\n",
       "      <th>3</th>\n",
       "      <td>Germany</td>\n",
       "      <td>4029140.0</td>\n",
       "      <td>15.209064</td>\n",
       "    </tr>\n",
       "    <tr>\n",
       "      <th>4</th>\n",
       "      <td>United Kingdom</td>\n",
       "      <td>2808899.0</td>\n",
       "      <td>14.848303</td>\n",
       "    </tr>\n",
       "  </tbody>\n",
       "</table>\n",
       "</div>"
      ],
      "text/plain": [
       "          Country         GDP    GDP_Log\n",
       "0   United States  20513000.0  16.836569\n",
       "1           China  13457267.0  16.415030\n",
       "2           Japan   5070626.0  15.438975\n",
       "3         Germany   4029140.0  15.209064\n",
       "4  United Kingdom   2808899.0  14.848303"
      ]
     },
     "execution_count": 52,
     "metadata": {},
     "output_type": "execute_result"
    }
   ],
   "source": [
    "l = pd.read_html('https://en.wikipedia.org/wiki/List_of_countries_by_GDP_(nominal)', header=0)\n",
    "world_gdp = l[1].iloc[3:194,1:3].reset_index(drop=True)\n",
    "world_gdp.columns = ['Country', 'GDP']\n",
    "world_gdp['Country'] = world_gdp['Country'].str.split('[').str[0]\n",
    "world_gdp['GDP'] = world_gdp['GDP'].str.split('/').str[0].str.replace(',','')\n",
    "world_gdp['GDP'] = world_gdp['GDP'].astype('float')\n",
    "world_gdp['GDP_Log'] = np.log(world_gdp['GDP'])\n",
    "world_gdp.head(5)"
   ]
  },
  {
   "cell_type": "markdown",
   "metadata": {},
   "source": [
    "##### 1. Plot the histogram, swarmplot, boxplot, and ECDF of the GDP Log. How does this histogram differ from the histogram we saw of the median age above? How does the ECDF differ from the ECDF we saw of the median age? What else can we tell about the distribution from these plots? Are there any outliers?"
   ]
  },
  {
   "cell_type": "markdown",
   "metadata": {},
   "source": [
    "Histogram:"
   ]
  },
  {
   "cell_type": "code",
   "execution_count": 53,
   "metadata": {},
   "outputs": [
    {
     "data": {
      "text/plain": [
       "(array([ 1.,  7., 16., 22., 44., 40., 31., 18., 10.,  2.]),\n",
       " array([ 3.80666249,  5.10965318,  6.41264387,  7.71563456,  9.01862525,\n",
       "        10.32161594, 11.62460663, 12.92759732, 14.23058801, 15.5335787 ,\n",
       "        16.83656939]),\n",
       " <a list of 10 Patch objects>)"
      ]
     },
     "execution_count": 53,
     "metadata": {},
     "output_type": "execute_result"
    },
    {
     "data": {
      "image/png": "[encoded data removed]",
      "text/plain": [
       "<Figure size 360x360 with 1 Axes>"
      ]
     },
     "metadata": {
      "needs_background": "light"
     },
     "output_type": "display_data"
    }
   ],
   "source": [
    "gdphist = plt.figure(figsize=(5,5))\n",
    "plt.hist(world_gdp['GDP_Log'])"
   ]
  },
  {
   "cell_type": "markdown",
   "metadata": {},
   "source": [
    "Swarmplot:"
   ]
  },
  {
   "cell_type": "code",
   "execution_count": 54,
   "metadata": {},
   "outputs": [
    {
     "data": {
      "text/plain": [
       "<matplotlib.axes._subplots.AxesSubplot at 0x1a27b68fd0>"
      ]
     },
     "execution_count": 54,
     "metadata": {},
     "output_type": "execute_result"
    },
    {
     "data": {
      "image/png": "[encoded data removed]",
      "text/plain": [
       "<Figure size 360x360 with 1 Axes>"
      ]
     },
     "metadata": {
      "needs_background": "light"
     },
     "output_type": "display_data"
    }
   ],
   "source": [
    "swarmplotgdp = plt.figure(figsize=(5,5))\n",
    "sns.swarmplot(data=world_gdp['GDP_Log'])"
   ]
  },
  {
   "cell_type": "markdown",
   "metadata": {},
   "source": [
    "Boxplot:"
   ]
  },
  {
   "cell_type": "code",
   "execution_count": 55,
   "metadata": {},
   "outputs": [
    {
     "data": {
      "text/plain": [
       "{'whiskers': [<matplotlib.lines.Line2D at 0x1a28cdb518>,\n",
       "  <matplotlib.lines.Line2D at 0x1a28cdb860>],\n",
       " 'caps': [<matplotlib.lines.Line2D at 0x1a28cdbba8>,\n",
       "  <matplotlib.lines.Line2D at 0x1a28cdbef0>],\n",
       " 'boxes': [<matplotlib.lines.Line2D at 0x1a28cdb0f0>],\n",
       " 'medians': [<matplotlib.lines.Line2D at 0x1a28cdbfd0>],\n",
       " 'fliers': [<matplotlib.lines.Line2D at 0x1a28ce35c0>],\n",
       " 'means': []}"
      ]
     },
     "execution_count": 55,
     "metadata": {},
     "output_type": "execute_result"
    },
    {
     "data": {
      "image/png": "[encoded data removed]",
      "text/plain": [
       "<Figure size 360x360 with 1 Axes>"
      ]
     },
     "metadata": {
      "needs_background": "light"
     },
     "output_type": "display_data"
    }
   ],
   "source": [
    "boxplotgdp = plt.figure(figsize=(5,5))\n",
    "plt.boxplot(world_gdp['GDP_Log'])"
   ]
  },
  {
   "cell_type": "markdown",
   "metadata": {},
   "source": [
    "ECDF:"
   ]
  },
  {
   "cell_type": "code",
   "execution_count": 56,
   "metadata": {},
   "outputs": [
    {
     "data": {
      "image/png": "[encoded data removed]",
      "text/plain": [
       "<Figure size 360x360 with 1 Axes>"
      ]
     },
     "metadata": {
      "needs_background": "light"
     },
     "output_type": "display_data"
    }
   ],
   "source": [
    "fig = plt.figure(figsize=(5,5))\n",
    "n,bins,patches = plt.hist(world_gdp['GDP_Log'], cumulative=True, bins=50, density=True, histtype='step');\n",
    "#This extra line removes the final line from the graph\n",
    "patches[0].set_xy(patches[0].get_xy()[:-1])"
   ]
  },
  {
   "cell_type": "markdown",
   "metadata": {},
   "source": [
    "How does this histogram differ from the histogram we saw of the median age above? \n",
    "This histogram dealing with GDP_Log is more clear at visualizing the data when it comes to the mean, mode, and range, compared to that of the median histogram which looks more compressed and makes it harder to derive key information from the dataset.\n",
    "______________"
   ]
  },
  {
   "cell_type": "markdown",
   "metadata": {},
   "source": [
    " How does the ECDF differ from the ECDF we saw of the median age?\n",
    " The ECDF of the median looks to have a more linear growth, compared to that of the GDP_Log that has more of a parabolic shape. Also in the GDP_Log you can see there is less outliers compared to that of the median age.\n",
    " ________________"
   ]
  },
  {
   "cell_type": "markdown",
   "metadata": {},
   "source": [
    "What else can we tell about the distribution from these plots?\n",
    "From these plots we can gather some useful information such as mean, mode, range, median, outliers, and even the skewness of the data. It gives a good visualization of the data.\n",
    "____"
   ]
  },
  {
   "cell_type": "markdown",
   "metadata": {},
   "source": [
    "Are there any outliers?\n",
    "Yes there are, the best representation in my opinion is shown in the swarmplots, we see dots that are seemly distant to the others. Outliers in the GDP would be like the United States and China.\n",
    "_______"
   ]
  },
  {
   "cell_type": "markdown",
   "metadata": {},
   "source": [
    "#### 2. Find the mean, median, variance, standard deviation, maximum, minimum, range, and Interquartile Range of the GDP Log."
   ]
  },
  {
   "cell_type": "code",
   "execution_count": 91,
   "metadata": {},
   "outputs": [
    {
     "data": {
      "text/plain": [
       "10.566274390714232"
      ]
     },
     "execution_count": 91,
     "metadata": {},
     "output_type": "execute_result"
    }
   ],
   "source": [
    "#MEAN\n",
    "np.mean(world_gdp['GDP_Log'])"
   ]
  },
  {
   "cell_type": "code",
   "execution_count": 92,
   "metadata": {},
   "outputs": [
    {
     "data": {
      "text/plain": [
       "10.64144078072663"
      ]
     },
     "execution_count": 92,
     "metadata": {},
     "output_type": "execute_result"
    }
   ],
   "source": [
    "#MEDIAN\n",
    "np.median(world_gdp['GDP_Log'])"
   ]
  },
  {
   "cell_type": "code",
   "execution_count": 93,
   "metadata": {},
   "outputs": [
    {
     "data": {
      "text/plain": [
       "5.460071918544747"
      ]
     },
     "execution_count": 93,
     "metadata": {},
     "output_type": "execute_result"
    }
   ],
   "source": [
    "#VARIANCE\n",
    "np.var(world_gdp['GDP_Log'])"
   ]
  },
  {
   "cell_type": "code",
   "execution_count": 94,
   "metadata": {},
   "outputs": [
    {
     "data": {
      "text/plain": [
       "2.336679678206824"
      ]
     },
     "execution_count": 94,
     "metadata": {},
     "output_type": "execute_result"
    }
   ],
   "source": [
    "#STANDARD DEVIATION\n",
    "np.std(world_gdp['GDP_Log'])"
   ]
  },
  {
   "cell_type": "code",
   "execution_count": 95,
   "metadata": {},
   "outputs": [
    {
     "data": {
      "text/plain": [
       "3.8066624897703196"
      ]
     },
     "execution_count": 95,
     "metadata": {},
     "output_type": "execute_result"
    }
   ],
   "source": [
    "#MIN\n",
    "np.min(world_gdp['GDP_Log'])"
   ]
  },
  {
   "cell_type": "code",
   "execution_count": 96,
   "metadata": {},
   "outputs": [
    {
     "data": {
      "text/plain": [
       "16.836569389464273"
      ]
     },
     "execution_count": 96,
     "metadata": {},
     "output_type": "execute_result"
    }
   ],
   "source": [
    "#MAX\n",
    "np.max(world_gdp['GDP_Log'])"
   ]
  },
  {
   "cell_type": "code",
   "execution_count": 97,
   "metadata": {},
   "outputs": [
    {
     "data": {
      "text/plain": [
       "13.029906899693954"
      ]
     },
     "execution_count": 97,
     "metadata": {},
     "output_type": "execute_result"
    }
   ],
   "source": [
    "#RANGE\n",
    "np.max(world_gdp['GDP_Log']) - np.min(world_gdp['GDP_Log'])"
   ]
  },
  {
   "cell_type": "code",
   "execution_count": 98,
   "metadata": {},
   "outputs": [
    {
     "data": {
      "text/plain": [
       "3.2017418206787145"
      ]
     },
     "execution_count": 98,
     "metadata": {},
     "output_type": "execute_result"
    }
   ],
   "source": [
    "#Interquartile Range\n",
    "np.percentile(world_gdp['GDP_Log'], q=75) - np.percentile(world_gdp['GDP_Log'], q=25)"
   ]
  },
  {
   "cell_type": "markdown",
   "metadata": {},
   "source": [
    "#### 3. Which country has the highest GDP? Which country has the lowest? Which countries are outliers? What constitutes the cutoff for an outlier in this case?"
   ]
  },
  {
   "cell_type": "code",
   "execution_count": 65,
   "metadata": {
    "scrolled": true
   },
   "outputs": [
    {
     "data": {
      "text/html": [
       "<div>\n",
       "<style scoped>\n",
       "    .dataframe tbody tr th:only-of-type {\n",
       "        vertical-align: middle;\n",
       "    }\n",
       "\n",
       "    .dataframe tbody tr th {\n",
       "        vertical-align: top;\n",
       "    }\n",
       "\n",
       "    .dataframe thead th {\n",
       "        text-align: right;\n",
       "    }\n",
       "</style>\n",
       "<table border=\"1\" class=\"dataframe\">\n",
       "  <thead>\n",
       "    <tr style=\"text-align: right;\">\n",
       "      <th></th>\n",
       "      <th>Country</th>\n",
       "      <th>GDP</th>\n",
       "      <th>GDP_Log</th>\n",
       "    </tr>\n",
       "  </thead>\n",
       "  <tbody>\n",
       "    <tr>\n",
       "      <th>0</th>\n",
       "      <td>United States</td>\n",
       "      <td>20513000.0</td>\n",
       "      <td>16.836569</td>\n",
       "    </tr>\n",
       "  </tbody>\n",
       "</table>\n",
       "</div>"
      ],
      "text/plain": [
       "         Country         GDP    GDP_Log\n",
       "0  United States  20513000.0  16.836569"
      ]
     },
     "execution_count": 65,
     "metadata": {},
     "output_type": "execute_result"
    }
   ],
   "source": [
    "world_gdp[world_gdp['GDP_Log'] == np.max(world_gdp['GDP_Log'])]"
   ]
  },
  {
   "cell_type": "code",
   "execution_count": 66,
   "metadata": {},
   "outputs": [
    {
     "data": {
      "text/html": [
       "<div>\n",
       "<style scoped>\n",
       "    .dataframe tbody tr th:only-of-type {\n",
       "        vertical-align: middle;\n",
       "    }\n",
       "\n",
       "    .dataframe tbody tr th {\n",
       "        vertical-align: top;\n",
       "    }\n",
       "\n",
       "    .dataframe thead th {\n",
       "        text-align: right;\n",
       "    }\n",
       "</style>\n",
       "<table border=\"1\" class=\"dataframe\">\n",
       "  <thead>\n",
       "    <tr style=\"text-align: right;\">\n",
       "      <th></th>\n",
       "      <th>Country</th>\n",
       "      <th>GDP</th>\n",
       "      <th>GDP_Log</th>\n",
       "    </tr>\n",
       "  </thead>\n",
       "  <tbody>\n",
       "    <tr>\n",
       "      <th>190</th>\n",
       "      <td>Tuvalu</td>\n",
       "      <td>45.0</td>\n",
       "      <td>3.806662</td>\n",
       "    </tr>\n",
       "  </tbody>\n",
       "</table>\n",
       "</div>"
      ],
      "text/plain": [
       "    Country   GDP   GDP_Log\n",
       "190  Tuvalu  45.0  3.806662"
      ]
     },
     "execution_count": 66,
     "metadata": {},
     "output_type": "execute_result"
    }
   ],
   "source": [
    "world_gdp[world_gdp['GDP_Log'] == np.min(world_gdp['GDP_Log'])]"
   ]
  },
  {
   "cell_type": "markdown",
   "metadata": {},
   "source": [
    "The Outliers:\n",
    "United States, China, and Tuvalu. (These three are extremely out of range compared to the other plots that are coser together)\n",
    "Therefore the cut off mark would be any thing less than a GDP_Log of 5 and anything greater than a GDP_Log of 14.5\n",
    "(Can this data by looking at the Swarmplot or ECDF the best)\n",
    "________________________________________________________________"
   ]
  },
  {
   "cell_type": "markdown",
   "metadata": {},
   "source": [
    "#### 4. Now let's join the continents file in and see what we can find."
   ]
  },
  {
   "cell_type": "code",
   "execution_count": 121,
   "metadata": {},
   "outputs": [
    {
     "data": {
      "text/html": [
       "<div>\n",
       "<style scoped>\n",
       "    .dataframe tbody tr th:only-of-type {\n",
       "        vertical-align: middle;\n",
       "    }\n",
       "\n",
       "    .dataframe tbody tr th {\n",
       "        vertical-align: top;\n",
       "    }\n",
       "\n",
       "    .dataframe thead th {\n",
       "        text-align: right;\n",
       "    }\n",
       "</style>\n",
       "<table border=\"1\" class=\"dataframe\">\n",
       "  <thead>\n",
       "    <tr style=\"text-align: right;\">\n",
       "      <th></th>\n",
       "      <th>Country</th>\n",
       "      <th>GDP_Log</th>\n",
       "      <th>Continent</th>\n",
       "    </tr>\n",
       "  </thead>\n",
       "  <tbody>\n",
       "    <tr>\n",
       "      <th>0</th>\n",
       "      <td>United States</td>\n",
       "      <td>16.836569</td>\n",
       "      <td>North America</td>\n",
       "    </tr>\n",
       "    <tr>\n",
       "      <th>1</th>\n",
       "      <td>China</td>\n",
       "      <td>16.415030</td>\n",
       "      <td>Asia</td>\n",
       "    </tr>\n",
       "    <tr>\n",
       "      <th>2</th>\n",
       "      <td>Japan</td>\n",
       "      <td>15.438975</td>\n",
       "      <td>Asia</td>\n",
       "    </tr>\n",
       "    <tr>\n",
       "      <th>3</th>\n",
       "      <td>Germany</td>\n",
       "      <td>15.209064</td>\n",
       "      <td>Europe</td>\n",
       "    </tr>\n",
       "    <tr>\n",
       "      <th>4</th>\n",
       "      <td>United Kingdom</td>\n",
       "      <td>14.848303</td>\n",
       "      <td>Europe</td>\n",
       "    </tr>\n",
       "  </tbody>\n",
       "</table>\n",
       "</div>"
      ],
      "text/plain": [
       "          Country    GDP_Log      Continent\n",
       "0   United States  16.836569  North America\n",
       "1           China  16.415030           Asia\n",
       "2           Japan  15.438975           Asia\n",
       "3         Germany  15.209064         Europe\n",
       "4  United Kingdom  14.848303         Europe"
      ]
     },
     "execution_count": 121,
     "metadata": {},
     "output_type": "execute_result"
    }
   ],
   "source": [
    "continents = pd.read_csv('https://github.com/CSC217/spring_2019/raw/master/week02-descriptive_stats/continents.csv')\n",
    "world_gdp_new = world_gdp.merge(continents, how='inner', left_on='Country', right_on='Country(or dependent territory)')\n",
    "world_gdp_new = world_gdp_new[['Country', 'GDP_Log', 'Continent']]\n",
    "world_gdp_new.head()"
   ]
  },
  {
   "cell_type": "markdown",
   "metadata": {},
   "source": [
    "#### 5. Plot the swarmplot, boxplot, and ECDF of the gropued GDP Log. Which continent has the highest mean GDP? Which continent has the highest median GDP? Which continent had the highest difference between its median GDP and mean GDP? What do you think accounts for that difference? Which continent has the highest variance? Which continent has the highest range? Do any of the continents have outliers, and if so, which countries are outliers?"
   ]
  },
  {
   "cell_type": "markdown",
   "metadata": {},
   "source": [
    "Swarmplot:"
   ]
  },
  {
   "cell_type": "code",
   "execution_count": 136,
   "metadata": {},
   "outputs": [
    {
     "data": {
      "text/plain": [
       "<matplotlib.legend.Legend at 0x1a25c54a90>"
      ]
     },
     "execution_count": 136,
     "metadata": {},
     "output_type": "execute_result"
    },
    {
     "data": {
      "image/png": "[encoded data removed]",
      "text/plain": [
       "<Figure size 360x360 with 1 Axes>"
      ]
     },
     "metadata": {
      "needs_background": "light"
     },
     "output_type": "display_data"
    }
   ],
   "source": [
    "fig = plt.figure(figsize=(5,5))\n",
    "sns.swarmplot(x='Continent', y='GDP_Log', data=world_gdp_new)\n",
    "plt.gca().legend(world_gdp_new['Continent'].unique())"
   ]
  },
  {
   "cell_type": "markdown",
   "metadata": {},
   "source": [
    "Boxplot:"
   ]
  },
  {
   "cell_type": "code",
   "execution_count": 137,
   "metadata": {},
   "outputs": [
    {
     "data": {
      "text/plain": [
       "<matplotlib.legend.Legend at 0x1a271d1ef0>"
      ]
     },
     "execution_count": 137,
     "metadata": {},
     "output_type": "execute_result"
    },
    {
     "data": {
      "image/png": "[encoded data removed]",
      "text/plain": [
       "<Figure size 360x360 with 1 Axes>"
      ]
     },
     "metadata": {
      "needs_background": "light"
     },
     "output_type": "display_data"
    }
   ],
   "source": [
    "fig = plt.figure(figsize=(5,5))\n",
    "sns.boxplot(x='Continent', y='GDP_Log', data=world_gdp_new)\n",
    "plt.gca().legend(world_gdp_new['Continent'].unique())"
   ]
  },
  {
   "cell_type": "markdown",
   "metadata": {},
   "source": [
    "ECDF"
   ]
  },
  {
   "cell_type": "code",
   "execution_count": 138,
   "metadata": {},
   "outputs": [
    {
     "data": {
      "text/plain": [
       "<matplotlib.legend.Legend at 0x1a272cd9e8>"
      ]
     },
     "execution_count": 138,
     "metadata": {},
     "output_type": "execute_result"
    },
    {
     "data": {
      "image/png": "[encoded data removed]",
      "text/plain": [
       "<Figure size 360x360 with 1 Axes>"
      ]
     },
     "metadata": {
      "needs_background": "light"
     },
     "output_type": "display_data"
    }
   ],
   "source": [
    "fig = plt.figure(figsize=(5,5))\n",
    "for continent in new_df['Continent'].unique():\n",
    "    n,bins,patches = plt.hist(world_gdp_new[world_gdp_new['Continent'] == continent]['GDP_Log'], cumulative=True, bins=50, density=True, histtype='step');\n",
    "    patches[0].set_xy(patches[0].get_xy()[:-1])\n",
    "plt.gca().legend(world_gdp_new['Continent'].unique(), loc='lower right')"
   ]
  },
  {
   "cell_type": "code",
   "execution_count": 124,
   "metadata": {},
   "outputs": [
    {
     "data": {
      "text/plain": [
       "Continent\n",
       "Africa            9.573513\n",
       "Asia             11.623568\n",
       "Europe           11.696649\n",
       "North America    10.315005\n",
       "Oceania           7.542000\n",
       "Name: GDP_Log, dtype: float64"
      ]
     },
     "execution_count": 124,
     "metadata": {},
     "output_type": "execute_result"
    }
   ],
   "source": [
    "#Which continent has the highest mean GDP?\n",
    "world_gdp_new.groupby(['Continent'])['GDP_Log'].mean().head()\n",
    "#Answer: Europe has the highest mean GDP"
   ]
  },
  {
   "cell_type": "code",
   "execution_count": 128,
   "metadata": {},
   "outputs": [
    {
     "data": {
      "text/plain": [
       "Continent\n",
       "Africa            9.553248\n",
       "Asia             11.435007\n",
       "Europe           11.747128\n",
       "North America    10.067216\n",
       "Oceania           6.777647\n",
       "Name: GDP_Log, dtype: float64"
      ]
     },
     "execution_count": 128,
     "metadata": {},
     "output_type": "execute_result"
    }
   ],
   "source": [
    "#Which continent has the highest median GDP?\n",
    "world_gdp_new.groupby(['Continent'])['GDP_Log'].median().head()\n",
    "#Answer: Europe has the highest median."
   ]
  },
  {
   "cell_type": "code",
   "execution_count": 139,
   "metadata": {},
   "outputs": [
    {
     "data": {
      "text/plain": [
       "<bound method NDFrame.head of Continent\n",
       "Africa          -0.020266\n",
       "Asia            -0.188561\n",
       "Europe           0.050479\n",
       "North America   -0.247789\n",
       "Oceania         -0.764353\n",
       "South America    0.110490\n",
       "Name: GDP_Log, dtype: float64>"
      ]
     },
     "execution_count": 139,
     "metadata": {},
     "output_type": "execute_result"
    }
   ],
   "source": [
    "(world_gdp_new.groupby(['Continent'])['GDP_Log'].median() -world_gdp_new.groupby(['Continent'])['GDP_Log'].mean()).head"
   ]
  },
  {
   "cell_type": "markdown",
   "metadata": {},
   "source": [
    "What do you think accounts for that difference?\n",
    "What accounts for the highest differnce between the median GDP and mean GDP in Oceania, is the skewedness and the fact that it has a hige outlier."
   ]
  },
  {
   "cell_type": "code",
   "execution_count": 142,
   "metadata": {},
   "outputs": [
    {
     "data": {
      "text/plain": [
       "Continent\n",
       "Africa           2.417245\n",
       "Asia             3.736542\n",
       "Europe           3.456089\n",
       "North America    6.691030\n",
       "Oceania          8.792366\n",
       "Name: GDP_Log, dtype: float64"
      ]
     },
     "execution_count": 142,
     "metadata": {},
     "output_type": "execute_result"
    }
   ],
   "source": [
    "#Which continent has the highest variance?\n",
    "world_gdp_new.groupby(['Continent'])['GDP_Log'].var().head()\n",
    "#Answer: Oceania has the highest variance."
   ]
  },
  {
   "cell_type": "code",
   "execution_count": 143,
   "metadata": {},
   "outputs": [
    {
     "data": {
      "text/plain": [
       "Continent\n",
       "Africa            6.783632\n",
       "Asia              8.542575\n",
       "Europe            7.730894\n",
       "North America    10.652420\n",
       "Oceania          10.364960\n",
       "Name: GDP_Log, dtype: float64"
      ]
     },
     "execution_count": 143,
     "metadata": {},
     "output_type": "execute_result"
    }
   ],
   "source": [
    "#Which continent has the highest range?\n",
    "(world_gdp_new.groupby(['Continent'])['GDP_Log'].max() - world_gdp_new.groupby(['Continent'])['GDP_Log'].min()).head()\n",
    "#Answer: North America has the highest range"
   ]
  },
  {
   "cell_type": "markdown",
   "metadata": {},
   "source": [
    "Do any of the continents have outliers, and if so, which countries are outliers?\n",
    "Yes they do, which are the United States(North America) and Tuvalu(Oceania)\n",
    "\n"
   ]
  },
  {
   "cell_type": "code",
   "execution_count": 164,
   "metadata": {},
   "outputs": [
    {
     "data": {
      "text/html": [
       "<div>\n",
       "<style scoped>\n",
       "    .dataframe tbody tr th:only-of-type {\n",
       "        vertical-align: middle;\n",
       "    }\n",
       "\n",
       "    .dataframe tbody tr th {\n",
       "        vertical-align: top;\n",
       "    }\n",
       "\n",
       "    .dataframe thead th {\n",
       "        text-align: right;\n",
       "    }\n",
       "</style>\n",
       "<table border=\"1\" class=\"dataframe\">\n",
       "  <thead>\n",
       "    <tr style=\"text-align: right;\">\n",
       "      <th></th>\n",
       "      <th>Country</th>\n",
       "      <th>GDP_Log</th>\n",
       "      <th>Continent</th>\n",
       "    </tr>\n",
       "  </thead>\n",
       "  <tbody>\n",
       "    <tr>\n",
       "      <th>0</th>\n",
       "      <td>United States</td>\n",
       "      <td>16.836569</td>\n",
       "      <td>North America</td>\n",
       "    </tr>\n",
       "    <tr>\n",
       "      <th>1</th>\n",
       "      <td>China</td>\n",
       "      <td>16.415030</td>\n",
       "      <td>Asia</td>\n",
       "    </tr>\n",
       "    <tr>\n",
       "      <th>2</th>\n",
       "      <td>Japan</td>\n",
       "      <td>15.438975</td>\n",
       "      <td>Asia</td>\n",
       "    </tr>\n",
       "    <tr>\n",
       "      <th>3</th>\n",
       "      <td>Germany</td>\n",
       "      <td>15.209064</td>\n",
       "      <td>Europe</td>\n",
       "    </tr>\n",
       "    <tr>\n",
       "      <th>4</th>\n",
       "      <td>United Kingdom</td>\n",
       "      <td>14.848303</td>\n",
       "      <td>Europe</td>\n",
       "    </tr>\n",
       "    <tr>\n",
       "      <th>5</th>\n",
       "      <td>France</td>\n",
       "      <td>14.843234</td>\n",
       "      <td>Europe</td>\n",
       "    </tr>\n",
       "    <tr>\n",
       "      <th>6</th>\n",
       "      <td>India</td>\n",
       "      <td>14.805049</td>\n",
       "      <td>Asia</td>\n",
       "    </tr>\n",
       "    <tr>\n",
       "      <th>7</th>\n",
       "      <td>Italy</td>\n",
       "      <td>14.551196</td>\n",
       "      <td>Europe</td>\n",
       "    </tr>\n",
       "    <tr>\n",
       "      <th>8</th>\n",
       "      <td>Brazil</td>\n",
       "      <td>14.462292</td>\n",
       "      <td>South America</td>\n",
       "    </tr>\n",
       "    <tr>\n",
       "      <th>9</th>\n",
       "      <td>Canada</td>\n",
       "      <td>14.365772</td>\n",
       "      <td>North America</td>\n",
       "    </tr>\n",
       "    <tr>\n",
       "      <th>10</th>\n",
       "      <td>South Korea</td>\n",
       "      <td>14.319679</td>\n",
       "      <td>Asia</td>\n",
       "    </tr>\n",
       "    <tr>\n",
       "      <th>11</th>\n",
       "      <td>Russia</td>\n",
       "      <td>14.270710</td>\n",
       "      <td>Asia</td>\n",
       "    </tr>\n",
       "    <tr>\n",
       "      <th>12</th>\n",
       "      <td>Russia</td>\n",
       "      <td>14.270710</td>\n",
       "      <td>Europe</td>\n",
       "    </tr>\n",
       "    <tr>\n",
       "      <th>13</th>\n",
       "      <td>Spain</td>\n",
       "      <td>14.178101</td>\n",
       "      <td>Europe</td>\n",
       "    </tr>\n",
       "    <tr>\n",
       "      <th>14</th>\n",
       "      <td>Australia</td>\n",
       "      <td>14.171622</td>\n",
       "      <td>Oceania</td>\n",
       "    </tr>\n",
       "    <tr>\n",
       "      <th>15</th>\n",
       "      <td>Mexico</td>\n",
       "      <td>13.997219</td>\n",
       "      <td>North America</td>\n",
       "    </tr>\n",
       "    <tr>\n",
       "      <th>16</th>\n",
       "      <td>Indonesia</td>\n",
       "      <td>13.820765</td>\n",
       "      <td>Asia</td>\n",
       "    </tr>\n",
       "    <tr>\n",
       "      <th>17</th>\n",
       "      <td>Netherlands</td>\n",
       "      <td>13.721076</td>\n",
       "      <td>Europe</td>\n",
       "    </tr>\n",
       "    <tr>\n",
       "      <th>18</th>\n",
       "      <td>Saudi Arabia</td>\n",
       "      <td>13.553987</td>\n",
       "      <td>Asia</td>\n",
       "    </tr>\n",
       "    <tr>\n",
       "      <th>19</th>\n",
       "      <td>Turkey</td>\n",
       "      <td>13.477956</td>\n",
       "      <td>Asia</td>\n",
       "    </tr>\n",
       "    <tr>\n",
       "      <th>20</th>\n",
       "      <td>Turkey</td>\n",
       "      <td>13.477956</td>\n",
       "      <td>Europe</td>\n",
       "    </tr>\n",
       "    <tr>\n",
       "      <th>21</th>\n",
       "      <td>Switzerland</td>\n",
       "      <td>13.471777</td>\n",
       "      <td>Europe</td>\n",
       "    </tr>\n",
       "    <tr>\n",
       "      <th>22</th>\n",
       "      <td>Taiwan</td>\n",
       "      <td>13.309138</td>\n",
       "      <td>Asia</td>\n",
       "    </tr>\n",
       "    <tr>\n",
       "      <th>23</th>\n",
       "      <td>Sweden</td>\n",
       "      <td>13.226109</td>\n",
       "      <td>Europe</td>\n",
       "    </tr>\n",
       "    <tr>\n",
       "      <th>24</th>\n",
       "      <td>Poland</td>\n",
       "      <td>13.216724</td>\n",
       "      <td>Europe</td>\n",
       "    </tr>\n",
       "    <tr>\n",
       "      <th>25</th>\n",
       "      <td>Belgium</td>\n",
       "      <td>13.191992</td>\n",
       "      <td>Europe</td>\n",
       "    </tr>\n",
       "    <tr>\n",
       "      <th>26</th>\n",
       "      <td>Thailand</td>\n",
       "      <td>13.102406</td>\n",
       "      <td>Asia</td>\n",
       "    </tr>\n",
       "    <tr>\n",
       "      <th>27</th>\n",
       "      <td>Argentina</td>\n",
       "      <td>13.071973</td>\n",
       "      <td>South America</td>\n",
       "    </tr>\n",
       "    <tr>\n",
       "      <th>28</th>\n",
       "      <td>Austria</td>\n",
       "      <td>13.037679</td>\n",
       "      <td>Europe</td>\n",
       "    </tr>\n",
       "    <tr>\n",
       "      <th>29</th>\n",
       "      <td>Norway</td>\n",
       "      <td>12.997795</td>\n",
       "      <td>Europe</td>\n",
       "    </tr>\n",
       "    <tr>\n",
       "      <th>...</th>\n",
       "      <td>...</td>\n",
       "      <td>...</td>\n",
       "      <td>...</td>\n",
       "    </tr>\n",
       "    <tr>\n",
       "      <th>161</th>\n",
       "      <td>South Sudan</td>\n",
       "      <td>8.289037</td>\n",
       "      <td>Africa</td>\n",
       "    </tr>\n",
       "    <tr>\n",
       "      <th>162</th>\n",
       "      <td>Suriname</td>\n",
       "      <td>8.253228</td>\n",
       "      <td>South America</td>\n",
       "    </tr>\n",
       "    <tr>\n",
       "      <th>163</th>\n",
       "      <td>Sierra Leone</td>\n",
       "      <td>8.230577</td>\n",
       "      <td>Africa</td>\n",
       "    </tr>\n",
       "    <tr>\n",
       "      <th>164</th>\n",
       "      <td>Guyana</td>\n",
       "      <td>8.198639</td>\n",
       "      <td>South America</td>\n",
       "    </tr>\n",
       "    <tr>\n",
       "      <th>165</th>\n",
       "      <td>Burundi</td>\n",
       "      <td>8.142063</td>\n",
       "      <td>Africa</td>\n",
       "    </tr>\n",
       "    <tr>\n",
       "      <th>166</th>\n",
       "      <td>Liberia</td>\n",
       "      <td>8.076515</td>\n",
       "      <td>Africa</td>\n",
       "    </tr>\n",
       "    <tr>\n",
       "      <th>167</th>\n",
       "      <td>Timor-Leste</td>\n",
       "      <td>8.056744</td>\n",
       "      <td>Asia</td>\n",
       "    </tr>\n",
       "    <tr>\n",
       "      <th>168</th>\n",
       "      <td>Lesotho</td>\n",
       "      <td>8.000014</td>\n",
       "      <td>Africa</td>\n",
       "    </tr>\n",
       "    <tr>\n",
       "      <th>169</th>\n",
       "      <td>Bhutan</td>\n",
       "      <td>7.872455</td>\n",
       "      <td>Asia</td>\n",
       "    </tr>\n",
       "    <tr>\n",
       "      <th>170</th>\n",
       "      <td>Central African Republic</td>\n",
       "      <td>7.743703</td>\n",
       "      <td>Africa</td>\n",
       "    </tr>\n",
       "    <tr>\n",
       "      <th>171</th>\n",
       "      <td>Djibouti</td>\n",
       "      <td>7.690286</td>\n",
       "      <td>Africa</td>\n",
       "    </tr>\n",
       "    <tr>\n",
       "      <th>172</th>\n",
       "      <td>Cape Verde</td>\n",
       "      <td>7.586804</td>\n",
       "      <td>Africa</td>\n",
       "    </tr>\n",
       "    <tr>\n",
       "      <th>173</th>\n",
       "      <td>Belize</td>\n",
       "      <td>7.555905</td>\n",
       "      <td>North America</td>\n",
       "    </tr>\n",
       "    <tr>\n",
       "      <th>174</th>\n",
       "      <td>San Marino</td>\n",
       "      <td>7.478170</td>\n",
       "      <td>Europe</td>\n",
       "    </tr>\n",
       "    <tr>\n",
       "      <th>175</th>\n",
       "      <td>Antigua and Barbuda</td>\n",
       "      <td>7.385231</td>\n",
       "      <td>North America</td>\n",
       "    </tr>\n",
       "    <tr>\n",
       "      <th>176</th>\n",
       "      <td>Seychelles</td>\n",
       "      <td>7.355002</td>\n",
       "      <td>Africa</td>\n",
       "    </tr>\n",
       "    <tr>\n",
       "      <th>177</th>\n",
       "      <td>Guinea-Bissau</td>\n",
       "      <td>7.299797</td>\n",
       "      <td>Africa</td>\n",
       "    </tr>\n",
       "    <tr>\n",
       "      <th>178</th>\n",
       "      <td>Solomon Islands</td>\n",
       "      <td>7.261225</td>\n",
       "      <td>Oceania</td>\n",
       "    </tr>\n",
       "    <tr>\n",
       "      <th>179</th>\n",
       "      <td>Grenada</td>\n",
       "      <td>7.083388</td>\n",
       "      <td>North America</td>\n",
       "    </tr>\n",
       "    <tr>\n",
       "      <th>180</th>\n",
       "      <td>Vanuatu</td>\n",
       "      <td>6.863803</td>\n",
       "      <td>Oceania</td>\n",
       "    </tr>\n",
       "    <tr>\n",
       "      <th>181</th>\n",
       "      <td>Samoa</td>\n",
       "      <td>6.777647</td>\n",
       "      <td>Oceania</td>\n",
       "    </tr>\n",
       "    <tr>\n",
       "      <th>182</th>\n",
       "      <td>Comoros</td>\n",
       "      <td>6.613384</td>\n",
       "      <td>Africa</td>\n",
       "    </tr>\n",
       "    <tr>\n",
       "      <th>183</th>\n",
       "      <td>Dominica</td>\n",
       "      <td>6.184149</td>\n",
       "      <td>North America</td>\n",
       "    </tr>\n",
       "    <tr>\n",
       "      <th>184</th>\n",
       "      <td>Tonga</td>\n",
       "      <td>6.148468</td>\n",
       "      <td>Oceania</td>\n",
       "    </tr>\n",
       "    <tr>\n",
       "      <th>185</th>\n",
       "      <td>São Tomé and Príncipe</td>\n",
       "      <td>6.109248</td>\n",
       "      <td>Africa</td>\n",
       "    </tr>\n",
       "    <tr>\n",
       "      <th>186</th>\n",
       "      <td>Federated States of Micronesia</td>\n",
       "      <td>5.814131</td>\n",
       "      <td>Oceania</td>\n",
       "    </tr>\n",
       "    <tr>\n",
       "      <th>187</th>\n",
       "      <td>Palau</td>\n",
       "      <td>5.703782</td>\n",
       "      <td>Oceania</td>\n",
       "    </tr>\n",
       "    <tr>\n",
       "      <th>188</th>\n",
       "      <td>Marshall Islands</td>\n",
       "      <td>5.438079</td>\n",
       "      <td>Oceania</td>\n",
       "    </tr>\n",
       "    <tr>\n",
       "      <th>189</th>\n",
       "      <td>Kiribati</td>\n",
       "      <td>5.323010</td>\n",
       "      <td>Oceania</td>\n",
       "    </tr>\n",
       "    <tr>\n",
       "      <th>190</th>\n",
       "      <td>Tuvalu</td>\n",
       "      <td>3.806662</td>\n",
       "      <td>Oceania</td>\n",
       "    </tr>\n",
       "  </tbody>\n",
       "</table>\n",
       "<p>191 rows × 3 columns</p>\n",
       "</div>"
      ],
      "text/plain": [
       "                            Country    GDP_Log      Continent\n",
       "0                     United States  16.836569  North America\n",
       "1                             China  16.415030           Asia\n",
       "2                             Japan  15.438975           Asia\n",
       "3                           Germany  15.209064         Europe\n",
       "4                    United Kingdom  14.848303         Europe\n",
       "5                            France  14.843234         Europe\n",
       "6                             India  14.805049           Asia\n",
       "7                             Italy  14.551196         Europe\n",
       "8                            Brazil  14.462292  South America\n",
       "9                            Canada  14.365772  North America\n",
       "10                      South Korea  14.319679           Asia\n",
       "11                           Russia  14.270710           Asia\n",
       "12                           Russia  14.270710         Europe\n",
       "13                            Spain  14.178101         Europe\n",
       "14                        Australia  14.171622        Oceania\n",
       "15                           Mexico  13.997219  North America\n",
       "16                        Indonesia  13.820765           Asia\n",
       "17                      Netherlands  13.721076         Europe\n",
       "18                     Saudi Arabia  13.553987           Asia\n",
       "19                           Turkey  13.477956           Asia\n",
       "20                           Turkey  13.477956         Europe\n",
       "21                      Switzerland  13.471777         Europe\n",
       "22                           Taiwan  13.309138           Asia\n",
       "23                           Sweden  13.226109         Europe\n",
       "24                           Poland  13.216724         Europe\n",
       "25                          Belgium  13.191992         Europe\n",
       "26                         Thailand  13.102406           Asia\n",
       "27                        Argentina  13.071973  South America\n",
       "28                          Austria  13.037679         Europe\n",
       "29                           Norway  12.997795         Europe\n",
       "..                              ...        ...            ...\n",
       "161                     South Sudan   8.289037         Africa\n",
       "162                        Suriname   8.253228  South America\n",
       "163                    Sierra Leone   8.230577         Africa\n",
       "164                          Guyana   8.198639  South America\n",
       "165                         Burundi   8.142063         Africa\n",
       "166                         Liberia   8.076515         Africa\n",
       "167                     Timor-Leste   8.056744           Asia\n",
       "168                         Lesotho   8.000014         Africa\n",
       "169                          Bhutan   7.872455           Asia\n",
       "170        Central African Republic   7.743703         Africa\n",
       "171                        Djibouti   7.690286         Africa\n",
       "172                      Cape Verde   7.586804         Africa\n",
       "173                          Belize   7.555905  North America\n",
       "174                      San Marino   7.478170         Europe\n",
       "175             Antigua and Barbuda   7.385231  North America\n",
       "176                      Seychelles   7.355002         Africa\n",
       "177                   Guinea-Bissau   7.299797         Africa\n",
       "178                 Solomon Islands   7.261225        Oceania\n",
       "179                         Grenada   7.083388  North America\n",
       "180                         Vanuatu   6.863803        Oceania\n",
       "181                           Samoa   6.777647        Oceania\n",
       "182                         Comoros   6.613384         Africa\n",
       "183                        Dominica   6.184149  North America\n",
       "184                           Tonga   6.148468        Oceania\n",
       "185           São Tomé and Príncipe   6.109248         Africa\n",
       "186  Federated States of Micronesia   5.814131        Oceania\n",
       "187                           Palau   5.703782        Oceania\n",
       "188                Marshall Islands   5.438079        Oceania\n",
       "189                        Kiribati   5.323010        Oceania\n",
       "190                          Tuvalu   3.806662        Oceania\n",
       "\n",
       "[191 rows x 3 columns]"
      ]
     },
     "execution_count": 164,
     "metadata": {},
     "output_type": "execute_result"
    }
   ],
   "source": [
    "world_gdp_new = world_gdp_new[['Country', 'GDP_Log', 'Continent']]\n",
    "world_gdp_new.head(230)"
   ]
  },
  {
   "cell_type": "markdown",
   "metadata": {},
   "source": [
    "## Part Seven - Extra Data Wrangling"
   ]
  },
  {
   "cell_type": "markdown",
   "metadata": {},
   "source": [
    "Some of these functions were beyond our crash course, but will be useful for this week's homework and beyond."
   ]
  },
  {
   "cell_type": "markdown",
   "metadata": {},
   "source": [
    "The 'describe' command can quickly pull out some relevant information that we looked at earlier."
   ]
  },
  {
   "cell_type": "code",
   "execution_count": 165,
   "metadata": {},
   "outputs": [
    {
     "data": {
      "text/html": [
       "<div>\n",
       "<style scoped>\n",
       "    .dataframe tbody tr th:only-of-type {\n",
       "        vertical-align: middle;\n",
       "    }\n",
       "\n",
       "    .dataframe tbody tr th {\n",
       "        vertical-align: top;\n",
       "    }\n",
       "\n",
       "    .dataframe thead th {\n",
       "        text-align: right;\n",
       "    }\n",
       "</style>\n",
       "<table border=\"1\" class=\"dataframe\">\n",
       "  <thead>\n",
       "    <tr style=\"text-align: right;\">\n",
       "      <th></th>\n",
       "      <th>Rank</th>\n",
       "      <th>Total(Year)</th>\n",
       "      <th>Male(Year)</th>\n",
       "      <th>Female (Year)</th>\n",
       "      <th>Male_Female_Difference</th>\n",
       "    </tr>\n",
       "  </thead>\n",
       "  <tbody>\n",
       "    <tr>\n",
       "      <th>count</th>\n",
       "      <td>230.000000</td>\n",
       "      <td>230.000000</td>\n",
       "      <td>230.000000</td>\n",
       "      <td>230.000000</td>\n",
       "      <td>230.000000</td>\n",
       "    </tr>\n",
       "    <tr>\n",
       "      <th>mean</th>\n",
       "      <td>115.500000</td>\n",
       "      <td>30.738696</td>\n",
       "      <td>29.993913</td>\n",
       "      <td>31.451304</td>\n",
       "      <td>1.457391</td>\n",
       "    </tr>\n",
       "    <tr>\n",
       "      <th>std</th>\n",
       "      <td>66.539462</td>\n",
       "      <td>8.888967</td>\n",
       "      <td>8.508904</td>\n",
       "      <td>9.337026</td>\n",
       "      <td>1.746615</td>\n",
       "    </tr>\n",
       "    <tr>\n",
       "      <th>min</th>\n",
       "      <td>1.000000</td>\n",
       "      <td>15.400000</td>\n",
       "      <td>15.100000</td>\n",
       "      <td>15.500000</td>\n",
       "      <td>-7.100000</td>\n",
       "    </tr>\n",
       "    <tr>\n",
       "      <th>25%</th>\n",
       "      <td>58.250000</td>\n",
       "      <td>23.000000</td>\n",
       "      <td>22.725000</td>\n",
       "      <td>23.300000</td>\n",
       "      <td>0.500000</td>\n",
       "    </tr>\n",
       "    <tr>\n",
       "      <th>50%</th>\n",
       "      <td>115.500000</td>\n",
       "      <td>30.300000</td>\n",
       "      <td>29.650000</td>\n",
       "      <td>30.650000</td>\n",
       "      <td>1.300000</td>\n",
       "    </tr>\n",
       "    <tr>\n",
       "      <th>75%</th>\n",
       "      <td>172.750000</td>\n",
       "      <td>38.675000</td>\n",
       "      <td>37.100000</td>\n",
       "      <td>39.875000</td>\n",
       "      <td>2.300000</td>\n",
       "    </tr>\n",
       "    <tr>\n",
       "      <th>max</th>\n",
       "      <td>230.000000</td>\n",
       "      <td>53.100000</td>\n",
       "      <td>51.700000</td>\n",
       "      <td>54.500000</td>\n",
       "      <td>7.400000</td>\n",
       "    </tr>\n",
       "  </tbody>\n",
       "</table>\n",
       "</div>"
      ],
      "text/plain": [
       "             Rank  Total(Year)  Male(Year)  Female (Year)  \\\n",
       "count  230.000000   230.000000  230.000000     230.000000   \n",
       "mean   115.500000    30.738696   29.993913      31.451304   \n",
       "std     66.539462     8.888967    8.508904       9.337026   \n",
       "min      1.000000    15.400000   15.100000      15.500000   \n",
       "25%     58.250000    23.000000   22.725000      23.300000   \n",
       "50%    115.500000    30.300000   29.650000      30.650000   \n",
       "75%    172.750000    38.675000   37.100000      39.875000   \n",
       "max    230.000000    53.100000   51.700000      54.500000   \n",
       "\n",
       "       Male_Female_Difference  \n",
       "count              230.000000  \n",
       "mean                 1.457391  \n",
       "std                  1.746615  \n",
       "min                 -7.100000  \n",
       "25%                  0.500000  \n",
       "50%                  1.300000  \n",
       "75%                  2.300000  \n",
       "max                  7.400000  "
      ]
     },
     "execution_count": 165,
     "metadata": {},
     "output_type": "execute_result"
    }
   ],
   "source": [
    "df.describe()"
   ]
  },
  {
   "cell_type": "markdown",
   "metadata": {},
   "source": [
    "We can filter our dataframe by looking at, for example, just countries where the male median age is higher than the female median age."
   ]
  },
  {
   "cell_type": "code",
   "execution_count": 166,
   "metadata": {},
   "outputs": [
    {
     "data": {
      "text/html": [
       "<div>\n",
       "<style scoped>\n",
       "    .dataframe tbody tr th:only-of-type {\n",
       "        vertical-align: middle;\n",
       "    }\n",
       "\n",
       "    .dataframe tbody tr th {\n",
       "        vertical-align: top;\n",
       "    }\n",
       "\n",
       "    .dataframe thead th {\n",
       "        text-align: right;\n",
       "    }\n",
       "</style>\n",
       "<table border=\"1\" class=\"dataframe\">\n",
       "  <thead>\n",
       "    <tr style=\"text-align: right;\">\n",
       "      <th></th>\n",
       "      <th>Country/Territory</th>\n",
       "      <th>Rank</th>\n",
       "      <th>Total(Year)</th>\n",
       "      <th>Male(Year)</th>\n",
       "      <th>Female (Year)</th>\n",
       "      <th>Male_Female_Difference</th>\n",
       "    </tr>\n",
       "  </thead>\n",
       "  <tbody>\n",
       "    <tr>\n",
       "      <th>4</th>\n",
       "      <td>Andorra</td>\n",
       "      <td>10</td>\n",
       "      <td>44.3</td>\n",
       "      <td>44.4</td>\n",
       "      <td>44.1</td>\n",
       "      <td>-0.3</td>\n",
       "    </tr>\n",
       "    <tr>\n",
       "      <th>15</th>\n",
       "      <td>Bahrain</td>\n",
       "      <td>99</td>\n",
       "      <td>32.3</td>\n",
       "      <td>33.8</td>\n",
       "      <td>29.5</td>\n",
       "      <td>-4.3</td>\n",
       "    </tr>\n",
       "    <tr>\n",
       "      <th>23</th>\n",
       "      <td>Bhutan</td>\n",
       "      <td>144</td>\n",
       "      <td>27.6</td>\n",
       "      <td>28.2</td>\n",
       "      <td>27.1</td>\n",
       "      <td>-1.1</td>\n",
       "    </tr>\n",
       "    <tr>\n",
       "      <th>49</th>\n",
       "      <td>Cote d'Ivoire</td>\n",
       "      <td>187</td>\n",
       "      <td>20.9</td>\n",
       "      <td>21.0</td>\n",
       "      <td>20.9</td>\n",
       "      <td>-0.1</td>\n",
       "    </tr>\n",
       "    <tr>\n",
       "      <th>81</th>\n",
       "      <td>Greenland</td>\n",
       "      <td>86</td>\n",
       "      <td>33.9</td>\n",
       "      <td>35.0</td>\n",
       "      <td>32.7</td>\n",
       "      <td>-2.3</td>\n",
       "    </tr>\n",
       "    <tr>\n",
       "      <th>105</th>\n",
       "      <td>Jordan</td>\n",
       "      <td>178</td>\n",
       "      <td>22.5</td>\n",
       "      <td>22.9</td>\n",
       "      <td>22.0</td>\n",
       "      <td>-0.9</td>\n",
       "    </tr>\n",
       "    <tr>\n",
       "      <th>112</th>\n",
       "      <td>Kuwait</td>\n",
       "      <td>124</td>\n",
       "      <td>29.3</td>\n",
       "      <td>30.4</td>\n",
       "      <td>27.4</td>\n",
       "      <td>-3.0</td>\n",
       "    </tr>\n",
       "    <tr>\n",
       "      <th>119</th>\n",
       "      <td>Libya</td>\n",
       "      <td>130</td>\n",
       "      <td>28.9</td>\n",
       "      <td>29.1</td>\n",
       "      <td>28.7</td>\n",
       "      <td>-0.4</td>\n",
       "    </tr>\n",
       "    <tr>\n",
       "      <th>123</th>\n",
       "      <td>Macau</td>\n",
       "      <td>56</td>\n",
       "      <td>39.3</td>\n",
       "      <td>39.5</td>\n",
       "      <td>39.1</td>\n",
       "      <td>-0.4</td>\n",
       "    </tr>\n",
       "    <tr>\n",
       "      <th>144</th>\n",
       "      <td>Nauru</td>\n",
       "      <td>150</td>\n",
       "      <td>26.4</td>\n",
       "      <td>27.0</td>\n",
       "      <td>25.7</td>\n",
       "      <td>-1.3</td>\n",
       "    </tr>\n",
       "    <tr>\n",
       "      <th>154</th>\n",
       "      <td>Oman</td>\n",
       "      <td>153</td>\n",
       "      <td>25.6</td>\n",
       "      <td>26.6</td>\n",
       "      <td>24.2</td>\n",
       "      <td>-2.4</td>\n",
       "    </tr>\n",
       "    <tr>\n",
       "      <th>158</th>\n",
       "      <td>Papua New Guinea</td>\n",
       "      <td>171</td>\n",
       "      <td>23.1</td>\n",
       "      <td>23.2</td>\n",
       "      <td>23.1</td>\n",
       "      <td>-0.1</td>\n",
       "    </tr>\n",
       "    <tr>\n",
       "      <th>165</th>\n",
       "      <td>Qatar</td>\n",
       "      <td>90</td>\n",
       "      <td>33.2</td>\n",
       "      <td>34.3</td>\n",
       "      <td>28.1</td>\n",
       "      <td>-6.2</td>\n",
       "    </tr>\n",
       "    <tr>\n",
       "      <th>170</th>\n",
       "      <td>Saint Helena, Ascension, and Tristan da Cunha</td>\n",
       "      <td>34</td>\n",
       "      <td>41.9</td>\n",
       "      <td>42.0</td>\n",
       "      <td>41.9</td>\n",
       "      <td>-0.1</td>\n",
       "    </tr>\n",
       "    <tr>\n",
       "      <th>171</th>\n",
       "      <td>Saint Kitts and Nevis</td>\n",
       "      <td>82</td>\n",
       "      <td>35.0</td>\n",
       "      <td>35.2</td>\n",
       "      <td>34.8</td>\n",
       "      <td>-0.4</td>\n",
       "    </tr>\n",
       "    <tr>\n",
       "      <th>175</th>\n",
       "      <td>Saint Vincent and the Grenadines</td>\n",
       "      <td>91</td>\n",
       "      <td>33.6</td>\n",
       "      <td>33.8</td>\n",
       "      <td>33.4</td>\n",
       "      <td>-0.4</td>\n",
       "    </tr>\n",
       "    <tr>\n",
       "      <th>179</th>\n",
       "      <td>Saudi Arabia</td>\n",
       "      <td>145</td>\n",
       "      <td>27.5</td>\n",
       "      <td>28.2</td>\n",
       "      <td>26.7</td>\n",
       "      <td>-1.5</td>\n",
       "    </tr>\n",
       "    <tr>\n",
       "      <th>189</th>\n",
       "      <td>Somalia</td>\n",
       "      <td>217</td>\n",
       "      <td>18.1</td>\n",
       "      <td>18.3</td>\n",
       "      <td>17.9</td>\n",
       "      <td>-0.4</td>\n",
       "    </tr>\n",
       "    <tr>\n",
       "      <th>210</th>\n",
       "      <td>Turks and Caicos Islands</td>\n",
       "      <td>92</td>\n",
       "      <td>33.3</td>\n",
       "      <td>33.6</td>\n",
       "      <td>33.0</td>\n",
       "      <td>-0.6</td>\n",
       "    </tr>\n",
       "    <tr>\n",
       "      <th>214</th>\n",
       "      <td>United Arab Emirates</td>\n",
       "      <td>113</td>\n",
       "      <td>30.3</td>\n",
       "      <td>32.1</td>\n",
       "      <td>25.0</td>\n",
       "      <td>-7.1</td>\n",
       "    </tr>\n",
       "  </tbody>\n",
       "</table>\n",
       "</div>"
      ],
      "text/plain": [
       "                                 Country/Territory  Rank  Total(Year)  \\\n",
       "4                                          Andorra    10         44.3   \n",
       "15                                         Bahrain    99         32.3   \n",
       "23                                          Bhutan   144         27.6   \n",
       "49                                   Cote d'Ivoire   187         20.9   \n",
       "81                                       Greenland    86         33.9   \n",
       "105                                         Jordan   178         22.5   \n",
       "112                                         Kuwait   124         29.3   \n",
       "119                                          Libya   130         28.9   \n",
       "123                                          Macau    56         39.3   \n",
       "144                                          Nauru   150         26.4   \n",
       "154                                           Oman   153         25.6   \n",
       "158                               Papua New Guinea   171         23.1   \n",
       "165                                          Qatar    90         33.2   \n",
       "170  Saint Helena, Ascension, and Tristan da Cunha    34         41.9   \n",
       "171                          Saint Kitts and Nevis    82         35.0   \n",
       "175               Saint Vincent and the Grenadines    91         33.6   \n",
       "179                                   Saudi Arabia   145         27.5   \n",
       "189                                        Somalia   217         18.1   \n",
       "210                       Turks and Caicos Islands    92         33.3   \n",
       "214                           United Arab Emirates   113         30.3   \n",
       "\n",
       "     Male(Year)  Female (Year)  Male_Female_Difference  \n",
       "4          44.4           44.1                    -0.3  \n",
       "15         33.8           29.5                    -4.3  \n",
       "23         28.2           27.1                    -1.1  \n",
       "49         21.0           20.9                    -0.1  \n",
       "81         35.0           32.7                    -2.3  \n",
       "105        22.9           22.0                    -0.9  \n",
       "112        30.4           27.4                    -3.0  \n",
       "119        29.1           28.7                    -0.4  \n",
       "123        39.5           39.1                    -0.4  \n",
       "144        27.0           25.7                    -1.3  \n",
       "154        26.6           24.2                    -2.4  \n",
       "158        23.2           23.1                    -0.1  \n",
       "165        34.3           28.1                    -6.2  \n",
       "170        42.0           41.9                    -0.1  \n",
       "171        35.2           34.8                    -0.4  \n",
       "175        33.8           33.4                    -0.4  \n",
       "179        28.2           26.7                    -1.5  \n",
       "189        18.3           17.9                    -0.4  \n",
       "210        33.6           33.0                    -0.6  \n",
       "214        32.1           25.0                    -7.1  "
      ]
     },
     "execution_count": 166,
     "metadata": {},
     "output_type": "execute_result"
    }
   ],
   "source": [
    "df[df['Male(Year)'] > df['Female (Year)']]"
   ]
  },
  {
   "cell_type": "markdown",
   "metadata": {},
   "source": [
    "The homework mentions the quantile function - this is the same as the Numpy Percentile function. We'll see that pandas and numpy share a lot of similar functions."
   ]
  },
  {
   "cell_type": "code",
   "execution_count": 167,
   "metadata": {},
   "outputs": [
    {
     "data": {
      "text/plain": [
       "22.724999999999998"
      ]
     },
     "execution_count": 167,
     "metadata": {},
     "output_type": "execute_result"
    }
   ],
   "source": [
    "df['Male(Year)'].quantile(0.25)"
   ]
  },
  {
   "cell_type": "code",
   "execution_count": 168,
   "metadata": {},
   "outputs": [
    {
     "data": {
      "text/plain": [
       "22.724999999999998"
      ]
     },
     "execution_count": 168,
     "metadata": {},
     "output_type": "execute_result"
    }
   ],
   "source": [
    "np.percentile(df['Male(Year)'], 25)"
   ]
  },
  {
   "cell_type": "markdown",
   "metadata": {},
   "source": [
    "We can also run functions on entire series such as multiplication or division. We can even multiply, add, subtract or divide numerical columns by each other and form new columns with them."
   ]
  },
  {
   "cell_type": "code",
   "execution_count": 79,
   "metadata": {},
   "outputs": [
    {
     "data": {
      "text/plain": [
       "0     9.45\n",
       "1    17.15\n",
       "2    14.20\n",
       "3    13.00\n",
       "4    22.05\n",
       "Name: Female (Year), dtype: float64"
      ]
     },
     "execution_count": 79,
     "metadata": {},
     "output_type": "execute_result"
    }
   ],
   "source": [
    "(df['Female (Year)'] / 2).head()"
   ]
  },
  {
   "cell_type": "code",
   "execution_count": 80,
   "metadata": {},
   "outputs": [],
   "source": [
    "df['Male_Female_Difference'] = df['Female (Year)'] - df['Male(Year)']"
   ]
  },
  {
   "cell_type": "markdown",
   "metadata": {},
   "source": [
    "We can use numpy's 'power' function to square a series"
   ]
  },
  {
   "cell_type": "code",
   "execution_count": 81,
   "metadata": {},
   "outputs": [
    {
     "data": {
      "text/plain": [
       "0     357.21\n",
       "1    1176.49\n",
       "2     806.56\n",
       "3     676.00\n",
       "4    1944.81\n",
       "Name: Female (Year), dtype: float64"
      ]
     },
     "execution_count": 81,
     "metadata": {},
     "output_type": "execute_result"
    }
   ],
   "source": [
    "(np.power(df['Female (Year)'], 2)).head()"
   ]
  },
  {
   "cell_type": "code",
   "execution_count": null,
   "metadata": {},
   "outputs": [],
   "source": []
  }
 ],
 "metadata": {
  "kernelspec": {
   "display_name": "Python 3",
   "language": "python",
   "name": "python3"
  },
  "language_info": {
   "codemirror_mode": {
    "name": "ipython",
    "version": 3
   },
   "file_extension": ".py",
   "mimetype": "text/x-python",
   "name": "python",
   "nbconvert_exporter": "python",
   "pygments_lexer": "ipython3",
   "version": "3.7.1"
  }
 },
 "nbformat": 4,
 "nbformat_minor": 2
}
