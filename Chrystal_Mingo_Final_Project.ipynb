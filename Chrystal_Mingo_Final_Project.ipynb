{
 "cells": [
  {
   "cell_type": "markdown",
   "metadata": {},
   "source": [
    "# Chrystal Mingo\n",
    "# CSC 217 Final Project\n",
    "## The World's Population"
   ]
  },
  {
   "cell_type": "markdown",
   "metadata": {},
   "source": [
    "## Introduction:"
   ]
  },
  {
   "cell_type": "markdown",
   "metadata": {},
   "source": [
    "\n",
    "For my project, I will be explore the World's population, looking into how it has grown over the decades since 1500 to 2018. I will be looking into another category to gather information about the world population in regards to which cities are the most densely populated and over all identify which parts of the world most of the population resides in.\n",
    "\n",
    "I will be analyzing the growth of the world's population by using statistics to identify any correlations between the decades since 1500 to 2018 to identify a line of best fit that helps serve as a visual of how the world's population is growing and to hopefully predict the future growth rate. Hypothesis testing will be done to identify which areas such as the 10 largest cities in the world are the most densely populated. Last but not least I will end with a visual representation of where most of the population resides.\n",
    "\n",
    "The data that I will be using is pulled from a Wikipedia article called \"Demographics of the World\", located [here]('https://en.wikipedia.org/wiki/Demographics_of_the_world'). \n",
    "\n",
    "First I'll import the necessary packages down, along with my data and the tables I shall be using for this project."
   ]
  },
  {
   "cell_type": "code",
   "execution_count": 285,
   "metadata": {},
   "outputs": [],
   "source": [
    "import pandas as pd\n",
    "import numpy as np\n",
    "import seaborn as sns\n",
    "import scipy.stats as stats\n",
    "import matplotlib.pyplot as plt\n",
    "%matplotlib inline"
   ]
  },
  {
   "cell_type": "markdown",
   "metadata": {},
   "source": [
    "Note that this dataset has 16 tables, I shall only be using 3 tables specifically {0,1,2}"
   ]
  },
  {
   "cell_type": "code",
   "execution_count": 286,
   "metadata": {},
   "outputs": [
    {
     "name": "stdout",
     "output_type": "stream",
     "text": [
      "16\n"
     ]
    }
   ],
   "source": [
    "tables = pd.read_html('https://en.wikipedia.org/wiki/Demographics_of_the_world')\n",
    "print(len(tables))\n"
   ]
  },
  {
   "cell_type": "markdown",
   "metadata": {},
   "source": [
    "## Table 1: The World Population Growth\n",
    "\n",
    "#### Brief overview of content in Table 1:\n",
    "\n",
    "- Central Tendencies\n",
    "- Measure of Spread\n",
    "- Vizualization\n",
    "- Regression"
   ]
  },
  {
   "cell_type": "markdown",
   "metadata": {},
   "source": [
    "This is how I call the first table focusing on the World's population growth since 1500 to 2018."
   ]
  },
  {
   "cell_type": "code",
   "execution_count": 287,
   "metadata": {},
   "outputs": [],
   "source": [
    "df_1 = pd.read_html('https://en.wikipedia.org/wiki/Demographics_of_the_world', header=1)[0]"
   ]
  },
  {
   "cell_type": "markdown",
   "metadata": {},
   "source": [
    "The data is shown below where year goes from 1500 - 2018 and million represents the population  (in millions) during those years."
   ]
  },
  {
   "cell_type": "code",
   "execution_count": 288,
   "metadata": {},
   "outputs": [
    {
     "data": {
      "text/html": [
       "<div>\n",
       "<style scoped>\n",
       "    .dataframe tbody tr th:only-of-type {\n",
       "        vertical-align: middle;\n",
       "    }\n",
       "\n",
       "    .dataframe tbody tr th {\n",
       "        vertical-align: top;\n",
       "    }\n",
       "\n",
       "    .dataframe thead th {\n",
       "        text-align: right;\n",
       "    }\n",
       "</style>\n",
       "<table border=\"1\" class=\"dataframe\">\n",
       "  <thead>\n",
       "    <tr style=\"text-align: right;\">\n",
       "      <th></th>\n",
       "      <th>Year</th>\n",
       "      <th>Million</th>\n",
       "    </tr>\n",
       "  </thead>\n",
       "  <tbody>\n",
       "    <tr>\n",
       "      <th>0</th>\n",
       "      <td>1500</td>\n",
       "      <td>458</td>\n",
       "    </tr>\n",
       "    <tr>\n",
       "      <th>1</th>\n",
       "      <td>1600</td>\n",
       "      <td>580</td>\n",
       "    </tr>\n",
       "    <tr>\n",
       "      <th>2</th>\n",
       "      <td>1700</td>\n",
       "      <td>682</td>\n",
       "    </tr>\n",
       "    <tr>\n",
       "      <th>3</th>\n",
       "      <td>1750</td>\n",
       "      <td>791</td>\n",
       "    </tr>\n",
       "    <tr>\n",
       "      <th>4</th>\n",
       "      <td>1800</td>\n",
       "      <td>978</td>\n",
       "    </tr>\n",
       "    <tr>\n",
       "      <th>5</th>\n",
       "      <td>1850</td>\n",
       "      <td>1262</td>\n",
       "    </tr>\n",
       "    <tr>\n",
       "      <th>6</th>\n",
       "      <td>1900</td>\n",
       "      <td>1650</td>\n",
       "    </tr>\n",
       "    <tr>\n",
       "      <th>7</th>\n",
       "      <td>1950</td>\n",
       "      <td>2521</td>\n",
       "    </tr>\n",
       "    <tr>\n",
       "      <th>8</th>\n",
       "      <td>1999</td>\n",
       "      <td>5978</td>\n",
       "    </tr>\n",
       "    <tr>\n",
       "      <th>9</th>\n",
       "      <td>2008</td>\n",
       "      <td>6707</td>\n",
       "    </tr>\n",
       "    <tr>\n",
       "      <th>10</th>\n",
       "      <td>2011</td>\n",
       "      <td>7000</td>\n",
       "    </tr>\n",
       "    <tr>\n",
       "      <th>11</th>\n",
       "      <td>2015</td>\n",
       "      <td>7350</td>\n",
       "    </tr>\n",
       "    <tr>\n",
       "      <th>12</th>\n",
       "      <td>2018</td>\n",
       "      <td>7600</td>\n",
       "    </tr>\n",
       "  </tbody>\n",
       "</table>\n",
       "</div>"
      ],
      "text/plain": [
       "    Year  Million\n",
       "0   1500      458\n",
       "1   1600      580\n",
       "2   1700      682\n",
       "3   1750      791\n",
       "4   1800      978\n",
       "5   1850     1262\n",
       "6   1900     1650\n",
       "7   1950     2521\n",
       "8   1999     5978\n",
       "9   2008     6707\n",
       "10  2011     7000\n",
       "11  2015     7350\n",
       "12  2018     7600"
      ]
     },
     "execution_count": 288,
     "metadata": {},
     "output_type": "execute_result"
    }
   ],
   "source": [
    "df_1"
   ]
  },
  {
   "cell_type": "markdown",
   "metadata": {},
   "source": [
    "The world's population was at its highest compared to the past years in 2018, with a population of 7.6 billion people."
   ]
  },
  {
   "cell_type": "code",
   "execution_count": 289,
   "metadata": {},
   "outputs": [
    {
     "data": {
      "text/html": [
       "<div>\n",
       "<style scoped>\n",
       "    .dataframe tbody tr th:only-of-type {\n",
       "        vertical-align: middle;\n",
       "    }\n",
       "\n",
       "    .dataframe tbody tr th {\n",
       "        vertical-align: top;\n",
       "    }\n",
       "\n",
       "    .dataframe thead th {\n",
       "        text-align: right;\n",
       "    }\n",
       "</style>\n",
       "<table border=\"1\" class=\"dataframe\">\n",
       "  <thead>\n",
       "    <tr style=\"text-align: right;\">\n",
       "      <th></th>\n",
       "      <th>Year</th>\n",
       "      <th>Million</th>\n",
       "    </tr>\n",
       "  </thead>\n",
       "  <tbody>\n",
       "    <tr>\n",
       "      <th>12</th>\n",
       "      <td>2018</td>\n",
       "      <td>7600</td>\n",
       "    </tr>\n",
       "  </tbody>\n",
       "</table>\n",
       "</div>"
      ],
      "text/plain": [
       "    Year  Million\n",
       "12  2018     7600"
      ]
     },
     "execution_count": 289,
     "metadata": {},
     "output_type": "execute_result"
    }
   ],
   "source": [
    "df_1[df_1['Year'] == np.max(df_1['Year'])]"
   ]
  },
  {
   "cell_type": "markdown",
   "metadata": {},
   "source": [
    "The world's population in 1500s was the lowest compared to the years thereafter, with a population of 458 million people."
   ]
  },
  {
   "cell_type": "code",
   "execution_count": 290,
   "metadata": {},
   "outputs": [
    {
     "data": {
      "text/html": [
       "<div>\n",
       "<style scoped>\n",
       "    .dataframe tbody tr th:only-of-type {\n",
       "        vertical-align: middle;\n",
       "    }\n",
       "\n",
       "    .dataframe tbody tr th {\n",
       "        vertical-align: top;\n",
       "    }\n",
       "\n",
       "    .dataframe thead th {\n",
       "        text-align: right;\n",
       "    }\n",
       "</style>\n",
       "<table border=\"1\" class=\"dataframe\">\n",
       "  <thead>\n",
       "    <tr style=\"text-align: right;\">\n",
       "      <th></th>\n",
       "      <th>Year</th>\n",
       "      <th>Million</th>\n",
       "    </tr>\n",
       "  </thead>\n",
       "  <tbody>\n",
       "    <tr>\n",
       "      <th>0</th>\n",
       "      <td>1500</td>\n",
       "      <td>458</td>\n",
       "    </tr>\n",
       "  </tbody>\n",
       "</table>\n",
       "</div>"
      ],
      "text/plain": [
       "   Year  Million\n",
       "0  1500      458"
      ]
     },
     "execution_count": 290,
     "metadata": {},
     "output_type": "execute_result"
    }
   ],
   "source": [
    "df_1[df_1['Year'] == np.min(df_1['Year'])] #1500 has the lowest"
   ]
  },
  {
   "cell_type": "markdown",
   "metadata": {},
   "source": [
    "The world's population from 1500 to 2018 has increased by 7.142 billion. "
   ]
  },
  {
   "cell_type": "code",
   "execution_count": 291,
   "metadata": {},
   "outputs": [
    {
     "data": {
      "text/plain": [
       "7142"
      ]
     },
     "execution_count": 291,
     "metadata": {},
     "output_type": "execute_result"
    }
   ],
   "source": [
    "np.max(df_1['Million'])-np.min(df_1['Million'])"
   ]
  },
  {
   "cell_type": "markdown",
   "metadata": {},
   "source": [
    "The mean of the world's population is approximately 3.35billion while the variance is much higher than the mean with a variance of 8371343 million. Having such a large variance means that most of the data is not residing close to the mean, it is spread further from it for a matter of fact. Overall this helps to showcase that the mean isn't a good representation of the average population over the decades from 1500 to 2018."
   ]
  },
  {
   "cell_type": "code",
   "execution_count": 292,
   "metadata": {},
   "outputs": [
    {
     "data": {
      "text/plain": [
       "3350.5384615384614"
      ]
     },
     "execution_count": 292,
     "metadata": {},
     "output_type": "execute_result"
    }
   ],
   "source": [
    "np.mean(df_1['Million'])"
   ]
  },
  {
   "cell_type": "code",
   "execution_count": 293,
   "metadata": {},
   "outputs": [
    {
     "data": {
      "text/plain": [
       "8371343.633136095"
      ]
     },
     "execution_count": 293,
     "metadata": {},
     "output_type": "execute_result"
    }
   ],
   "source": [
    "#Varience\n",
    "np.var(df_1['Million'])"
   ]
  },
  {
   "cell_type": "markdown",
   "metadata": {},
   "source": [
    "The boxplot helps to showcase the median (Q2), also the min and max of the world population, in addition to the Q1, and Q3, from which the Interquartile Range can be found. \n",
    "\n",
    "- The median of the world's population is 1.65 billion, the first quartile is 791 million, the third quartile is 6.7 billion. The Interquatile range of the world's population is 5.9 billion."
   ]
  },
  {
   "cell_type": "code",
   "execution_count": 294,
   "metadata": {},
   "outputs": [
    {
     "data": {
      "text/plain": [
       "{'whiskers': [<matplotlib.lines.Line2D at 0x1a2091e710>,\n",
       "  <matplotlib.lines.Line2D at 0x1a2091e9e8>],\n",
       " 'caps': [<matplotlib.lines.Line2D at 0x1a2091ed30>,\n",
       "  <matplotlib.lines.Line2D at 0x1a2091ee10>],\n",
       " 'boxes': [<matplotlib.lines.Line2D at 0x1a2091e2e8>],\n",
       " 'medians': [<matplotlib.lines.Line2D at 0x1a20927400>],\n",
       " 'fliers': [<matplotlib.lines.Line2D at 0x1a20927748>],\n",
       " 'means': []}"
      ]
     },
     "execution_count": 294,
     "metadata": {},
     "output_type": "execute_result"
    },
    {
     "data": {
      "image/png": "[encoded data removed]",
      "text/plain": [
       "<Figure size 360x360 with 1 Axes>"
      ]
     },
     "metadata": {
      "needs_background": "light"
     },
     "output_type": "display_data"
    }
   ],
   "source": [
    "fig = plt.figure(figsize=(5,5))\n",
    "plt.boxplot(df_1['Million'])"
   ]
  },
  {
   "cell_type": "code",
   "execution_count": 295,
   "metadata": {},
   "outputs": [
    {
     "data": {
      "text/plain": [
       "791.0"
      ]
     },
     "execution_count": 295,
     "metadata": {},
     "output_type": "execute_result"
    }
   ],
   "source": [
    "#The First Quartile \n",
    "np.percentile(df_1['Million'], q=25) "
   ]
  },
  {
   "cell_type": "code",
   "execution_count": 296,
   "metadata": {},
   "outputs": [
    {
     "data": {
      "text/plain": [
       "1650.0"
      ]
     },
     "execution_count": 296,
     "metadata": {},
     "output_type": "execute_result"
    }
   ],
   "source": [
    "#The Second Quartile/Median\n",
    "np.percentile(df_1['Million'], q=50) "
   ]
  },
  {
   "cell_type": "code",
   "execution_count": 297,
   "metadata": {},
   "outputs": [
    {
     "data": {
      "text/plain": [
       "6707.0"
      ]
     },
     "execution_count": 297,
     "metadata": {},
     "output_type": "execute_result"
    }
   ],
   "source": [
    "#The Third Quartile\n",
    "np.percentile(df_1['Million'], q=75) "
   ]
  },
  {
   "cell_type": "code",
   "execution_count": 298,
   "metadata": {},
   "outputs": [
    {
     "data": {
      "text/plain": [
       "5916.0"
      ]
     },
     "execution_count": 298,
     "metadata": {},
     "output_type": "execute_result"
    }
   ],
   "source": [
    "#Interquartile Range\n",
    "np.percentile(df_1['Million'], q=75) - np.percentile(df_1['Million'], q=25)"
   ]
  },
  {
   "cell_type": "markdown",
   "metadata": {},
   "source": [
    "This bar graph gives a visual of how the population has increased from 1500 to 2018"
   ]
  },
  {
   "cell_type": "code",
   "execution_count": 299,
   "metadata": {},
   "outputs": [
    {
     "data": {
      "text/plain": [
       "<matplotlib.axes._subplots.AxesSubplot at 0x1a208902e8>"
      ]
     },
     "execution_count": 299,
     "metadata": {},
     "output_type": "execute_result"
    },
    {
     "data": {
      "image/png": "[encoded data removed]",
      "text/plain": [
       "<Figure size 432x288 with 1 Axes>"
      ]
     },
     "metadata": {
      "needs_background": "light"
     },
     "output_type": "display_data"
    }
   ],
   "source": [
    "df_1.plot.bar(x='Year', y='Million')"
   ]
  },
  {
   "cell_type": "markdown",
   "metadata": {},
   "source": [
    "### Correlation between the Decades and World Population"
   ]
  },
  {
   "cell_type": "markdown",
   "metadata": {},
   "source": [
    "Now I want to focus on finding a correlation between the population over the decades to find an appropriate equation and line of best fit that can be used to approximate the population at any given year."
   ]
  },
  {
   "cell_type": "markdown",
   "metadata": {},
   "source": [
    "#### Scatter Plot of the World's Population Growth"
   ]
  },
  {
   "cell_type": "code",
   "execution_count": 300,
   "metadata": {},
   "outputs": [
    {
     "data": {
      "text/plain": [
       "Text(0, 0.5, 'Population in Millions')"
      ]
     },
     "execution_count": 300,
     "metadata": {},
     "output_type": "execute_result"
    },
    {
     "data": {
      "image/png": "[encoded data removed]",
      "text/plain": [
       "<Figure size 360x360 with 1 Axes>"
      ]
     },
     "metadata": {
      "needs_background": "light"
     },
     "output_type": "display_data"
    }
   ],
   "source": [
    "fig = plt.figure(figsize=(5,5))\n",
    "plt.scatter(df_1['Year'], df_1['Million'])\n",
    "fig.suptitle(\"The World's Population Growth\" , fontsize=15, y=0.92)\n",
    "plt.xlabel('Years')\n",
    "plt.ylabel('Population in Millions')"
   ]
  },
  {
   "cell_type": "markdown",
   "metadata": {},
   "source": [
    "The function below helps me gather information such as the slope, intercept, predictions, and residuals of the data."
   ]
  },
  {
   "cell_type": "code",
   "execution_count": 301,
   "metadata": {},
   "outputs": [],
   "source": [
    "def evaluate_linear_relationship(a, b):\n",
    "    slope = np.cov(a, b, bias=True)[0][1] / np.var(a)\n",
    "    intercept = np.mean(b) - (slope * np.mean(a))\n",
    "    predictions = (slope * a) + intercept\n",
    "    residuals = b - predictions\n",
    "    return slope, intercept, predictions, residuals"
   ]
  },
  {
   "cell_type": "code",
   "execution_count": 302,
   "metadata": {},
   "outputs": [],
   "source": [
    "slope_pop, intercept_pop, predictions_pop, residuals_pop = evaluate_linear_relationship(df_1['Year'], (df_1['Million']))"
   ]
  },
  {
   "cell_type": "markdown",
   "metadata": {},
   "source": [
    "Below is the line of best fit for the World's Population growth looking at the relationship between the years and population in millions. From the result of the line of best fit we reach the conclusion that it does not efficiently work to show the correlation between the two variables because it is a non-linear graph."
   ]
  },
  {
   "cell_type": "code",
   "execution_count": 303,
   "metadata": {},
   "outputs": [
    {
     "data": {
      "text/plain": [
       "Text(0, 0.5, 'Population in Millions')"
      ]
     },
     "execution_count": 303,
     "metadata": {},
     "output_type": "execute_result"
    },
    {
     "data": {
      "image/png": "[encoded data removed]",
      "text/plain": [
       "<Figure size 360x360 with 1 Axes>"
      ]
     },
     "metadata": {
      "needs_background": "light"
     },
     "output_type": "display_data"
    }
   ],
   "source": [
    "fig = plt.figure(figsize=(5,5))\n",
    "plt.scatter(df_1['Year'], df_1['Million'])\n",
    "sorted_order = np.argsort(df_1['Million'])\n",
    "plt.plot(df_1['Year'][sorted_order], predictions_pop[sorted_order])\n",
    "fig.suptitle(\"The World's Population Growth\", fontsize=15, y=0.92)\n",
    "plt.xlabel('Years')\n",
    "plt.ylabel('Population in Millions')"
   ]
  },
  {
   "cell_type": "markdown",
   "metadata": {},
   "source": [
    "The residual also does not look like it has any random points but much rather has a pattern, which makes the data less useful for the correaltion test."
   ]
  },
  {
   "cell_type": "code",
   "execution_count": 304,
   "metadata": {},
   "outputs": [
    {
     "data": {
      "text/plain": [
       "Text(0.5, 0.92, 'Residuals')"
      ]
     },
     "execution_count": 304,
     "metadata": {},
     "output_type": "execute_result"
    },
    {
     "data": {
      "image/png": "[encoded data removed]",
      "text/plain": [
       "<Figure size 360x360 with 1 Axes>"
      ]
     },
     "metadata": {
      "needs_background": "light"
     },
     "output_type": "display_data"
    }
   ],
   "source": [
    "fig = plt.figure(figsize=(5,5))\n",
    "plt.scatter(df_1['Million'], residuals_pop)\n",
    "plt.plot([0, df_1['Million'][len(df_1) - 1]], [0,0], linestyle='dotted')\n",
    "plt.xlabel('Millions')\n",
    "plt.ylabel('Residuals')\n",
    "fig.suptitle('Residuals', fontsize=15, y=0.92)"
   ]
  },
  {
   "cell_type": "markdown",
   "metadata": {},
   "source": [
    "To try and get the data to be more in a linear structure and to find the line of best fit I took the log of the world's population:"
   ]
  },
  {
   "cell_type": "code",
   "execution_count": 305,
   "metadata": {},
   "outputs": [
    {
     "data": {
      "text/plain": [
       "Text(0, 0.5, 'Population in Millions (logged)')"
      ]
     },
     "execution_count": 305,
     "metadata": {},
     "output_type": "execute_result"
    },
    {
     "data": {
      "image/png": "[encoded data removed]",
      "text/plain": [
       "<Figure size 360x360 with 1 Axes>"
      ]
     },
     "metadata": {
      "needs_background": "light"
     },
     "output_type": "display_data"
    }
   ],
   "source": [
    "fig = plt.figure(figsize=(5,5))\n",
    "plt.scatter(df_1['Year'], np.log(df_1['Million']))\n",
    "fig.suptitle(\"The World's Population Growth\" , fontsize=15, y=0.92)\n",
    "plt.xlabel('Years')\n",
    "plt.ylabel('Population in Millions (logged)')"
   ]
  },
  {
   "cell_type": "code",
   "execution_count": 306,
   "metadata": {},
   "outputs": [],
   "source": [
    "slope_pop, intercept_pop, predictions_pop, residuals_pop = evaluate_linear_relationship(df_1['Year'], np.log(df_1['Million']))"
   ]
  },
  {
   "cell_type": "markdown",
   "metadata": {},
   "source": [
    "The line of best fit for the relationship between the Years and Population of the World (Logged)"
   ]
  },
  {
   "cell_type": "markdown",
   "metadata": {},
   "source": [
    "Even after doing the log of the World's Population in millions the line of best fit is still too far away from the points, which would lead to an inaccurate slope representation of decades and their population estimated."
   ]
  },
  {
   "cell_type": "code",
   "execution_count": 307,
   "metadata": {},
   "outputs": [
    {
     "data": {
      "text/plain": [
       "Text(0, 0.5, 'Population in Millions (logged)')"
      ]
     },
     "execution_count": 307,
     "metadata": {},
     "output_type": "execute_result"
    },
    {
     "data": {
      "image/png": "[encoded data removed]",
      "text/plain": [
       "<Figure size 360x360 with 1 Axes>"
      ]
     },
     "metadata": {
      "needs_background": "light"
     },
     "output_type": "display_data"
    }
   ],
   "source": [
    "fig = plt.figure(figsize=(5,5))\n",
    "plt.scatter(df_1['Year'], np.log(df_1['Million']))\n",
    "sorted_order = np.argsort(df_1['Year'])\n",
    "plt.plot(df_1['Year'][sorted_order], predictions_pop[sorted_order])\n",
    "fig.suptitle(\"The World's Population Growth\" , fontsize=15, y=0.92)\n",
    "plt.xlabel('Years')\n",
    "plt.ylabel('Population in Millions (logged)')"
   ]
  },
  {
   "cell_type": "markdown",
   "metadata": {},
   "source": [
    "The resdidual continues to follow a pattern, which means it does not look random, and makes the data less useful for the correaltion test."
   ]
  },
  {
   "cell_type": "code",
   "execution_count": 308,
   "metadata": {},
   "outputs": [
    {
     "data": {
      "text/plain": [
       "Text(0, 0.5, 'Population in Millions (logged)')"
      ]
     },
     "execution_count": 308,
     "metadata": {},
     "output_type": "execute_result"
    },
    {
     "data": {
      "image/png": "[encoded data removed]",
      "text/plain": [
       "<Figure size 360x360 with 1 Axes>"
      ]
     },
     "metadata": {
      "needs_background": "light"
     },
     "output_type": "display_data"
    }
   ],
   "source": [
    "fig = plt.figure(figsize=(5,5))\n",
    "plt.scatter(np.log(df_1['Million']), residuals_pop)\n",
    "plt.plot([0, np.log(df_1['Million'])[len(df_1) - 1]], [0,0], linestyle='dotted')\n",
    "fig.suptitle(\"The World's Population Growth\" , fontsize=15, y=0.92)\n",
    "plt.xlabel('Years')\n",
    "plt.ylabel('Population in Millions (logged)')"
   ]
  },
  {
   "cell_type": "code",
   "execution_count": 309,
   "metadata": {},
   "outputs": [
    {
     "data": {
      "text/plain": [
       "1.1472664341049332e-05"
      ]
     },
     "execution_count": 309,
     "metadata": {},
     "output_type": "execute_result"
    }
   ],
   "source": [
    "#R-Squared Value\n",
    "np.var(predictions_pop) / np.var(df_1[\"Million\"]) *100"
   ]
  },
  {
   "cell_type": "markdown",
   "metadata": {},
   "source": [
    "The relationship between the decades from 1500 to 2018 to the world's population is non-linear. There is an R-squared value of 1.5% which means that the line of best fit doesn't truly represent the correlation between the years and population. The residuals plots as well leave a predictive linear model unreliable, since it follows a pattern and is not random. In addition the line of best fit was not appropriate for the regular data nor the logged version of the data."
   ]
  },
  {
   "cell_type": "markdown",
   "metadata": {},
   "source": [
    "### Alternate Idea to get line of best fit"
   ]
  },
  {
   "cell_type": "markdown",
   "metadata": {},
   "source": [
    "Since the regular data nor the logged version was suitable for finding the line of best fit, I want to focus in on the population from 1999-2018."
   ]
  },
  {
   "cell_type": "code",
   "execution_count": 310,
   "metadata": {},
   "outputs": [
    {
     "data": {
      "text/html": [
       "<div>\n",
       "<style scoped>\n",
       "    .dataframe tbody tr th:only-of-type {\n",
       "        vertical-align: middle;\n",
       "    }\n",
       "\n",
       "    .dataframe tbody tr th {\n",
       "        vertical-align: top;\n",
       "    }\n",
       "\n",
       "    .dataframe thead th {\n",
       "        text-align: right;\n",
       "    }\n",
       "</style>\n",
       "<table border=\"1\" class=\"dataframe\">\n",
       "  <thead>\n",
       "    <tr style=\"text-align: right;\">\n",
       "      <th></th>\n",
       "      <th>Year</th>\n",
       "      <th>Million</th>\n",
       "    </tr>\n",
       "  </thead>\n",
       "  <tbody>\n",
       "    <tr>\n",
       "      <th>8</th>\n",
       "      <td>1999</td>\n",
       "      <td>5978</td>\n",
       "    </tr>\n",
       "    <tr>\n",
       "      <th>9</th>\n",
       "      <td>2008</td>\n",
       "      <td>6707</td>\n",
       "    </tr>\n",
       "    <tr>\n",
       "      <th>10</th>\n",
       "      <td>2011</td>\n",
       "      <td>7000</td>\n",
       "    </tr>\n",
       "    <tr>\n",
       "      <th>11</th>\n",
       "      <td>2015</td>\n",
       "      <td>7350</td>\n",
       "    </tr>\n",
       "    <tr>\n",
       "      <th>12</th>\n",
       "      <td>2018</td>\n",
       "      <td>7600</td>\n",
       "    </tr>\n",
       "  </tbody>\n",
       "</table>\n",
       "</div>"
      ],
      "text/plain": [
       "    Year  Million\n",
       "8   1999     5978\n",
       "9   2008     6707\n",
       "10  2011     7000\n",
       "11  2015     7350\n",
       "12  2018     7600"
      ]
     },
     "execution_count": 310,
     "metadata": {},
     "output_type": "execute_result"
    }
   ],
   "source": [
    "new_df = df_1[8:13]\n",
    "new_df"
   ]
  },
  {
   "cell_type": "code",
   "execution_count": 311,
   "metadata": {},
   "outputs": [],
   "source": [
    "new_df = new_df.reset_index(drop=True)"
   ]
  },
  {
   "cell_type": "code",
   "execution_count": 312,
   "metadata": {},
   "outputs": [],
   "source": [
    "slope_pop, intercept_pop, predictions_pop, residuals_pop = evaluate_linear_relationship(new_df['Year'], (new_df['Million']))"
   ]
  },
  {
   "cell_type": "markdown",
   "metadata": {},
   "source": [
    "When I focused in on the recent years data ranging from the years 1999-2018 the scatterplot looks quite linear, meaning the line of best fit can be applied."
   ]
  },
  {
   "cell_type": "code",
   "execution_count": 313,
   "metadata": {},
   "outputs": [
    {
     "data": {
      "text/plain": [
       "Text(0, 0.5, 'Population in Millions')"
      ]
     },
     "execution_count": 313,
     "metadata": {},
     "output_type": "execute_result"
    },
    {
     "data": {
      "image/png": "[encoded data removed]",
      "text/plain": [
       "<Figure size 360x360 with 1 Axes>"
      ]
     },
     "metadata": {
      "needs_background": "light"
     },
     "output_type": "display_data"
    }
   ],
   "source": [
    "fig = plt.figure(figsize=(5,5))\n",
    "plt.scatter(new_df['Year'], new_df['Million'])\n",
    "fig.suptitle(\"The World's Population Growth\" , fontsize=15, y=0.92)\n",
    "plt.xticks(range(new_df['Year'].min(),new_df['Year'].max(),3))\n",
    "plt.xlabel('Years')\n",
    "plt.ylabel('Population in Millions')"
   ]
  },
  {
   "cell_type": "markdown",
   "metadata": {},
   "source": [
    "The resdiual of the data although few data points are being used, the data is still quite random and does not follow a pattern. "
   ]
  },
  {
   "cell_type": "markdown",
   "metadata": {},
   "source": [
    "Residual:"
   ]
  },
  {
   "cell_type": "code",
   "execution_count": 314,
   "metadata": {},
   "outputs": [
    {
     "data": {
      "text/plain": [
       "Text(0.5, 0.92, 'Residuals')"
      ]
     },
     "execution_count": 314,
     "metadata": {},
     "output_type": "execute_result"
    },
    {
     "data": {
      "image/png": "[encoded data removed]",
      "text/plain": [
       "<Figure size 360x360 with 1 Axes>"
      ]
     },
     "metadata": {
      "needs_background": "light"
     },
     "output_type": "display_data"
    }
   ],
   "source": [
    "fig = plt.figure(figsize=(5,5))\n",
    "plt.scatter(new_df['Million'], residuals_pop)\n",
    "plt.plot([0, new_df['Million'][len(new_df) - 1]], [0,0], linestyle='dotted')\n",
    "plt.xlabel('Years since 1999')\n",
    "plt.ylabel('Residuals')\n",
    "fig.suptitle('Residuals', fontsize=15, y=0.92)"
   ]
  },
  {
   "cell_type": "markdown",
   "metadata": {},
   "source": [
    "#### Line of best fit:"
   ]
  },
  {
   "cell_type": "code",
   "execution_count": 315,
   "metadata": {},
   "outputs": [
    {
     "data": {
      "text/plain": [
       "Text(0, 0.5, 'Population in Millions')"
      ]
     },
     "execution_count": 315,
     "metadata": {},
     "output_type": "execute_result"
    },
    {
     "data": {
      "image/png": "[encoded data removed]",
      "text/plain": [
       "<Figure size 360x360 with 1 Axes>"
      ]
     },
     "metadata": {
      "needs_background": "light"
     },
     "output_type": "display_data"
    }
   ],
   "source": [
    "fig = plt.figure(figsize=(5,5))\n",
    "plt.scatter(new_df['Year'],(new_df['Million']))\n",
    "sorted_order = np.argsort(new_df['Year'])\n",
    "plt.plot(new_df['Year'][sorted_order], predictions_pop[sorted_order])\n",
    "plt.xticks(range(new_df['Year'].min(),new_df['Year'].max(),3))\n",
    "fig.suptitle(\"The World's Population Growth\" , fontsize=15, y=0.92)\n",
    "plt.xlabel('Years')\n",
    "plt.ylabel('Population in Millions')"
   ]
  },
  {
   "cell_type": "code",
   "execution_count": 316,
   "metadata": {},
   "outputs": [
    {
     "data": {
      "text/plain": [
       "99.91964461190884"
      ]
     },
     "execution_count": 316,
     "metadata": {},
     "output_type": "execute_result"
    }
   ],
   "source": [
    "#R-Squared Value\n",
    "np.var(predictions_pop) / np.var(new_df[\"Million\"])*100"
   ]
  },
  {
   "cell_type": "code",
   "execution_count": 317,
   "metadata": {},
   "outputs": [
    {
     "data": {
      "text/plain": [
       "85.89851024208566"
      ]
     },
     "execution_count": 317,
     "metadata": {},
     "output_type": "execute_result"
    }
   ],
   "source": [
    "slope_pop"
   ]
  },
  {
   "cell_type": "code",
   "execution_count": 318,
   "metadata": {},
   "outputs": [
    {
     "data": {
      "text/plain": [
       "-165746.1852886406"
      ]
     },
     "execution_count": 318,
     "metadata": {},
     "output_type": "execute_result"
    }
   ],
   "source": [
    "intercept_pop"
   ]
  },
  {
   "cell_type": "markdown",
   "metadata": {},
   "source": [
    "y = mx + b\n",
    "\n",
    "y = 85.9x -165746.1\n",
    "\n",
    "The linear equation above is the euation for the line of best fit between the years and the population in millions, it can be used to approximate the population after 1999.\n",
    "\n",
    "Example:\n",
    "\n",
    "I found the population for 2017 to be 7.55 billion [here]('https://www.worldometers.info/world-population/') and my model predicted 7.51 billion, although not perfect it is quite close to the actaul population of the world during 2017."
   ]
  },
  {
   "cell_type": "code",
   "execution_count": 319,
   "metadata": {},
   "outputs": [
    {
     "data": {
      "text/plain": [
       "7511.10986964617"
      ]
     },
     "execution_count": 319,
     "metadata": {},
     "output_type": "execute_result"
    }
   ],
   "source": [
    "y = slope_pop*(2017) + intercept_pop\n",
    "y"
   ]
  },
  {
   "cell_type": "markdown",
   "metadata": {},
   "source": [
    "When I focused the data on the relationship between the years from 1999-2018 with the population in millions I found a linear relationship between the variables, as well as an r^2 = 99% meaning that there is a strong correlation between the years and population growth. Now we can use this line of best fit as a predictor of the population's growth thereafter 1999."
   ]
  },
  {
   "cell_type": "markdown",
   "metadata": {},
   "source": [
    "## The 10 Largest Cities in the World and their Population\n"
   ]
  },
  {
   "cell_type": "markdown",
   "metadata": {},
   "source": [
    "#### Brief overview of content in Table 2:\n",
    "- Central tendencies of these cities\n",
    "- Measure of spread\n",
    "- Hypothesis Testing"
   ]
  },
  {
   "cell_type": "markdown",
   "metadata": {},
   "source": [
    "Data Table with information regarding the top  major 10 cities of the world showcasing their population, country, area, density, what type of area it is, as well as ranking:"
   ]
  },
  {
   "cell_type": "code",
   "execution_count": 320,
   "metadata": {},
   "outputs": [
    {
     "data": {
      "text/html": [
       "<div>\n",
       "<style scoped>\n",
       "    .dataframe tbody tr th:only-of-type {\n",
       "        vertical-align: middle;\n",
       "    }\n",
       "\n",
       "    .dataframe tbody tr th {\n",
       "        vertical-align: top;\n",
       "    }\n",
       "\n",
       "    .dataframe thead th {\n",
       "        text-align: right;\n",
       "    }\n",
       "</style>\n",
       "<table border=\"1\" class=\"dataframe\">\n",
       "  <thead>\n",
       "    <tr style=\"text-align: right;\">\n",
       "      <th></th>\n",
       "      <th>0</th>\n",
       "      <th>1</th>\n",
       "      <th>2</th>\n",
       "      <th>3</th>\n",
       "      <th>4</th>\n",
       "      <th>5</th>\n",
       "      <th>6</th>\n",
       "    </tr>\n",
       "  </thead>\n",
       "  <tbody>\n",
       "    <tr>\n",
       "      <th>0</th>\n",
       "      <td>Rank</td>\n",
       "      <td>City</td>\n",
       "      <td>Population</td>\n",
       "      <td>Country</td>\n",
       "      <td>Statistical concept[20]</td>\n",
       "      <td>Area (km²)[a]</td>\n",
       "      <td>Density (p/km²)</td>\n",
       "    </tr>\n",
       "    <tr>\n",
       "      <th>1</th>\n",
       "      <td>1</td>\n",
       "      <td>Tokyo</td>\n",
       "      <td>30000000</td>\n",
       "      <td>Japan</td>\n",
       "      <td>Metropolitan area[b]</td>\n",
       "      <td>13500</td>\n",
       "      <td>2716</td>\n",
       "    </tr>\n",
       "    <tr>\n",
       "      <th>2</th>\n",
       "      <td>2</td>\n",
       "      <td>Shanghai</td>\n",
       "      <td>24180000</td>\n",
       "      <td>China</td>\n",
       "      <td>Urban agglomeration[c]</td>\n",
       "      <td>3920</td>\n",
       "      <td>6168</td>\n",
       "    </tr>\n",
       "    <tr>\n",
       "      <th>3</th>\n",
       "      <td>3</td>\n",
       "      <td>Mexico City</td>\n",
       "      <td>22460000</td>\n",
       "      <td>Mexico</td>\n",
       "      <td>Metropolitan area (zona metropolitana)</td>\n",
       "      <td>7815</td>\n",
       "      <td>2490</td>\n",
       "    </tr>\n",
       "    <tr>\n",
       "      <th>4</th>\n",
       "      <td>4</td>\n",
       "      <td>Delhi</td>\n",
       "      <td>22157000</td>\n",
       "      <td>India</td>\n",
       "      <td>Urban agglomeration[d]</td>\n",
       "      <td>33578</td>\n",
       "      <td>659</td>\n",
       "    </tr>\n",
       "    <tr>\n",
       "      <th>5</th>\n",
       "      <td>5</td>\n",
       "      <td>Lagos</td>\n",
       "      <td>21000000</td>\n",
       "      <td>Nigeria</td>\n",
       "      <td>Metropolitan area (região metropolitana)</td>\n",
       "      <td>10050</td>\n",
       "      <td>3400</td>\n",
       "    </tr>\n",
       "    <tr>\n",
       "      <th>6</th>\n",
       "      <td>6</td>\n",
       "      <td>New York City</td>\n",
       "      <td>20153634</td>\n",
       "      <td>United States</td>\n",
       "      <td>Metropolitan Statistics Area</td>\n",
       "      <td>21,483[21]</td>\n",
       "      <td>938</td>\n",
       "    </tr>\n",
       "    <tr>\n",
       "      <th>7</th>\n",
       "      <td>7</td>\n",
       "      <td>Mumbai</td>\n",
       "      <td>20041000</td>\n",
       "      <td>India</td>\n",
       "      <td>Urban agglomeration</td>\n",
       "      <td>1,097[e]</td>\n",
       "      <td>18268</td>\n",
       "    </tr>\n",
       "    <tr>\n",
       "      <th>8</th>\n",
       "      <td>8</td>\n",
       "      <td>Kolkata</td>\n",
       "      <td>15552000</td>\n",
       "      <td>India</td>\n",
       "      <td>Urban agglomeration</td>\n",
       "      <td>1,026[22]</td>\n",
       "      <td>15158</td>\n",
       "    </tr>\n",
       "    <tr>\n",
       "      <th>9</th>\n",
       "      <td>9</td>\n",
       "      <td>Dhaka</td>\n",
       "      <td>14648000</td>\n",
       "      <td>Bangladesh</td>\n",
       "      <td>Metropolitan area (megacity)</td>\n",
       "      <td>1600</td>\n",
       "      <td>9155</td>\n",
       "    </tr>\n",
       "  </tbody>\n",
       "</table>\n",
       "</div>"
      ],
      "text/plain": [
       "      0              1           2              3  \\\n",
       "0  Rank           City  Population        Country   \n",
       "1     1          Tokyo    30000000          Japan   \n",
       "2     2       Shanghai    24180000          China   \n",
       "3     3    Mexico City    22460000         Mexico   \n",
       "4     4          Delhi    22157000          India   \n",
       "5     5          Lagos    21000000        Nigeria   \n",
       "6     6  New York City    20153634  United States   \n",
       "7     7         Mumbai    20041000          India   \n",
       "8     8        Kolkata    15552000          India   \n",
       "9     9          Dhaka    14648000     Bangladesh   \n",
       "\n",
       "                                          4              5                6  \n",
       "0                   Statistical concept[20]  Area (km²)[a]  Density (p/km²)  \n",
       "1                      Metropolitan area[b]          13500             2716  \n",
       "2                    Urban agglomeration[c]           3920             6168  \n",
       "3    Metropolitan area (zona metropolitana)           7815             2490  \n",
       "4                    Urban agglomeration[d]          33578              659  \n",
       "5  Metropolitan area (região metropolitana)          10050             3400  \n",
       "6              Metropolitan Statistics Area     21,483[21]              938  \n",
       "7                       Urban agglomeration       1,097[e]            18268  \n",
       "8                       Urban agglomeration      1,026[22]            15158  \n",
       "9              Metropolitan area (megacity)           1600             9155  "
      ]
     },
     "execution_count": 320,
     "metadata": {},
     "output_type": "execute_result"
    }
   ],
   "source": [
    "df_2 = tables[1].head(10)\n",
    "df_2"
   ]
  },
  {
   "cell_type": "code",
   "execution_count": 321,
   "metadata": {},
   "outputs": [],
   "source": [
    "df_2 = pd.read_html('https://en.wikipedia.org/wiki/Demographics_of_the_world', header=0)[1]"
   ]
  },
  {
   "cell_type": "code",
   "execution_count": 322,
   "metadata": {},
   "outputs": [
    {
     "data": {
      "text/plain": [
       "Index(['Rank', 'City', 'Population', 'Country', 'Statistical concept[20]',\n",
       "       'Area (km²)[a]', 'Density (p/km²)'],\n",
       "      dtype='object')"
      ]
     },
     "execution_count": 322,
     "metadata": {},
     "output_type": "execute_result"
    }
   ],
   "source": [
    "df_2.columns"
   ]
  },
  {
   "cell_type": "markdown",
   "metadata": {},
   "source": [
    "India has the highest density, meaning it is the most populated per kilometer."
   ]
  },
  {
   "cell_type": "code",
   "execution_count": 323,
   "metadata": {},
   "outputs": [
    {
     "data": {
      "text/html": [
       "<div>\n",
       "<style scoped>\n",
       "    .dataframe tbody tr th:only-of-type {\n",
       "        vertical-align: middle;\n",
       "    }\n",
       "\n",
       "    .dataframe tbody tr th {\n",
       "        vertical-align: top;\n",
       "    }\n",
       "\n",
       "    .dataframe thead th {\n",
       "        text-align: right;\n",
       "    }\n",
       "</style>\n",
       "<table border=\"1\" class=\"dataframe\">\n",
       "  <thead>\n",
       "    <tr style=\"text-align: right;\">\n",
       "      <th></th>\n",
       "      <th>Rank</th>\n",
       "      <th>City</th>\n",
       "      <th>Population</th>\n",
       "      <th>Country</th>\n",
       "      <th>Statistical concept[20]</th>\n",
       "      <th>Area (km²)[a]</th>\n",
       "      <th>Density (p/km²)</th>\n",
       "    </tr>\n",
       "  </thead>\n",
       "  <tbody>\n",
       "    <tr>\n",
       "      <th>6</th>\n",
       "      <td>7</td>\n",
       "      <td>Mumbai</td>\n",
       "      <td>20041000</td>\n",
       "      <td>India</td>\n",
       "      <td>Urban agglomeration</td>\n",
       "      <td>1,097[e]</td>\n",
       "      <td>18268</td>\n",
       "    </tr>\n",
       "  </tbody>\n",
       "</table>\n",
       "</div>"
      ],
      "text/plain": [
       "   Rank    City  Population Country Statistical concept[20] Area (km²)[a]  \\\n",
       "6     7  Mumbai    20041000   India     Urban agglomeration      1,097[e]   \n",
       "\n",
       "   Density (p/km²)  \n",
       "6            18268  "
      ]
     },
     "execution_count": 323,
     "metadata": {},
     "output_type": "execute_result"
    }
   ],
   "source": [
    "df_2[df_2['Density (p/km²)'] == np.max(df_2['Density (p/km²)'])] "
   ]
  },
  {
   "cell_type": "markdown",
   "metadata": {},
   "source": [
    "The mean density of the 10 major cities of the world is is 6154.5 p/km^2"
   ]
  },
  {
   "cell_type": "code",
   "execution_count": 324,
   "metadata": {},
   "outputs": [
    {
     "data": {
      "text/plain": [
       "6154.5"
      ]
     },
     "execution_count": 324,
     "metadata": {},
     "output_type": "execute_result"
    }
   ],
   "source": [
    "np.mean(df_2['Density (p/km²)']) "
   ]
  },
  {
   "cell_type": "markdown",
   "metadata": {},
   "source": [
    "The standard variance of density of the 10 major cities is 5828.71 p/km^2"
   ]
  },
  {
   "cell_type": "code",
   "execution_count": 325,
   "metadata": {},
   "outputs": [
    {
     "data": {
      "text/plain": [
       "5828.712246285624"
      ]
     },
     "execution_count": 325,
     "metadata": {},
     "output_type": "execute_result"
    }
   ],
   "source": [
    "np.std(df_2['Density (p/km²)'])"
   ]
  },
  {
   "cell_type": "markdown",
   "metadata": {},
   "source": [
    "### Hypothesis Testing:\n",
    "\n",
    "- Null Hypothesis:\n",
    "India has a density equal to the mean density of the population in the 10 largest cities in the world.\n",
    "\n",
    "- Alternative Hypothesis:\n",
    "India has a density which is greater than the mean density in the 10 largest cities in the world.  "
   ]
  },
  {
   "cell_type": "markdown",
   "metadata": {},
   "source": [
    "This is where I set up my normal distribution setting the mean equal to the mean of the density which is 6154.5 p/km^2 and the std equal to the std of the density of the ten major cities in the world, with a significance level of 0.05."
   ]
  },
  {
   "cell_type": "code",
   "execution_count": 326,
   "metadata": {},
   "outputs": [
    {
     "data": {
      "text/plain": [
       "15741.878478759372"
      ]
     },
     "execution_count": 326,
     "metadata": {},
     "output_type": "execute_result"
    }
   ],
   "source": [
    "di = stats.norm(6154.5, np.std(df_2['Density (p/km²)']))\n",
    "di.ppf(0.95) #0.05 significance "
   ]
  },
  {
   "cell_type": "code",
   "execution_count": 327,
   "metadata": {},
   "outputs": [
    {
     "data": {
      "text/plain": [
       "Text(0.5, 0.92, 'The Mean Density of the 10 Major Cities in the World')"
      ]
     },
     "execution_count": 327,
     "metadata": {},
     "output_type": "execute_result"
    },
    {
     "data": {
      "image/png": "[encoded data removed]",
      "text/plain": [
       "<Figure size 360x360 with 1 Axes>"
      ]
     },
     "metadata": {
      "needs_background": "light"
     },
     "output_type": "display_data"
    }
   ],
   "source": [
    "dist = stats.norm(6154.5,5828.712246285624)\n",
    "fig = plt.figure(figsize=(5,5))\n",
    "x = np.linspace(dist.ppf(0.0001), dist.ppf(0.9999), 100)\n",
    "plt.plot(x, dist.pdf(x))\n",
    "plt.plot([15741.878478759372, 15741.878478759372],[0, dist.pdf(15741.878478759372)], linestyle='dotted', color='#1f77b4')\n",
    "plt.ylim(bottom=0)\n",
    "X_fill = np.linspace(dist.ppf(0.95), dist.ppf(0.9999))\n",
    "Y = dist.pdf(X_fill)\n",
    "plt.fill_between(X_fill, 0, Y, facecolor='red')\n",
    "plt.xlabel('Density Per 10 major cities Population')\n",
    "plt.ylabel('Probability Density Function')\n",
    "fig.suptitle('The Mean Density of the 10 Major Cities in the World', fontsize=15, y=0.92)"
   ]
  },
  {
   "cell_type": "markdown",
   "metadata": {},
   "source": [
    "I reject the null hypothesis because India falls within the rejected region since it is greater than 15741.88 p/km^2 because the density of India is 18268 p/km^2."
   ]
  },
  {
   "cell_type": "markdown",
   "metadata": {},
   "source": [
    "## Visual Representation of the World Population (TODAY)"
   ]
  },
  {
   "cell_type": "markdown",
   "metadata": {},
   "source": [
    "#### Brief overview of content in Table 3:\n",
    "- Visualizations "
   ]
  },
  {
   "cell_type": "code",
   "execution_count": 328,
   "metadata": {},
   "outputs": [
    {
     "data": {
      "text/html": [
       "<div>\n",
       "<style scoped>\n",
       "    .dataframe tbody tr th:only-of-type {\n",
       "        vertical-align: middle;\n",
       "    }\n",
       "\n",
       "    .dataframe tbody tr th {\n",
       "        vertical-align: top;\n",
       "    }\n",
       "\n",
       "    .dataframe thead th {\n",
       "        text-align: right;\n",
       "    }\n",
       "</style>\n",
       "<table border=\"1\" class=\"dataframe\">\n",
       "  <thead>\n",
       "    <tr style=\"text-align: right;\">\n",
       "      <th></th>\n",
       "      <th>Region</th>\n",
       "      <th>Number</th>\n",
       "      <th>Percentage</th>\n",
       "    </tr>\n",
       "  </thead>\n",
       "  <tbody>\n",
       "    <tr>\n",
       "      <th>0</th>\n",
       "      <td>Asia</td>\n",
       "      <td>4307107875</td>\n",
       "      <td>60.3%</td>\n",
       "    </tr>\n",
       "    <tr>\n",
       "      <th>1</th>\n",
       "      <td>Africa</td>\n",
       "      <td>1037524058</td>\n",
       "      <td>14.5%</td>\n",
       "    </tr>\n",
       "    <tr>\n",
       "      <th>2</th>\n",
       "      <td>Europe</td>\n",
       "      <td>742991991</td>\n",
       "      <td>11.4%</td>\n",
       "    </tr>\n",
       "    <tr>\n",
       "      <th>3</th>\n",
       "      <td>North America</td>\n",
       "      <td>544620340</td>\n",
       "      <td>7.6%</td>\n",
       "    </tr>\n",
       "    <tr>\n",
       "      <th>4</th>\n",
       "      <td>South America</td>\n",
       "      <td>400067694</td>\n",
       "      <td>5.6%</td>\n",
       "    </tr>\n",
       "    <tr>\n",
       "      <th>5</th>\n",
       "      <td>Oceania</td>\n",
       "      <td>35426995</td>\n",
       "      <td>0.5%</td>\n",
       "    </tr>\n",
       "    <tr>\n",
       "      <th>6</th>\n",
       "      <td>Antarctica</td>\n",
       "      <td>11969</td>\n",
       "      <td>0.00002%</td>\n",
       "    </tr>\n",
       "  </tbody>\n",
       "</table>\n",
       "</div>"
      ],
      "text/plain": [
       "          Region      Number Percentage\n",
       "0           Asia  4307107875      60.3%\n",
       "1         Africa  1037524058      14.5%\n",
       "2         Europe   742991991      11.4%\n",
       "3  North America   544620340       7.6%\n",
       "4  South America   400067694       5.6%\n",
       "5        Oceania    35426995       0.5%\n",
       "6     Antarctica       11969   0.00002%"
      ]
     },
     "execution_count": 328,
     "metadata": {},
     "output_type": "execute_result"
    }
   ],
   "source": [
    "df_3 = pd.read_html('https://en.wikipedia.org/wiki/Demographics_of_the_world', header=0)[2][0:7]\n",
    "df_3"
   ]
  },
  {
   "cell_type": "markdown",
   "metadata": {},
   "source": [
    "Asia has the highest population which is aproximately 60% of the world's population, with 4.3 billion people living there"
   ]
  },
  {
   "cell_type": "code",
   "execution_count": 329,
   "metadata": {},
   "outputs": [
    {
     "data": {
      "text/html": [
       "<div>\n",
       "<style scoped>\n",
       "    .dataframe tbody tr th:only-of-type {\n",
       "        vertical-align: middle;\n",
       "    }\n",
       "\n",
       "    .dataframe tbody tr th {\n",
       "        vertical-align: top;\n",
       "    }\n",
       "\n",
       "    .dataframe thead th {\n",
       "        text-align: right;\n",
       "    }\n",
       "</style>\n",
       "<table border=\"1\" class=\"dataframe\">\n",
       "  <thead>\n",
       "    <tr style=\"text-align: right;\">\n",
       "      <th></th>\n",
       "      <th>Region</th>\n",
       "      <th>Number</th>\n",
       "      <th>Percentage</th>\n",
       "    </tr>\n",
       "  </thead>\n",
       "  <tbody>\n",
       "    <tr>\n",
       "      <th>0</th>\n",
       "      <td>Asia</td>\n",
       "      <td>4307107875</td>\n",
       "      <td>60.3%</td>\n",
       "    </tr>\n",
       "  </tbody>\n",
       "</table>\n",
       "</div>"
      ],
      "text/plain": [
       "  Region      Number Percentage\n",
       "0   Asia  4307107875      60.3%"
      ]
     },
     "execution_count": 329,
     "metadata": {},
     "output_type": "execute_result"
    }
   ],
   "source": [
    "df_3[df_3['Number'] == np.max(df_3['Number'])]"
   ]
  },
  {
   "cell_type": "markdown",
   "metadata": {},
   "source": [
    "Anarctica has the lowest population which is aproximately 0.00002% of the world's population, with 11969 people living there (most likely researchers)"
   ]
  },
  {
   "cell_type": "code",
   "execution_count": 330,
   "metadata": {},
   "outputs": [
    {
     "data": {
      "text/html": [
       "<div>\n",
       "<style scoped>\n",
       "    .dataframe tbody tr th:only-of-type {\n",
       "        vertical-align: middle;\n",
       "    }\n",
       "\n",
       "    .dataframe tbody tr th {\n",
       "        vertical-align: top;\n",
       "    }\n",
       "\n",
       "    .dataframe thead th {\n",
       "        text-align: right;\n",
       "    }\n",
       "</style>\n",
       "<table border=\"1\" class=\"dataframe\">\n",
       "  <thead>\n",
       "    <tr style=\"text-align: right;\">\n",
       "      <th></th>\n",
       "      <th>Region</th>\n",
       "      <th>Number</th>\n",
       "      <th>Percentage</th>\n",
       "    </tr>\n",
       "  </thead>\n",
       "  <tbody>\n",
       "    <tr>\n",
       "      <th>6</th>\n",
       "      <td>Antarctica</td>\n",
       "      <td>11969</td>\n",
       "      <td>0.00002%</td>\n",
       "    </tr>\n",
       "  </tbody>\n",
       "</table>\n",
       "</div>"
      ],
      "text/plain": [
       "       Region  Number Percentage\n",
       "6  Antarctica   11969   0.00002%"
      ]
     },
     "execution_count": 330,
     "metadata": {},
     "output_type": "execute_result"
    }
   ],
   "source": [
    "df_3[df_3['Number'] == np.min(df_3['Number'])]"
   ]
  },
  {
   "cell_type": "markdown",
   "metadata": {},
   "source": [
    "### Bar graph representing the world's population today"
   ]
  },
  {
   "cell_type": "code",
   "execution_count": 331,
   "metadata": {},
   "outputs": [
    {
     "data": {
      "text/plain": [
       "Text(0.5, 0.92, 'The population of thw World Today')"
      ]
     },
     "execution_count": 331,
     "metadata": {},
     "output_type": "execute_result"
    },
    {
     "data": {
      "image/png": "[encoded data removed]",
      "text/plain": [
       "<Figure size 432x288 with 1 Axes>"
      ]
     },
     "metadata": {
      "needs_background": "light"
     },
     "output_type": "display_data"
    }
   ],
   "source": [
    "df_3.plot.bar(x='Region', y='Number')\n",
    "plt.xlabel('Continents')\n",
    "plt.ylabel('Population in Billions')\n",
    "fig.suptitle('The population of thw World Today', fontsize=15, y=0.92)"
   ]
  },
  {
   "cell_type": "markdown",
   "metadata": {},
   "source": [
    "# Conclusion:"
   ]
  },
  {
   "cell_type": "markdown",
   "metadata": {},
   "source": [
    "In conclusion, after testing for correlation between the years and the population to find the line of best fit that would be useful as a formula for predicting the rate at which the population is growing. Since, the data points from 1950 - 2018 were non-linear, I tried to do the log of the data points and it still wasn't providing a useful line of best fit, with an R^2 of 1.5% which as a result made it seem that there was no correlation between the years and the population growth. However, when I focused on the dataset that ranged from 1999 to 2018, I was able to find a linear relationship with a R^2 of 99%. By playing around with my data, I am now able to predict more accurately the rate at which the population is growing after the year 1999. For the next case, I did hypothesis testing I had a Null Hypothesis which  states that India has a density equal to the mean density of the population in the 10 largest cities in the world.On the other hand, my Alternative Hypothesis is that India has a density which is greater than the mean density in the 10 largest cities in the world. I rejected the null hypothesis because India falls within the rejected region since it is greater than 15741.88 p/km^2, the density of India is 18268 p/km^2. Last but not least, I gave an overview of which is the most populated continent today as well as the least, and used a bar graph to showcase the continents and how much of the world's population today lives within each continent. The part that I found most interesting was the correlation testing, in which I had difficulty finding the line of best fit with the entire data set and it didn't work when I logged it, however when I focused in on the recent years I was able to get a line of best fit. This project showcases overall how the world's population is growing, which cities are the most populated and specifically which is the most densely populated, and overall what's the census of the world's population."
   ]
  }
 ],
 "metadata": {
  "kernelspec": {
   "display_name": "Python 3",
   "language": "python",
   "name": "python3"
  },
  "language_info": {
   "codemirror_mode": {
    "name": "ipython",
    "version": 3
   },
   "file_extension": ".py",
   "mimetype": "text/x-python",
   "name": "python",
   "nbconvert_exporter": "python",
   "pygments_lexer": "ipython3",
   "version": "3.7.1"
  }
 },
 "nbformat": 4,
 "nbformat_minor": 2
}
