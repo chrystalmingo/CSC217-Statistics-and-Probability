{
 "cells": [
  {
   "cell_type": "code",
   "execution_count": 89,
   "metadata": {},
   "outputs": [],
   "source": [
    "import scipy.stats as stats\n",
    "import numpy as np\n",
    "import matplotlib.pyplot as plt\n",
    "%matplotlib inline"
   ]
  },
  {
   "cell_type": "markdown",
   "metadata": {},
   "source": [
    "The income per capita per US State in 2018 is approximately a normal distribution with a mean of \\$48,500 and a standard deviation of $8,500.\n",
    "\n",
    "1) Create a PDF graph of this distribution with the proper labels on the axes.  \n",
    "\n",
    "2) Say we wanted to create a rejection region for any states with below average\n",
    "   income. If we set the rejection region at 40,000, what would the percentile\n",
    "   value of that be given the distribution? \n",
    "   \n",
    "3) Say that I'm a Senator from New York, which has an income per capita of \\$64,500.  \n",
    "\n",
    "   I believe that my state has an income that's conceivably different from the rest of the country - so different that I could convince someone that we're not even part of the United States. I want to use hypothesis testing to prove it.  \n",
    "   \n",
    "   Note that I am not surveying people - this is a single data point. In this case: \n",
    "   \n",
    "       a) What is the null hypothesis?  \n",
    "       \n",
    "       b) What is the alternative hypothesis?  \n",
    "       \n",
    "       c) Say I want to do a two-tailed test at a significance level of 0.05 to see if\n",
    "       my hypothesis is true. What is my rejection region? Can I reject the null hypothesis here?  \n",
    "       \n",
    "       d) Seeing that the average income per capita for New York is obviously higher than the\n",
    "       income per capita for the United States, I want to change my test to a one-tailed test.\n",
    "       \n",
    "       At the 0.05 significance level, what is my rejection region? Can I reject the null hypothesis here? \n",
    "       \n",
    "       e) Say I want to keep the test one-tailed, but change my significance level to 0.01. What is my rejection region now? Can I reject the null hypothesis here?  \n",
    "       \n",
    "4) Say now that I don't actually know the distribution of the income per capita per US State - I'm just making it up to sound smart. But I do survey ten state representatives from New York and get the following data points for income per capita of our state:\n",
    "[62837, 64511, 58821, 63971, 62837, 57084, 64579, 62837, 58821,\n",
    "       63971]\n",
    "\n",
    "        a) What is the sample mean for this distribution?\n",
    "        b) What is the sample variance and sample standard deviation for this distribution?\n",
    "        c) Say I again want to see if I can reject the null hypothesis that the income per capita for New York\n",
    "        is the same as the income per capita for the United States.\n",
    "           \n",
    "           Note that this is based off of a survey of ten, so we would want to effectively see if the ten people we surveyed could have effectively been pulled from anywhere in the US, not just New York.\n",
    "        d) Given a T-distribution with a mean of 50,000, our sample standard deviation, and nine degrees of freedom, what is the one-tailed rejection region at the 0.01 significance level? Can we reject the null hypothesis that New York has a different income per capita than the rest of the United States? Note that we are using our sample mean to determine this, not the previously stated value of $64,500. \n",
    "        \n",
    "5) This information was actually pulled from the Wikipedia here - https://en.wikipedia.org/wiki/List_of_U.S._states_by_GDP_per_capita.  \n",
    "Using the pd.read_html function, read in the table of U.S. State by GDP capita and plot a histogram and boxplot of the 2018 data in the first table. Are there any outliers, and if so, which states are outliers?\n",
    "\n",
    "BONUS 6) Remove the outlier (if there is one), and replot a histogram and boxplot of the data. Are there any outliers now?"
   ]
  },
  {
   "cell_type": "code",
   "execution_count": 90,
   "metadata": {},
   "outputs": [
    {
     "data": {
      "text/plain": [
       "Text(0.5, 0.92, 'The income per capita per US State in 2018')"
      ]
     },
     "execution_count": 90,
     "metadata": {},
     "output_type": "execute_result"
    },
    {
     "data": {
      "image/png": "[encoded data removed]",
      "text/plain": [
       "<Figure size 360x360 with 1 Axes>"
      ]
     },
     "metadata": {
      "needs_background": "light"
     },
     "output_type": "display_data"
    }
   ],
   "source": [
    "#Part 1\n",
    "dist = stats.norm(48500, 8500)\n",
    "fig = plt.figure(figsize=(5,5))\n",
    "x = np.linspace(dist.ppf(0.0001), dist.ppf(0.9999), 100)\n",
    "plt.plot(x, dist.pdf(x))\n",
    "plt.plot([40000, 40000],[0, dist.pdf(40000)], linestyle='dotted', color='#1f77b4')\n",
    "plt.ylim(bottom=0)\n",
    "X_fill = np.linspace(dist.ppf(0.0001), dist.ppf(0.15865525393145707))\n",
    "Y = dist.pdf(X_fill)\n",
    "plt.fill_between(X_fill, 0, Y, facecolor='red')\n",
    "plt.xlabel('income per capita')\n",
    "plt.ylabel('Probability Density Function')\n",
    "fig.suptitle('The income per capita per US State in 2018', fontsize=15, y=0.92)"
   ]
  },
  {
   "cell_type": "code",
   "execution_count": 91,
   "metadata": {},
   "outputs": [
    {
     "data": {
      "text/plain": [
       "0.15865525393145707"
      ]
     },
     "execution_count": 91,
     "metadata": {},
     "output_type": "execute_result"
    }
   ],
   "source": [
    "#Part 2\n",
    "dist.cdf(40000)"
   ]
  },
  {
   "cell_type": "markdown",
   "metadata": {},
   "source": [
    "Part 3\n",
    "\n",
    "a) What is the null hypothesis?  \n",
    "    The income per capita of New York is equal to the mean of the country's income per capita.\n",
    "    \n",
    "   b) What is the alternative hypothesis?  \n",
    "    The income per capita of New York is different than the mean of the country's income per capita.\n",
    "    \n",
    "   c) Say I want to do a two-tailed test at a significance level of 0.05 to see if\n",
    "   my hypothesis is true. What is my rejection region? Can I reject the null hypothesis here?  \n",
    "   The rejection region will be below 31840.306131409536 and above 65159.69386859046. The null hypothesis cannot be rejected.\n",
    "\n",
    "   d) Seeing that the average income per capita for New York is obviously higher than the\n",
    "   income per capita for the United States, I want to change my test to a one-tailed test.\n",
    "\n",
    "   At the 0.05 significance level, what is my rejection region? Can I reject the null hypothesis here? \n",
    "   \n",
    "   The rejection region will be above 62481.25582908752. The null hypothesis can be rejected.\n",
    "\n",
    "   e) Say I want to keep the test one-tailed, but change my significance level to 0.01. What is my rejection region now? Can I reject the null hypothesis here?  \n",
    "   \n",
    "   The rejection region will be above 68273.95692934714. The null hypothesis cannot be rejected."
   ]
  },
  {
   "cell_type": "code",
   "execution_count": 92,
   "metadata": {},
   "outputs": [
    {
     "name": "stdout",
     "output_type": "stream",
     "text": [
      "31840.306131409536\n",
      "65159.69386859046\n",
      "62481.25582908752\n",
      "68273.95692934714\n"
     ]
    }
   ],
   "source": [
    "# Part C\n",
    "print(dist.ppf(0.025))\n",
    "print(dist.ppf(0.975))\n",
    "#Part D \n",
    "print(dist.ppf(0.95))\n",
    "# Part E\n",
    "print(dist.ppf(0.99))"
   ]
  },
  {
   "cell_type": "code",
   "execution_count": 93,
   "metadata": {},
   "outputs": [
    {
     "name": "stdout",
     "output_type": "stream",
     "text": [
      "sample mean:  62026.9\n",
      "sample std:  2592.2895845179028\n",
      "sample varience:  6719965.290000001\n",
      "The rejection region is above 68763.46060105822 . Therefore, we cannot reject the null hypothesis.\n",
      "The rejection region is above 52437.99471397861 . Therefore, we can reject the null hypothesis.\n"
     ]
    }
   ],
   "source": [
    "#Part 4\n",
    "subset = [62837, 64511, 58821, 63971, 62837, 57084, 64579, 62837, 58821, 63971]\n",
    "# Part A\n",
    "sample_mean = np.mean(subset)\n",
    "print(\"sample mean: \", sample_mean)\n",
    "# Part B\n",
    "sample_std = np.std(subset)\n",
    "sample_var = sample_std*sample_std\n",
    "print(\"sample std: \", sample_std)\n",
    "print(\"sample varience: \", sample_var)\n",
    "#Part C\n",
    "dist1=stats.norm(64500,2592)\n",
    "dist1.ppf(0.95)\n",
    "print(\"The rejection region is above\", dist1.ppf(0.95), \". Therefore, we cannot reject the null hypothesis.\" )\n",
    "#Part D\n",
    "dist3 = stats.t(loc=50000, scale=np.std(subset, ddof=1)/np.sqrt(10), df=9)\n",
    "print(\"The rejection region is above\", dist3.ppf(0.99), \". Therefore, we can reject the null hypothesis.\" )"
   ]
  },
  {
   "cell_type": "code",
   "execution_count": 94,
   "metadata": {},
   "outputs": [
    {
     "data": {
      "text/plain": [
       "(array([22., 22.,  7.,  0.,  0.,  0.,  0.,  0.,  0.,  1.]),\n",
       " array([ 31881. ,  44740.1,  57599.2,  70458.3,  83317.4,  96176.5,\n",
       "        109035.6, 121894.7, 134753.8, 147612.9, 160472. ]),\n",
       " <a list of 10 Patch objects>)"
      ]
     },
     "execution_count": 94,
     "metadata": {},
     "output_type": "execute_result"
    },
    {
     "data": {
      "image/png": "[encoded data removed]",
      "text/plain": [
       "<Figure size 360x360 with 1 Axes>"
      ]
     },
     "metadata": {
      "needs_background": "light"
     },
     "output_type": "display_data"
    }
   ],
   "source": [
    "#Part 5\n",
    "df=pd.read_html('https://en.wikipedia.org/wiki/List_of_U.S._states_by_GDP_per_capita',header=0)[0]\n",
    "df2=df[['State','2018']]\n",
    "fig = plt.figure(figsize=(5,5))\n",
    "plt.hist(df2['2018'])"
   ]
  },
  {
   "cell_type": "code",
   "execution_count": 95,
   "metadata": {},
   "outputs": [
    {
     "data": {
      "text/plain": [
       "{'whiskers': [<matplotlib.lines.Line2D at 0x1a1e7739b0>,\n",
       "  <matplotlib.lines.Line2D at 0x1a1e773cf8>],\n",
       " 'caps': [<matplotlib.lines.Line2D at 0x1a1e773c50>,\n",
       "  <matplotlib.lines.Line2D at 0x1a1e773f98>],\n",
       " 'boxes': [<matplotlib.lines.Line2D at 0x1a1e773588>],\n",
       " 'medians': [<matplotlib.lines.Line2D at 0x1a1e77d710>],\n",
       " 'fliers': [<matplotlib.lines.Line2D at 0x1a1e77da58>],\n",
       " 'means': []}"
      ]
     },
     "execution_count": 95,
     "metadata": {},
     "output_type": "execute_result"
    },
    {
     "data": {
      "image/png": "[encoded data removed]",
      "text/plain": [
       "<Figure size 360x360 with 1 Axes>"
      ]
     },
     "metadata": {
      "needs_background": "light"
     },
     "output_type": "display_data"
    }
   ],
   "source": [
    "fig = plt.figure(figsize=(5,5))\n",
    "plt.boxplot(df2['2018'])"
   ]
  },
  {
   "cell_type": "code",
   "execution_count": 96,
   "metadata": {},
   "outputs": [
    {
     "name": "stdout",
     "output_type": "stream",
     "text": [
      "                  State    2018\n",
      "0  District of Columbia  160472 is an outlier.\n"
     ]
    }
   ],
   "source": [
    "Quantile1 = df2['2018'].quantile(0.25)\n",
    "Quantile3 = df2['2018'].quantile(0.75)\n",
    "InterQRange = Q3 - Q1\n",
    "Max = (InterQRange*1.5) + Q3\n",
    "Min = -(InterQRange*1.5) + Q1\n",
    "d = df2[df2['2018']>=Max]\n",
    "dd = df2[df2['2018']<= Min]\n",
    "ans = d.append(dd)\n",
    "print(ans, \"is an outlier.\")"
   ]
  },
  {
   "cell_type": "code",
   "execution_count": 97,
   "metadata": {},
   "outputs": [],
   "source": [
    "#Part 6\n",
    "df3 = df2[df2['State'] != 'District of Columbia']"
   ]
  },
  {
   "cell_type": "code",
   "execution_count": 98,
   "metadata": {},
   "outputs": [
    {
     "data": {
      "text/plain": [
       "(array([ 1.,  6.,  5., 11.,  5.,  7.,  7.,  2.,  1.,  6.]),\n",
       " array([31881. , 35247.4, 38613.8, 41980.2, 45346.6, 48713. , 52079.4,\n",
       "        55445.8, 58812.2, 62178.6, 65545. ]),\n",
       " <a list of 10 Patch objects>)"
      ]
     },
     "execution_count": 98,
     "metadata": {},
     "output_type": "execute_result"
    },
    {
     "data": {
      "image/png": "[encoded data removed]",
      "text/plain": [
       "<Figure size 360x360 with 1 Axes>"
      ]
     },
     "metadata": {
      "needs_background": "light"
     },
     "output_type": "display_data"
    }
   ],
   "source": [
    "fig = plt.figure(figsize=(5,5))\n",
    "plt.hist(df3['2018'])"
   ]
  },
  {
   "cell_type": "code",
   "execution_count": 99,
   "metadata": {},
   "outputs": [
    {
     "name": "stdout",
     "output_type": "stream",
     "text": [
      "There are no outliers now\n"
     ]
    },
    {
     "data": {
      "image/png": "[encoded data removed]",
      "text/plain": [
       "<Figure size 360x360 with 1 Axes>"
      ]
     },
     "metadata": {
      "needs_background": "light"
     },
     "output_type": "display_data"
    }
   ],
   "source": [
    "fig = plt.figure(figsize=(5,5))\n",
    "plt.boxplot(df3['2018'])\n",
    "print(\"There are no outliers now\")"
   ]
  }
 ],
 "metadata": {
  "kernelspec": {
   "display_name": "Python 3",
   "language": "python",
   "name": "python3"
  },
  "language_info": {
   "codemirror_mode": {
    "name": "ipython",
    "version": 3
   },
   "file_extension": ".py",
   "mimetype": "text/x-python",
   "name": "python",
   "nbconvert_exporter": "python",
   "pygments_lexer": "ipython3",
   "version": "3.7.1"
  }
 },
 "nbformat": 4,
 "nbformat_minor": 2
}
