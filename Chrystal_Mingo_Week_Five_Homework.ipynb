{
 "cells": [
  {
   "cell_type": "code",
   "execution_count": null,
   "metadata": {},
   "outputs": [],
   "source": [
    "#Chrystal Mingo"
   ]
  },
  {
   "cell_type": "code",
   "execution_count": 34,
   "metadata": {},
   "outputs": [],
   "source": [
    "import numpy as np\n",
    "import matplotlib.pyplot as plt\n",
    "import scipy.stats as stats\n",
    "from scipy.special import comb, perm\n",
    "%matplotlib inline"
   ]
  },
  {
   "cell_type": "markdown",
   "metadata": {},
   "source": [
    "#### 1. From Chapter 5 of Introduction to Probability and Statistics, please do Questions 2,3,6,11,12,13, and 14"
   ]
  },
  {
   "cell_type": "code",
   "execution_count": 98,
   "metadata": {},
   "outputs": [
    {
     "data": {
      "text/plain": [
       "0.05792000000000003"
      ]
     },
     "execution_count": 98,
     "metadata": {},
     "output_type": "execute_result"
    }
   ],
   "source": [
    "#Question 2\n",
    "comb(5,3)*(0.2)**3*(0.8)**2 + comb(5,4)*(0.2)**4*(0.8)**1 + comb(5,5)*(0.2)**5*(0.8)**0"
   ]
  },
  {
   "cell_type": "code",
   "execution_count": 99,
   "metadata": {},
   "outputs": [
    {
     "data": {
      "text/plain": [
       "0.2668279319999998"
      ]
     },
     "execution_count": 99,
     "metadata": {},
     "output_type": "execute_result"
    }
   ],
   "source": [
    "#Question 3\n",
    "comb(10,7)*(0.7)**7*(0.3)**3"
   ]
  },
  {
   "cell_type": "code",
   "execution_count": 100,
   "metadata": {},
   "outputs": [],
   "source": [
    "#Question 6\n",
    "E = 7\n",
    "V = 2.1\n",
    "P = (V-E)/-E #P = 0.7\n",
    "n = E/P #n = 10\n",
    "\n"
   ]
  },
  {
   "cell_type": "code",
   "execution_count": 101,
   "metadata": {},
   "outputs": [
    {
     "data": {
      "text/plain": [
       "0.03675690900000003"
      ]
     },
     "execution_count": 101,
     "metadata": {},
     "output_type": "execute_result"
    }
   ],
   "source": [
    "#Part A:\n",
    "A = comb(10,4)*(0.7)**4*(1-0.7)**6\n",
    "A #0.0368"
   ]
  },
  {
   "cell_type": "code",
   "execution_count": 102,
   "metadata": {},
   "outputs": [
    {
     "data": {
      "text/plain": [
       "0.0"
      ]
     },
     "execution_count": 102,
     "metadata": {},
     "output_type": "execute_result"
    }
   ],
   "source": [
    "#Part B:\n",
    "B = comb(10,12)*(0.7)**12*(1-0.7)**-2 #because x can not be bigger than n! (CDF)\n",
    "B # 0"
   ]
  },
  {
   "cell_type": "code",
   "execution_count": 103,
   "metadata": {},
   "outputs": [],
   "source": [
    "#QUESTION 11\n",
    "dist = stats.poisson(0.5)"
   ]
  },
  {
   "cell_type": "code",
   "execution_count": 104,
   "metadata": {},
   "outputs": [
    {
     "data": {
      "text/plain": [
       "0.3934693402873666"
      ]
     },
     "execution_count": 104,
     "metadata": {},
     "output_type": "execute_result"
    }
   ],
   "source": [
    "#11a\n",
    "1-dist.pmf(0)"
   ]
  },
  {
   "cell_type": "code",
   "execution_count": 105,
   "metadata": {},
   "outputs": [
    {
     "data": {
      "text/plain": [
       "0.3032653298563167"
      ]
     },
     "execution_count": 105,
     "metadata": {},
     "output_type": "execute_result"
    }
   ],
   "source": [
    "#11b\n",
    "dist.pmf(1)"
   ]
  },
  {
   "cell_type": "code",
   "execution_count": 106,
   "metadata": {},
   "outputs": [
    {
     "data": {
      "text/plain": [
       "0.09020401043104986"
      ]
     },
     "execution_count": 106,
     "metadata": {},
     "output_type": "execute_result"
    }
   ],
   "source": [
    "#11c\n",
    "1-dist.pmf(0)-dist.pmf(1)"
   ]
  },
  {
   "cell_type": "code",
   "execution_count": 107,
   "metadata": {},
   "outputs": [
    {
     "data": {
      "text/plain": [
       "0.890768227426964"
      ]
     },
     "execution_count": 107,
     "metadata": {},
     "output_type": "execute_result"
    }
   ],
   "source": [
    "#QUESTION 12\n",
    "drug = stats.poisson.pmf(k=0, mu=2)\n",
    "cold = stats.poisson.pmf(k=0, mu=3)\n",
    "ImpactOfDrug = (drug*0.75)/((drug*0.75)+(cold*0.25))\n",
    "ImpactOfDrug"
   ]
  },
  {
   "cell_type": "code",
   "execution_count": 108,
   "metadata": {},
   "outputs": [
    {
     "name": "stdout",
     "output_type": "stream",
     "text": [
      "0.24454379740987064\n",
      "0.023385320061823384\n"
     ]
    }
   ],
   "source": [
    "#QUESTION 13:\n",
    "#PART A\n",
    "lessThan130 = 0.0\n",
    "for i in range(130):\n",
    "    lessThan130 += stats.poisson.pmf(k = i, mu = 121.95)\n",
    "ANS = 1 - lessThan130\n",
    "print(ANS)\n",
    "#PART B\n",
    "lessThan100 = 0.0\n",
    "for i in range(101):\n",
    "    lessThan100 += stats.poisson.pmf(k = i, mu = 121.95)\n",
    "print(lessThan100)"
   ]
  },
  {
   "cell_type": "code",
   "execution_count": 109,
   "metadata": {},
   "outputs": [
    {
     "name": "stdout",
     "output_type": "stream",
     "text": [
      "0.4514560618264557\n",
      "1.0\n"
     ]
    }
   ],
   "source": [
    "#Question 14:\n",
    "import math\n",
    "LAMBD = 80000\n",
    "partA = 1 - math.exp((-LAMBD)*(1/365)*(1/365))\n",
    "print(partA)\n",
    "partB = 1 - math.exp((-LAMBD)*(364/365))\n",
    "print(partB)"
   ]
  },
  {
   "cell_type": "markdown",
   "metadata": {},
   "source": [
    "#### 2. One fun application of bionomial probabilities is in sports, where people can make predictions of playoff series' or even seasons by assessing the binomial probabilities of each matchup.\n",
    "\n",
    "#### Say the New York Knicks get Kevin Durant next year and make it to the NBA Finals. They will face off against Lebron's Los Angeles Lakers in a seven-game series. In a given game, the Knicks chance of winning is 40%.\n",
    "\n",
    "#### With a seven-game series, there are four ways to win. You can win in:\n",
    "* 4 Games\n",
    "* 5 Games (Win 4 Games and Lose 1 Game)\n",
    "* 6 Games (Win 4 Games and Lose 2 Games)\n",
    "* 7 Games (Win 4 Games and Lose 3 Games)\n",
    "\n",
    "#### For each of these scenarios, the Knicks must win the last game. I.e. if they win in five games, they must win the fifth game. *Hint: Think about the odds of them winning 3 out of 4 Games, and then multiply that by the odds of them winning another game*\n",
    "\n",
    "#### What is the probability of the Knicks winning in each of these scenarios? And what is the probability of the Knicks winning overall, given that these are the only scenarios in which they can win (*Hint: Add up the probabilities of them winning in each scenario*)"
   ]
  },
  {
   "cell_type": "code",
   "execution_count": 110,
   "metadata": {},
   "outputs": [
    {
     "name": "stdout",
     "output_type": "stream",
     "text": [
      "4 Games = 0.025600000000000008\n",
      "5 Games = 0.07680000000000001\n",
      "6 Games = 0.13824000000000003\n",
      "7 Games = 0.1935360000000001\n",
      "Knicks winning overall = 0.4341760000000001\n"
     ]
    }
   ],
   "source": [
    "FourGames = stats.binom.pmf(k = 4, n = 4, p=0.4)\n",
    "print(\"4 Games =\", FourGames)\n",
    "FiveGames = stats.binom.pmf(k = 4, n = 5, p=0.4)\n",
    "print(\"5 Games =\", FiveGames)\n",
    "SixGames = stats.binom.pmf(k = 4, n = 6, p=0.4)\n",
    "print(\"6 Games =\", SixGames)\n",
    "SevenGames = stats.binom.pmf(k = 4, n = 7, p=0.4)\n",
    "print(\"7 Games =\", SevenGames)\n",
    "WINNING_OVERALL = FourGames + FiveGames + SixGames + SevenGames\n",
    "print(\"Knicks winning overall =\", WINNING_OVERALL)"
   ]
  },
  {
   "cell_type": "markdown",
   "metadata": {},
   "source": [
    "#### 3. Typically, the way a seven game series in the NBA happens is as such: There are two home games, then three away games, then two home games. Say, in our scenario, the two teams play the first two games in Los Angeles, the next three games in New York, and the final two games in Los Angeles.\n",
    "\n",
    "#### For games played in Los Angeles, the Knicks have a 30% chance of winning. For games played in New York, the Knicks have a 60% chance of winning.\n",
    "\n",
    "#### There are still four ways to win. You can win in:\n",
    "* 4 Games (Two on the road, and two at home)\n",
    "* 5 Games (Two on the road, and three at home)\n",
    "* 6 Games (Two on the road, three at home, and one more on the road)\n",
    "* 7 Games (Two on the road, three at home, and two more on the road)\n",
    "\n",
    "#### Again, same as above, the team must win the last game in the series in each of these scenarios. This is different, however, because the odds of winning at home and the odds of winning on the road are different.\n",
    "\n",
    "#### The best way to go about this is to probably manually write out the scenarios in which they can win. I.e.: in order to win the series in 5 games, the Knicks can win one of two of the first two away games and all three home games OR they can win both of the first two away games and two of the three home games. Add these scenarios up to get the total probability of them winning in five games."
   ]
  },
  {
   "cell_type": "code",
   "execution_count": 111,
   "metadata": {},
   "outputs": [
    {
     "name": "stdout",
     "output_type": "stream",
     "text": [
      "FOUR GAMES = 0.03239999999999999\n",
      "FIVE GAMES = 0.12959999999999994\n",
      "SIX GAMES = 0.18467999999999996\n",
      "SEVEN GAMES = 0.22550399999999998\n",
      "WIN PROBABILITY = 0.5721839999999998\n"
     ]
    }
   ],
   "source": [
    "FourGames = stats.binom.pmf(k = 2, n = 2, p=0.6) * stats.binom.pmf(k = 2, n = 2, p=0.3)\n",
    "print(\"FOUR GAMES =\", FourGames)\n",
    "FiveGames = stats.binom.pmf(k = 2, n = 3, p=0.6) * stats.binom.pmf(k = 2, n = 2, p=0.3) + stats.binom.pmf(k = 3, n = 3, p=0.6) * stats.binom.pmf(k = 1, n = 2, p=0.3)\n",
    "print(\"FIVE GAMES =\", FiveGames)\n",
    "SixGames = stats.binom.pmf(k = 2, n = 3, p=0.6) * stats.binom.pmf(k = 2, n = 3, p=0.3) + stats.binom.pmf(k = 3, n = 3, p=0.6) * stats.binom.pmf(k = 1, n = 3, p=0.3) + stats.binom.pmf(k = 1, n = 3, p=0.6) * stats.binom.pmf(k = 3, n = 3, p=0.3)  \n",
    "print(\"SIX GAMES =\", SixGames)\n",
    "SevenGames = stats.binom.pmf(k = 0, n = 3, p=0.6) * stats.binom.pmf(k = 4, n = 4, p=0.3) + stats.binom.pmf(k = 1, n = 3, p=0.6) * stats.binom.pmf(k = 3, n = 4, p=0.3) + stats.binom.pmf(k = 2, n = 3, p=0.6) * stats.binom.pmf(k = 2, n = 4, p=0.3) + stats.binom.pmf(k = 3, n = 3, p=0.6) * stats.binom.pmf(k = 1, n = 4, p=0.3)\n",
    "print(\"SEVEN GAMES =\", SevenGames)\n",
    "ANSWER = FourGames + FiveGames + SixGames + SevenGames\n",
    "print(\"WIN PROBABILITY =\", ANSWER)"
   ]
  },
  {
   "cell_type": "markdown",
   "metadata": {},
   "source": [
    "#### 4. In class we found the PMF and CDF for the result of getting two dice rolls. Find all of the results possible when you roll three dice, along with the PMF and CDF for each possibility, along with a graphical representation of each PMF and CDF (*Hint: in class we found the result for two dice by nesting one for loop inside another. How can we find the result for three dice?*). Of course label your graphs appropriately!"
   ]
  },
  {
   "cell_type": "code",
   "execution_count": 112,
   "metadata": {},
   "outputs": [],
   "source": [
    "three_dice = np.array([])\n",
    "for i in range(1,7):\n",
    "    for j in range(1,7):\n",
    "        for k in range(1,7):\n",
    "            three_dice = np.append(three_dice, i + j + k)"
   ]
  },
  {
   "cell_type": "code",
   "execution_count": 113,
   "metadata": {},
   "outputs": [
    {
     "data": {
      "text/plain": [
       "216"
      ]
     },
     "execution_count": 113,
     "metadata": {},
     "output_type": "execute_result"
    }
   ],
   "source": [
    "len(three_dice)"
   ]
  },
  {
   "cell_type": "code",
   "execution_count": 114,
   "metadata": {},
   "outputs": [
    {
     "data": {
      "text/plain": [
       "array([[ 3.,  1.],\n",
       "       [ 4.,  3.],\n",
       "       [ 5.,  6.],\n",
       "       [ 6., 10.],\n",
       "       [ 7., 15.],\n",
       "       [ 8., 21.],\n",
       "       [ 9., 25.],\n",
       "       [10., 27.],\n",
       "       [11., 27.],\n",
       "       [12., 25.],\n",
       "       [13., 21.],\n",
       "       [14., 15.],\n",
       "       [15., 10.],\n",
       "       [16.,  6.],\n",
       "       [17.,  3.],\n",
       "       [18.,  1.]])"
      ]
     },
     "execution_count": 114,
     "metadata": {},
     "output_type": "execute_result"
    }
   ],
   "source": [
    "np.transpose(np.unique(three_dice, return_counts=True))"
   ]
  },
  {
   "cell_type": "code",
   "execution_count": 115,
   "metadata": {},
   "outputs": [
    {
     "data": {
      "text/plain": [
       "(array([ 3.,  4.,  5.,  6.,  7.,  8.,  9., 10., 11., 12., 13., 14., 15.,\n",
       "        16., 17., 18.]),\n",
       " array([ 1,  3,  6, 10, 15, 21, 25, 27, 27, 25, 21, 15, 10,  6,  3,  1]))"
      ]
     },
     "execution_count": 115,
     "metadata": {},
     "output_type": "execute_result"
    }
   ],
   "source": [
    "np.unique(three_dice, return_counts=True)"
   ]
  },
  {
   "cell_type": "code",
   "execution_count": 116,
   "metadata": {},
   "outputs": [],
   "source": [
    "three_dice_unique, counts = np.unique(three_dice, return_counts=True)"
   ]
  },
  {
   "cell_type": "code",
   "execution_count": 117,
   "metadata": {},
   "outputs": [
    {
     "data": {
      "text/plain": [
       "array([0.00462963, 0.01388889, 0.02777778, 0.0462963 , 0.06944444,\n",
       "       0.09722222, 0.11574074, 0.125     , 0.125     , 0.11574074,\n",
       "       0.09722222, 0.06944444, 0.0462963 , 0.02777778, 0.01388889,\n",
       "       0.00462963])"
      ]
     },
     "execution_count": 117,
     "metadata": {},
     "output_type": "execute_result"
    }
   ],
   "source": [
    "counts/np.sum(counts)"
   ]
  },
  {
   "cell_type": "code",
   "execution_count": 118,
   "metadata": {},
   "outputs": [
    {
     "data": {
      "text/plain": [
       "array([0.00462963, 0.01851852, 0.0462963 , 0.09259259, 0.16203704,\n",
       "       0.25925926, 0.375     , 0.5       , 0.625     , 0.74074074,\n",
       "       0.83796296, 0.90740741, 0.9537037 , 0.98148148, 0.99537037,\n",
       "       1.        ])"
      ]
     },
     "execution_count": 118,
     "metadata": {},
     "output_type": "execute_result"
    }
   ],
   "source": [
    "np.cumsum(counts)/np.sum(counts)"
   ]
  },
  {
   "cell_type": "code",
   "execution_count": 119,
   "metadata": {},
   "outputs": [
    {
     "data": {
      "text/plain": [
       "array([[3.00000000e+00, 4.62962963e-03],\n",
       "       [4.00000000e+00, 1.85185185e-02],\n",
       "       [5.00000000e+00, 4.62962963e-02],\n",
       "       [6.00000000e+00, 9.25925926e-02],\n",
       "       [7.00000000e+00, 1.62037037e-01],\n",
       "       [8.00000000e+00, 2.59259259e-01],\n",
       "       [9.00000000e+00, 3.75000000e-01],\n",
       "       [1.00000000e+01, 5.00000000e-01],\n",
       "       [1.10000000e+01, 6.25000000e-01],\n",
       "       [1.20000000e+01, 7.40740741e-01],\n",
       "       [1.30000000e+01, 8.37962963e-01],\n",
       "       [1.40000000e+01, 9.07407407e-01],\n",
       "       [1.50000000e+01, 9.53703704e-01],\n",
       "       [1.60000000e+01, 9.81481481e-01],\n",
       "       [1.70000000e+01, 9.95370370e-01],\n",
       "       [1.80000000e+01, 1.00000000e+00]])"
      ]
     },
     "execution_count": 119,
     "metadata": {},
     "output_type": "execute_result"
    }
   ],
   "source": [
    "np.transpose((three_dice_unique, np.cumsum(counts)/np.sum(counts)))"
   ]
  },
  {
   "cell_type": "code",
   "execution_count": 120,
   "metadata": {},
   "outputs": [
    {
     "data": {
      "text/plain": [
       "Text(0.5, 0.92, 'PMFs for Rolling three Dice')"
      ]
     },
     "execution_count": 120,
     "metadata": {},
     "output_type": "execute_result"
    },
    {
     "data": {
      "image/png": "[encoded data removed]",
      "text/plain": [
       "<Figure size 360x360 with 1 Axes>"
      ]
     },
     "metadata": {
      "needs_background": "light"
     },
     "output_type": "display_data"
    }
   ],
   "source": [
    "fig = plt.figure(figsize=(5,5))\n",
    "plt.xticks(three_dice_unique)\n",
    "plt.hist(three_dice_unique, weights=counts/np.sum(counts), bins=25)\n",
    "plt.xlabel('Dice Roll Results')\n",
    "plt.ylabel('Probability Mass Function')\n",
    "fig.suptitle('PMFs for Rolling three Dice', fontsize=15, y=0.92)"
   ]
  },
  {
   "cell_type": "code",
   "execution_count": 121,
   "metadata": {},
   "outputs": [
    {
     "data": {
      "text/plain": [
       "Text(0.5, 0.92, 'CDFs for Three Dice')"
      ]
     },
     "execution_count": 121,
     "metadata": {},
     "output_type": "execute_result"
    },
    {
     "data": {
      "image/png": "[encoded data removed]",
      "text/plain": [
       "<Figure size 360x360 with 1 Axes>"
      ]
     },
     "metadata": {
      "needs_background": "light"
     },
     "output_type": "display_data"
    }
   ],
   "source": [
    "fig = plt.figure(figsize=(5,5))\n",
    "plt.xticks(three_dice_unique)\n",
    "plt.plot(three_dice_unique, np.cumsum(counts)/np.sum(counts),  drawstyle='steps-post', linestyle='-')\n",
    "plt.xlabel('Dice Roll Results')\n",
    "plt.ylabel('Cumulative Distribution Function')\n",
    "fig.suptitle('CDFs for Three Dice', fontsize=15, y=0.92)"
   ]
  }
 ],
 "metadata": {
  "kernelspec": {
   "display_name": "Python 3",
   "language": "python",
   "name": "python3"
  },
  "language_info": {
   "codemirror_mode": {
    "name": "ipython",
    "version": 3
   },
   "file_extension": ".py",
   "mimetype": "text/x-python",
   "name": "python",
   "nbconvert_exporter": "python",
   "pygments_lexer": "ipython3",
   "version": "3.7.1"
  }
 },
 "nbformat": 4,
 "nbformat_minor": 2
}
