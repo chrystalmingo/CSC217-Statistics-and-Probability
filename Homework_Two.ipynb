{
 "cells": [
  {
   "cell_type": "markdown",
   "metadata": {},
   "source": [
    "## CSC 217: Week Two Homework\n",
    "\n",
    "#### This homework is due at **6:00 PM on Wednesday, Feburary 13th**. Any submissions made after that time will receive no credit."
   ]
  },
  {
   "cell_type": "code",
   "execution_count": 4,
   "metadata": {},
   "outputs": [],
   "source": [
    "import pandas as pd\n",
    "import numpy as np\n",
    "import seaborn as sns\n",
    "import matplotlib.pyplot as plt\n",
    "%matplotlib inline"
   ]
  },
  {
   "cell_type": "markdown",
   "metadata": {},
   "source": [
    "#### 1. Answer Questions 1 through 5 of part 6 of the classwork. You can work right in the notebook from class if you wish, or create a new notebook (or paste it below). Please copy and paste each question into its own cell with answers below it.\n",
    "\n",
    "#### 2. Answer Questions 1 through 10 from [here](https://www.kaggle.com/kashnitsky/a1-demo-pandas-and-uci-adult-dataset) below (please copy and paste each question into its own cell with answers below it). I've loaded in the code for you and cleaned it up a bit."
   ]
  },
  {
   "cell_type": "code",
   "execution_count": 3,
   "metadata": {},
   "outputs": [
    {
     "data": {
      "text/html": [
       "<div>\n",
       "<style scoped>\n",
       "    .dataframe tbody tr th:only-of-type {\n",
       "        vertical-align: middle;\n",
       "    }\n",
       "\n",
       "    .dataframe tbody tr th {\n",
       "        vertical-align: top;\n",
       "    }\n",
       "\n",
       "    .dataframe thead th {\n",
       "        text-align: right;\n",
       "    }\n",
       "</style>\n",
       "<table border=\"1\" class=\"dataframe\">\n",
       "  <thead>\n",
       "    <tr style=\"text-align: right;\">\n",
       "      <th></th>\n",
       "      <th>age</th>\n",
       "      <th>workingclass</th>\n",
       "      <th>fnlwgt</th>\n",
       "      <th>education</th>\n",
       "      <th>education-num</th>\n",
       "      <th>martial-status</th>\n",
       "      <th>occupation</th>\n",
       "      <th>relationship</th>\n",
       "      <th>race</th>\n",
       "      <th>sex</th>\n",
       "      <th>capital-gain</th>\n",
       "      <th>capital-loss</th>\n",
       "      <th>hours-per-week</th>\n",
       "      <th>native-country</th>\n",
       "      <th>salary</th>\n",
       "    </tr>\n",
       "  </thead>\n",
       "  <tbody>\n",
       "    <tr>\n",
       "      <th>0</th>\n",
       "      <td>50</td>\n",
       "      <td>Self-emp-not-inc</td>\n",
       "      <td>83311</td>\n",
       "      <td>Bachelors</td>\n",
       "      <td>13</td>\n",
       "      <td>Married-civ-spouse</td>\n",
       "      <td>Exec-managerial</td>\n",
       "      <td>Husband</td>\n",
       "      <td>White</td>\n",
       "      <td>Male</td>\n",
       "      <td>0</td>\n",
       "      <td>0</td>\n",
       "      <td>13</td>\n",
       "      <td>United-States</td>\n",
       "      <td>&lt;=50K</td>\n",
       "    </tr>\n",
       "    <tr>\n",
       "      <th>1</th>\n",
       "      <td>38</td>\n",
       "      <td>Private</td>\n",
       "      <td>215646</td>\n",
       "      <td>HS-grad</td>\n",
       "      <td>9</td>\n",
       "      <td>Divorced</td>\n",
       "      <td>Handlers-cleaners</td>\n",
       "      <td>Not-in-family</td>\n",
       "      <td>White</td>\n",
       "      <td>Male</td>\n",
       "      <td>0</td>\n",
       "      <td>0</td>\n",
       "      <td>40</td>\n",
       "      <td>United-States</td>\n",
       "      <td>&lt;=50K</td>\n",
       "    </tr>\n",
       "    <tr>\n",
       "      <th>2</th>\n",
       "      <td>53</td>\n",
       "      <td>Private</td>\n",
       "      <td>234721</td>\n",
       "      <td>11th</td>\n",
       "      <td>7</td>\n",
       "      <td>Married-civ-spouse</td>\n",
       "      <td>Handlers-cleaners</td>\n",
       "      <td>Husband</td>\n",
       "      <td>Black</td>\n",
       "      <td>Male</td>\n",
       "      <td>0</td>\n",
       "      <td>0</td>\n",
       "      <td>40</td>\n",
       "      <td>United-States</td>\n",
       "      <td>&lt;=50K</td>\n",
       "    </tr>\n",
       "    <tr>\n",
       "      <th>3</th>\n",
       "      <td>28</td>\n",
       "      <td>Private</td>\n",
       "      <td>338409</td>\n",
       "      <td>Bachelors</td>\n",
       "      <td>13</td>\n",
       "      <td>Married-civ-spouse</td>\n",
       "      <td>Prof-specialty</td>\n",
       "      <td>Wife</td>\n",
       "      <td>Black</td>\n",
       "      <td>Female</td>\n",
       "      <td>0</td>\n",
       "      <td>0</td>\n",
       "      <td>40</td>\n",
       "      <td>Cuba</td>\n",
       "      <td>&lt;=50K</td>\n",
       "    </tr>\n",
       "    <tr>\n",
       "      <th>4</th>\n",
       "      <td>37</td>\n",
       "      <td>Private</td>\n",
       "      <td>284582</td>\n",
       "      <td>Masters</td>\n",
       "      <td>14</td>\n",
       "      <td>Married-civ-spouse</td>\n",
       "      <td>Exec-managerial</td>\n",
       "      <td>Wife</td>\n",
       "      <td>White</td>\n",
       "      <td>Female</td>\n",
       "      <td>0</td>\n",
       "      <td>0</td>\n",
       "      <td>40</td>\n",
       "      <td>United-States</td>\n",
       "      <td>&lt;=50K</td>\n",
       "    </tr>\n",
       "  </tbody>\n",
       "</table>\n",
       "</div>"
      ],
      "text/plain": [
       "   age       workingclass  fnlwgt   education  education-num  \\\n",
       "0   50   Self-emp-not-inc   83311   Bachelors             13   \n",
       "1   38            Private  215646     HS-grad              9   \n",
       "2   53            Private  234721        11th              7   \n",
       "3   28            Private  338409   Bachelors             13   \n",
       "4   37            Private  284582     Masters             14   \n",
       "\n",
       "        martial-status          occupation    relationship    race      sex  \\\n",
       "0   Married-civ-spouse     Exec-managerial         Husband   White     Male   \n",
       "1             Divorced   Handlers-cleaners   Not-in-family   White     Male   \n",
       "2   Married-civ-spouse   Handlers-cleaners         Husband   Black     Male   \n",
       "3   Married-civ-spouse      Prof-specialty            Wife   Black   Female   \n",
       "4   Married-civ-spouse     Exec-managerial            Wife   White   Female   \n",
       "\n",
       "   capital-gain  capital-loss  hours-per-week native-country salary  \n",
       "0             0             0              13  United-States  <=50K  \n",
       "1             0             0              40  United-States  <=50K  \n",
       "2             0             0              40  United-States  <=50K  \n",
       "3             0             0              40           Cuba  <=50K  \n",
       "4             0             0              40  United-States  <=50K  "
      ]
     },
     "execution_count": 3,
     "metadata": {},
     "output_type": "execute_result"
    }
   ],
   "source": [
    "#AdultDataSet\n",
    "df = pd.read_csv('https://archive.ics.uci.edu/ml/machine-learning-databases/adult/adult.data')\n",
    "df.columns = ['age', 'workingclass', 'fnlwgt', 'education', 'education-num', 'martial-status', 'occupation', 'relationship', 'race', 'sex', 'capital-gain', 'capital-loss', 'hours-per-week', 'native-country', 'salary']\n",
    "df['salary'] = df['salary'].str.strip()\n",
    "df['native-country'] = df['native-country'].str.strip()\n",
    "df.head()"
   ]
  },
  {
   "cell_type": "code",
   "execution_count": 6,
   "metadata": {},
   "outputs": [
    {
     "data": {
      "text/plain": [
       " Male      21789\n",
       " Female    10771\n",
       "Name: sex, dtype: int64"
      ]
     },
     "execution_count": 6,
     "metadata": {},
     "output_type": "execute_result"
    }
   ],
   "source": [
    "#Question #1:How many men and women (sex feature) are represented in this dataset.\n",
    "df['sex'].value_counts()\n",
    "#Anwser: Men ->21789 Women->10771"
   ]
  },
  {
   "cell_type": "code",
   "execution_count": 9,
   "metadata": {},
   "outputs": [
    {
     "data": {
      "text/plain": [
       "sex\n",
       " Female    36.858230\n",
       " Male      39.433567\n",
       "Name: age, dtype: float64"
      ]
     },
     "execution_count": 9,
     "metadata": {},
     "output_type": "execute_result"
    }
   ],
   "source": [
    "# Question #2: What is the average age (age feature) of women?\n",
    "df.groupby('sex')['age'].mean()\n",
    "#Answer: Average age of women is 37 years old"
   ]
  },
  {
   "cell_type": "code",
   "execution_count": 12,
   "metadata": {},
   "outputs": [
    {
     "data": {
      "text/plain": [
       "0.4208"
      ]
     },
     "execution_count": 12,
     "metadata": {},
     "output_type": "execute_result"
    }
   ],
   "source": [
    "#Question #3: What is the percentage of German citizens (native-country feature)?\n",
    "df['native-country'].value_counts(normalize=True)\n",
    "0.004208*100\n",
    "#Answer:Germany's percentage of German Citizens is 0.42%"
   ]
  },
  {
   "cell_type": "code",
   "execution_count": 18,
   "metadata": {},
   "outputs": [
    {
     "data": {
      "text/plain": [
       "salary\n",
       "<=50K    36.783648\n",
       ">50K     44.249841\n",
       "Name: age, dtype: float64"
      ]
     },
     "execution_count": 18,
     "metadata": {},
     "output_type": "execute_result"
    }
   ],
   "source": [
    "#Question #4 and 5: What are the mean and standard deviation of age for those who earn more than 50K per year (salary feature) and those who earn less than 50K per year?\n",
    "df.groupby('salary')['age'].mean()\n",
    "#Answer #4: The mean for those who earn more than 50K per year is 44.2%, those who earn less than 50K per year is 36.7%. "
   ]
  },
  {
   "cell_type": "code",
   "execution_count": 19,
   "metadata": {},
   "outputs": [
    {
     "data": {
      "text/plain": [
       "salary\n",
       "<=50K    14.020365\n",
       ">50K     10.519028\n",
       "Name: age, dtype: float64"
      ]
     },
     "execution_count": 19,
     "metadata": {},
     "output_type": "execute_result"
    }
   ],
   "source": [
    "#5 Standard Deviation:\n",
    "df.groupby('salary')['age'].std()\n",
    "#Answer: The std of who earns >50K per year is 10.519 and the std for <= to 50K a year is 14.02"
   ]
  },
  {
   "cell_type": "code",
   "execution_count": 21,
   "metadata": {},
   "outputs": [
    {
     "data": {
      "text/plain": [
       " Bachelors       2221\n",
       " HS-grad         1675\n",
       " Some-college    1387\n",
       " Masters          959\n",
       " Prof-school      423\n",
       " Assoc-voc        361\n",
       " Doctorate        306\n",
       " Assoc-acdm       265\n",
       " 10th              62\n",
       " 11th              60\n",
       " 7th-8th           40\n",
       " 12th              33\n",
       " 9th               27\n",
       " 5th-6th           16\n",
       " 1st-4th            6\n",
       "Name: education, dtype: int64"
      ]
     },
     "execution_count": 21,
     "metadata": {},
     "output_type": "execute_result"
    }
   ],
   "source": [
    "#Question #6:Is it true that people who earn more than 50K have at least high school education? (education – Bachelors, Prof-school, Assoc-acdm, Assoc-voc, Masters or Doctorate feature)\n",
    "df[df['salary'] == '>50K']['education'].value_counts()\n",
    "#Answer: The statement above is not necessarily true because there are some people who don't have a high school degree and make more than 50K a year, but people with a highschool degree or higher is more likely to earn more than 50 K."
   ]
  },
  {
   "cell_type": "code",
   "execution_count": 23,
   "metadata": {},
   "outputs": [
    {
     "data": {
      "text/html": [
       "<div>\n",
       "<style scoped>\n",
       "    .dataframe tbody tr th:only-of-type {\n",
       "        vertical-align: middle;\n",
       "    }\n",
       "\n",
       "    .dataframe tbody tr th {\n",
       "        vertical-align: top;\n",
       "    }\n",
       "\n",
       "    .dataframe thead th {\n",
       "        text-align: right;\n",
       "    }\n",
       "</style>\n",
       "<table border=\"1\" class=\"dataframe\">\n",
       "  <thead>\n",
       "    <tr style=\"text-align: right;\">\n",
       "      <th></th>\n",
       "      <th>count</th>\n",
       "      <th>mean</th>\n",
       "      <th>std</th>\n",
       "      <th>min</th>\n",
       "      <th>25%</th>\n",
       "      <th>50%</th>\n",
       "      <th>75%</th>\n",
       "      <th>max</th>\n",
       "    </tr>\n",
       "    <tr>\n",
       "      <th>race</th>\n",
       "      <th></th>\n",
       "      <th></th>\n",
       "      <th></th>\n",
       "      <th></th>\n",
       "      <th></th>\n",
       "      <th></th>\n",
       "      <th></th>\n",
       "      <th></th>\n",
       "    </tr>\n",
       "  </thead>\n",
       "  <tbody>\n",
       "    <tr>\n",
       "      <th>Amer-Indian-Eskimo</th>\n",
       "      <td>311.0</td>\n",
       "      <td>37.173633</td>\n",
       "      <td>12.447130</td>\n",
       "      <td>17.0</td>\n",
       "      <td>28.0</td>\n",
       "      <td>35.0</td>\n",
       "      <td>45.5</td>\n",
       "      <td>82.0</td>\n",
       "    </tr>\n",
       "    <tr>\n",
       "      <th>Asian-Pac-Islander</th>\n",
       "      <td>1039.0</td>\n",
       "      <td>37.746872</td>\n",
       "      <td>12.825133</td>\n",
       "      <td>17.0</td>\n",
       "      <td>28.0</td>\n",
       "      <td>36.0</td>\n",
       "      <td>45.0</td>\n",
       "      <td>90.0</td>\n",
       "    </tr>\n",
       "    <tr>\n",
       "      <th>Black</th>\n",
       "      <td>3124.0</td>\n",
       "      <td>37.767926</td>\n",
       "      <td>12.759290</td>\n",
       "      <td>17.0</td>\n",
       "      <td>28.0</td>\n",
       "      <td>36.0</td>\n",
       "      <td>46.0</td>\n",
       "      <td>90.0</td>\n",
       "    </tr>\n",
       "    <tr>\n",
       "      <th>Other</th>\n",
       "      <td>271.0</td>\n",
       "      <td>33.457565</td>\n",
       "      <td>11.538865</td>\n",
       "      <td>17.0</td>\n",
       "      <td>25.0</td>\n",
       "      <td>31.0</td>\n",
       "      <td>41.0</td>\n",
       "      <td>77.0</td>\n",
       "    </tr>\n",
       "    <tr>\n",
       "      <th>White</th>\n",
       "      <td>27815.0</td>\n",
       "      <td>38.769872</td>\n",
       "      <td>13.782554</td>\n",
       "      <td>17.0</td>\n",
       "      <td>28.0</td>\n",
       "      <td>37.0</td>\n",
       "      <td>48.0</td>\n",
       "      <td>90.0</td>\n",
       "    </tr>\n",
       "  </tbody>\n",
       "</table>\n",
       "</div>"
      ],
      "text/plain": [
       "                       count       mean        std   min   25%   50%   75%  \\\n",
       "race                                                                         \n",
       " Amer-Indian-Eskimo    311.0  37.173633  12.447130  17.0  28.0  35.0  45.5   \n",
       " Asian-Pac-Islander   1039.0  37.746872  12.825133  17.0  28.0  36.0  45.0   \n",
       " Black                3124.0  37.767926  12.759290  17.0  28.0  36.0  46.0   \n",
       " Other                 271.0  33.457565  11.538865  17.0  25.0  31.0  41.0   \n",
       " White               27815.0  38.769872  13.782554  17.0  28.0  37.0  48.0   \n",
       "\n",
       "                      max  \n",
       "race                       \n",
       " Amer-Indian-Eskimo  82.0  \n",
       " Asian-Pac-Islander  90.0  \n",
       " Black               90.0  \n",
       " Other               77.0  \n",
       " White               90.0  "
      ]
     },
     "execution_count": 23,
     "metadata": {},
     "output_type": "execute_result"
    }
   ],
   "source": [
    "#Question #7:Display age statistics for each race (race feature) and each gender (sex feature). Use groupby() and describe(). Find the maximum age of men of Amer-Indian-Eskimo race.\n",
    "df.groupby('race')['age'].describe()\n",
    "#Answer: The maximum age of men of Amer-Indian-Eskimo race is 82 years old."
   ]
  },
  {
   "cell_type": "code",
   "execution_count": 25,
   "metadata": {},
   "outputs": [
    {
     "data": {
      "text/plain": [
       " Married-civ-spouse       6692\n",
       " Never-married             491\n",
       " Divorced                  463\n",
       " Widowed                    85\n",
       " Separated                  66\n",
       " Married-spouse-absent      34\n",
       " Married-AF-spouse          10\n",
       "Name: martial-status, dtype: int64"
      ]
     },
     "execution_count": 25,
     "metadata": {},
     "output_type": "execute_result"
    }
   ],
   "source": [
    "#Question #8:Among whom is the proportion of those who earn a lot (>50K) greater: married or single men (marital-status feature)? Consider as married those who have a marital-status starting with Married (Married-civ-spouse, Married-spouse-absent or Married-AF-spouse), the rest are considered bachelors.\n",
    "df[df['salary'] == '>50K']['martial-status'].value_counts()\n",
    "#Answer: Married Men make greater proportion than 50K."
   ]
  },
  {
   "cell_type": "code",
   "execution_count": 26,
   "metadata": {},
   "outputs": [
    {
     "data": {
      "text/plain": [
       "(85, 15)"
      ]
     },
     "execution_count": 26,
     "metadata": {},
     "output_type": "execute_result"
    }
   ],
   "source": [
    "#Question #9: What is the maximum number of hours a person works per week (hours-per-week feature)? How many people work such a number of hours, and what is the percentage of those who earn a lot (>50K) among them?\n",
    "df[df['hours-per-week'] == df['hours-per-week'].max()].shape\n",
    "#Answer: The maximum number of hours a person works per week is 85 hours and 15 people work this much."
   ]
  },
  {
   "cell_type": "code",
   "execution_count": 28,
   "metadata": {},
   "outputs": [
    {
     "data": {
      "text/plain": [
       "<=50K    0.705882\n",
       ">50K     0.294118\n",
       "Name: salary, dtype: float64"
      ]
     },
     "execution_count": 28,
     "metadata": {},
     "output_type": "execute_result"
    }
   ],
   "source": [
    "df[df['hours-per-week'] == df['hours-per-week'].max()]['salary'].value_counts(normalize=True)\n",
    "#Answer: The percentage of those who earn a lot (>50K) is 29.4%"
   ]
  },
  {
   "cell_type": "code",
   "execution_count": 34,
   "metadata": {},
   "outputs": [
    {
     "data": {
      "text/plain": [
       "native-country  salary\n",
       "Japan           <=50K     41.000000\n",
       "                >50K      47.958333\n",
       "Name: hours-per-week, dtype: float64"
      ]
     },
     "execution_count": 34,
     "metadata": {},
     "output_type": "execute_result"
    }
   ],
   "source": [
    "#Question #10:Count the average time of work (hours-per-week) for those who earn a little and a lot (salary) for each country (native-country). What will these be for Japan?\n",
    "df[df['native-country'] == 'Japan'].groupby(['native-country', 'salary'])['hours-per-week'].mean()\n",
    "#Answer: In Japan, people who earn less than 50 K work around 41 hours, and those who earn greater than 50K work about 48 hours."
   ]
  },
  {
   "cell_type": "markdown",
   "metadata": {},
   "source": [
    "#### 3. Think of some datasets you might be interested in analyzing and post two below. You can either use the pd.read_table to pull a table off of a page like Wikipedia or pd.read_csv to read a CSV from a site. Get creative! If you're not sure where to start, google 'free datasets' to get a sense of what's out there. Everything is only a search away. If there are datasets you're interested in working with but can't find the data you're looking for or are having trouble finding them"
   ]
  },
  {
   "cell_type": "code",
   "execution_count": 51,
   "metadata": {},
   "outputs": [
    {
     "data": {
      "text/plain": [
       "[       0         1         2         3         4         5        6   \\\n",
       " 0     NaN   Females     Males       NaN       NaN       NaN      NaN   \n",
       " 1    Year    Rank 1    Rank 2    Rank 3    Rank 4    Rank 5   Rank 1   \n",
       " 2    2017      Emma    Olivia       Ava  Isabella    Sophia     Liam   \n",
       " 3    2016      Emma    Olivia       Ava    Sophia  Isabella     Noah   \n",
       " 4    2015      Emma    Olivia    Sophia       Ava  Isabella     Noah   \n",
       " 5    2014      Emma    Olivia    Sophia  Isabella       Ava     Noah   \n",
       " 6    2013    Sophia      Emma    Olivia  Isabella       Ava     Noah   \n",
       " 7    2012    Sophia      Emma  Isabella    Olivia       Ava    Jacob   \n",
       " 8    2011    Sophia  Isabella      Emma    Olivia       Ava    Jacob   \n",
       " 9    2010  Isabella    Sophia      Emma    Olivia       Ava    Jacob   \n",
       " 10   2009  Isabella      Emma    Olivia    Sophia       Ava    Jacob   \n",
       " 11   2008      Emma  Isabella     Emily    Olivia       Ava    Jacob   \n",
       " 12   2007     Emily  Isabella      Emma       Ava   Madison    Jacob   \n",
       " 13   2006     Emily      Emma   Madison  Isabella       Ava    Jacob   \n",
       " 14   2005     Emily      Emma   Madison   Abigail    Olivia    Jacob   \n",
       " 15   2004     Emily      Emma   Madison    Olivia    Hannah    Jacob   \n",
       " 16   2003     Emily      Emma   Madison    Hannah    Olivia    Jacob   \n",
       " 17   2002     Emily   Madison    Hannah      Emma    Alexis    Jacob   \n",
       " 18   2001     Emily   Madison    Hannah    Ashley    Alexis    Jacob   \n",
       " 19   2000     Emily    Hannah   Madison    Ashley     Sarah    Jacob   \n",
       " 20   1999     Emily    Hannah    Alexis     Sarah  Samantha    Jacob   \n",
       " 21   1998     Emily    Hannah  Samantha     Sarah    Ashley  Michael   \n",
       " 22   1997     Emily   Jessica    Ashley     Sarah    Hannah  Michael   \n",
       " 23   1996     Emily   Jessica    Ashley     Sarah  Samantha  Michael   \n",
       " 24   1995   Jessica    Ashley     Emily  Samantha     Sarah  Michael   \n",
       " 25   1994   Jessica    Ashley     Emily  Samantha     Sarah  Michael   \n",
       " 26   1993   Jessica    Ashley     Sarah  Samantha     Emily  Michael   \n",
       " 27   1992    Ashley   Jessica    Amanda  Brittany     Sarah  Michael   \n",
       " 28   1991    Ashley   Jessica  Brittany    Amanda  Samantha  Michael   \n",
       " 29   1990   Jessica    Ashley  Brittany    Amanda  Samantha  Michael   \n",
       " ..    ...       ...       ...       ...       ...       ...      ...   \n",
       " 72   1947     Linda      Mary  Patricia   Barbara    Sandra    James   \n",
       " 73   1946      Mary     Linda  Patricia   Barbara     Carol    James   \n",
       " 74   1945      Mary     Linda   Barbara  Patricia     Carol    James   \n",
       " 75   1944      Mary   Barbara     Linda  Patricia     Carol    James   \n",
       " 76   1943      Mary   Barbara  Patricia     Linda     Carol    James   \n",
       " 77   1942      Mary   Barbara  Patricia     Linda     Carol    James   \n",
       " 78   1941      Mary   Barbara  Patricia     Carol     Linda    James   \n",
       " 79   1940      Mary   Barbara  Patricia    Judith     Betty    James   \n",
       " 80   1939      Mary   Barbara  Patricia     Betty   Shirley   Robert   \n",
       " 81   1938      Mary   Barbara  Patricia     Betty   Shirley   Robert   \n",
       " 82   1937      Mary   Barbara  Patricia   Shirley     Betty   Robert   \n",
       " 83   1936      Mary   Shirley   Barbara     Betty  Patricia   Robert   \n",
       " 84   1935      Mary   Shirley   Barbara     Betty  Patricia   Robert   \n",
       " 85   1934      Mary     Betty   Barbara   Shirley   Dorothy   Robert   \n",
       " 86   1933      Mary     Betty   Barbara   Dorothy      Joan   Robert   \n",
       " 87   1932      Mary     Betty   Barbara   Dorothy      Joan   Robert   \n",
       " 88   1931      Mary     Betty   Dorothy   Barbara      Joan   Robert   \n",
       " 89   1930      Mary     Betty   Dorothy     Helen  Margaret   Robert   \n",
       " 90   1929      Mary     Betty   Dorothy     Helen  Margaret   Robert   \n",
       " 91   1928      Mary     Betty   Dorothy     Helen  Margaret   Robert   \n",
       " 92   1927      Mary   Dorothy     Betty     Helen  Margaret   Robert   \n",
       " 93   1926      Mary   Dorothy     Betty     Helen  Margaret   Robert   \n",
       " 94   1925      Mary   Dorothy     Betty     Helen  Margaret   Robert   \n",
       " 95   1924      Mary   Dorothy     Helen     Betty  Margaret   Robert   \n",
       " 96   1923      Mary   Dorothy     Helen  Margaret     Betty     John   \n",
       " 97   1922      Mary   Dorothy     Helen  Margaret      Ruth     John   \n",
       " 98   1921      Mary   Dorothy     Helen  Margaret      Ruth     John   \n",
       " 99   1920      Mary   Dorothy     Helen  Margaret      Ruth     John   \n",
       " 100  1919      Mary     Helen   Dorothy  Margaret      Ruth     John   \n",
       " 101  1918      Mary     Helen   Dorothy  Margaret      Ruth     John   \n",
       " \n",
       "               7            8            9            10  \n",
       " 0            NaN          NaN          NaN          NaN  \n",
       " 1         Rank 2       Rank 3       Rank 4       Rank 5  \n",
       " 2           Noah      William        James        Logan  \n",
       " 3           Liam      William        Mason        James  \n",
       " 4           Liam        Mason        Jacob      William  \n",
       " 5           Liam        Mason        Jacob      William  \n",
       " 6          Jacob         Liam        Mason      William  \n",
       " 7          Mason        Ethan         Noah      William  \n",
       " 8          Mason      William       Jayden         Noah  \n",
       " 9          Ethan      Michael       Jayden      William  \n",
       " 10         Ethan      Michael    Alexander      William  \n",
       " 11       Michael        Ethan       Joshua       Daniel  \n",
       " 12       Michael        Ethan       Joshua       Daniel  \n",
       " 13       Michael       Joshua        Ethan      Matthew  \n",
       " 14       Michael       Joshua      Matthew        Ethan  \n",
       " 15       Michael       Joshua      Matthew        Ethan  \n",
       " 16       Michael       Joshua      Matthew       Andrew  \n",
       " 17       Michael       Joshua      Matthew        Ethan  \n",
       " 18       Michael      Matthew       Joshua  Christopher  \n",
       " 19       Michael      Matthew       Joshua  Christopher  \n",
       " 20       Michael      Matthew       Joshua     Nicholas  \n",
       " 21         Jacob      Matthew       Joshua  Christopher  \n",
       " 22         Jacob      Matthew  Christopher       Joshua  \n",
       " 23       Matthew        Jacob  Christopher       Joshua  \n",
       " 24       Matthew  Christopher        Jacob       Joshua  \n",
       " 25   Christopher      Matthew       Joshua        Tyler  \n",
       " 26   Christopher      Matthew       Joshua        Tyler  \n",
       " 27   Christopher      Matthew       Joshua       Andrew  \n",
       " 28   Christopher      Matthew       Joshua       Andrew  \n",
       " 29   Christopher      Matthew       Joshua       Daniel  \n",
       " ..           ...          ...          ...          ...  \n",
       " 72        Robert         John      William      Richard  \n",
       " 73        Robert         John      William      Richard  \n",
       " 74        Robert         John      William      Richard  \n",
       " 75        Robert         John      William      Richard  \n",
       " 76        Robert         John      William      Richard  \n",
       " 77        Robert         John      William      Richard  \n",
       " 78        Robert         John      William      Richard  \n",
       " 79        Robert         John      William      Richard  \n",
       " 80         James         John      William      Richard  \n",
       " 81         James         John      William      Richard  \n",
       " 82         James         John      William      Richard  \n",
       " 83         James         John      William      Richard  \n",
       " 84         James         John      William      Richard  \n",
       " 85         James         John      William      Richard  \n",
       " 86         James         John      William      Richard  \n",
       " 87         James         John      William      Richard  \n",
       " 88         James         John      William      Richard  \n",
       " 89         James         John      William      Richard  \n",
       " 90         James         John      William      Charles  \n",
       " 91          John        James      William      Charles  \n",
       " 92          John        James      William      Charles  \n",
       " 93          John        James      William      Charles  \n",
       " 94          John      William        James      Charles  \n",
       " 95          John      William        James      Charles  \n",
       " 96        Robert      William        James      Charles  \n",
       " 97        Robert      William        James      Charles  \n",
       " 98        Robert      William        James      Charles  \n",
       " 99       William       Robert        James      Charles  \n",
       " 100      William        James       Robert      Charles  \n",
       " 101      William        James       Robert      Charles  \n",
       " \n",
       " [102 rows x 11 columns]]"
      ]
     },
     "execution_count": 51,
     "metadata": {},
     "output_type": "execute_result"
    }
   ],
   "source": [
    "#Popular Names during certain years:\n",
    "names = pd.read_html('https://www.ssa.gov/oact/babynames/top5names.html')\n",
    "names"
   ]
  },
  {
   "cell_type": "code",
   "execution_count": 52,
   "metadata": {},
   "outputs": [
    {
     "data": {
      "text/plain": [
       "[    0                                                  1\n",
       " 0 NaN  This section needs expansion. You can help by ...,\n",
       "                                     0                    1  \\\n",
       " 0                             Country  Crude marriage rate   \n",
       " 1                             Albania                  7.8   \n",
       " 2                             Algeria                 10.1   \n",
       " 3                             Armenia                  6.0   \n",
       " 4                           Australia                  4.8   \n",
       " 5                             Austria                  5.1   \n",
       " 6                          Azerbaijan                  9.7   \n",
       " 7                             Bahamas                  6.1   \n",
       " 8                          Bangladesh                  2.9   \n",
       " 9                             Belarus                  9.2   \n",
       " 10                            Belgium                  3.9   \n",
       " 11                            Bermuda                 10.6   \n",
       " 12             Bosnia and Herzegovina                  4.8   \n",
       " 13                             Brazil                  6.6   \n",
       " 14                           Bulgaria                  3.8   \n",
       " 15                             Canada                  4.4   \n",
       " 16                              Chile                  3.3   \n",
       " 17                              China                  9.3   \n",
       " 18                           Colombia                  2.3   \n",
       " 19                         Costa Rica                  5.3   \n",
       " 20                            Croatia                  4.9   \n",
       " 21                               Cuba                  5.2   \n",
       " 22                             Cyprus                  7.5   \n",
       " 23                     Czech Republic                  4.8   \n",
       " 24                            Denmark                  5.4   \n",
       " 25                 Dominican Republic                  4.4   \n",
       " 26                            Ecuador                  5.6   \n",
       " 27                              Egypt                 11.0   \n",
       " 28                        El Salvador                  3.5   \n",
       " 29                            Estonia                  5.2   \n",
       " ..                                ...                  ...   \n",
       " 76   Saint Vincent and the Grenadines                  5.8   \n",
       " 77                         San Marino                  6.1   \n",
       " 78                       Saudi Arabia                  5.2   \n",
       " 79                             Serbia                  5.1   \n",
       " 80                         Seychelles                 17.4   \n",
       " 81                          Singapore                  6.8   \n",
       " 82                           Slovakia                  5.5   \n",
       " 83                           Slovenia                  3.2   \n",
       " 84                       South Africa                  3.5   \n",
       " 85                        South Korea                  6.4   \n",
       " 86                              Spain                  3.7   \n",
       " 87                          Sri Lanka                  NaN   \n",
       " 88                           Suriname                  4.2   \n",
       " 89                             Sweden                  5.4   \n",
       " 90                        Switzerland                  5.0   \n",
       " 91                              Syria                 10.6   \n",
       " 92                             Taiwan                  NaN   \n",
       " 93                         Tajikistan                 13.5   \n",
       " 94                           Thailand                  5.5   \n",
       " 95                              Tonga                  7.1   \n",
       " 96                Trinidad and Tobago                  6.3   \n",
       " 97                             Turkey                  7.5   \n",
       " 98                            Ukraine                  6.7   \n",
       " 99               United Arab Emirates                  2.8   \n",
       " 100                    United Kingdom                  4.4   \n",
       " 101                     United States                  6.9   \n",
       " 102                           Uruguay                  3.2   \n",
       " 103                        Uzbekistan                  7.8   \n",
       " 104                         Venezuela                  3.3   \n",
       " 105                           Vietnam                  5.7   \n",
       " \n",
       "                       2                         3                 4  \n",
       " 0    Crude divorce rate  % Divorce:marriage ratio  Data Source Year  \n",
       " 1                   1.9                        24         (2016)[2]  \n",
       " 2                   1.6                        16         (2013)[3]  \n",
       " 3                   1.0                        17      (2011)[4][5]  \n",
       " 4                   2.0                        42         (2015)[6]  \n",
       " 5                   1.8                        35         (2016)[2]  \n",
       " 6                   1.5                        15      (2011)[4][5]  \n",
       " 7                   1.0                        16      (2007)[4][5]  \n",
       " 8                   1.0                        34      (2007)[4][5]  \n",
       " 9                   4.1                        45      (2011)[4][5]  \n",
       " 10                  2.1                        54         (2016)[2]  \n",
       " 11                  2.7                        25      (2009)[4][5]  \n",
       " 12                  0.6                        13         (2012)[2]  \n",
       " 13                  1.4                        17         (2009)[7]  \n",
       " 14                  1.5                        39         (2015)[2]  \n",
       " 15                  2.1                        48      (2008)[4][5]  \n",
       " 16                  0.7                        21      (2009)[4][5]  \n",
       " 17                  2.8                        30         (2015)[8]  \n",
       " 18                  0.7                        30         (2007)[9]  \n",
       " 19                  2.5                        47      (2010)[4][5]  \n",
       " 20                  1.7                        35         (2016)[2]  \n",
       " 21                  2.9                        56      (2010)[4][5]  \n",
       " 22                  2.3                        31         (2016)[2]  \n",
       " 23                  2.4                        50         (2016)[2]  \n",
       " 24                  3.0                        56         (2016)[2]  \n",
       " 25                  1.8                        41      (2010)[4][5]  \n",
       " 26                  1.1                        20         (2006)[9]  \n",
       " 27                  1.9                        17      (2010)[4][5]  \n",
       " 28                  0.8                        23         (2006)[9]  \n",
       " 29                  2.6                        52         (2016)[2]  \n",
       " ..                  ...                       ...               ...  \n",
       " 76                  0.8                        14      (2007)[4][5]  \n",
       " 77                  2.5                        41      (2011)[4][5]  \n",
       " 78                  1.1                        21         (2005)[9]  \n",
       " 79                  1.3                        25         (2016)[2]  \n",
       " 80                  1.9                        11      (2011)[4][5]  \n",
       " 81                  1.9                        28        (2015)[15]  \n",
       " 82                  1.7                        31         (2016)[2]  \n",
       " 83                  1.2                        38         (2016)[2]  \n",
       " 84                  0.6                        17         (2009)[7]  \n",
       " 85                  2.3                        36        (2013)[16]  \n",
       " 86                  2.1                        57         (2016)[2]  \n",
       " 87                 0.15                       NaN              [17]  \n",
       " 88                  1.3                        31      (2007)[4][5]  \n",
       " 89                  2.4                        44         (2016)[2]  \n",
       " 90                  2.0                        40         (2016)[2]  \n",
       " 91                  1.3                        12         (2006)[9]  \n",
       " 92                 2.31                       NaN        (2017)[18]  \n",
       " 93                  1.4                        10      (2009)[4][5]  \n",
       " 94                  1.4                        25         (2005)[9]  \n",
       " 95                  1.2                        17         (2003)[9]  \n",
       " 96                  2.2                        35     (2005)[9][19]  \n",
       " 97                  1.6                        21         (2016)[2]  \n",
       " 98                  2.8                        42      (2010)[4][5]  \n",
       " 99                  0.7                        25        (2005)[20]  \n",
       " 100                 1.8                        39         (2015)[2]  \n",
       " 101                 3.2                        46        (2014)[21]  \n",
       " 102                 NaN                       NaN         (2010)[4]  \n",
       " 103                 1.1                        14    (2006)[22][23]  \n",
       " 104                 1.2                        36         (2006)[4]  \n",
       " 105                 0.8                        14      (2007)[4][5]  \n",
       " \n",
       " [106 rows x 5 columns],\n",
       "                                                     0  \\\n",
       " 0      vteLists of countries by population statistics   \n",
       " 1                                              Global   \n",
       " 2                                    (Sub-)continents   \n",
       " 3                                    Intercontinental   \n",
       " 4                                Cities/urban regions   \n",
       " 5                                     Past and future   \n",
       " 6                                  Population density   \n",
       " 7                                   Growth indicators   \n",
       " 8                                  Other demographics   \n",
       " 9                                              Health   \n",
       " 10                           Education and innovation   \n",
       " 11                                           Economic   \n",
       " 12  List of international rankings List of top int...   \n",
       " \n",
       "                                                     1  \n",
       " 0                                                 NaN  \n",
       " 1   Current population Current population (United ...  \n",
       " 2   Africa Asia Europe North America Caribbean Oce...  \n",
       " 3   Americas Arab world Commonwealth of Nations Eu...  \n",
       " 4   National capitals Cities proper Metropolitan a...  \n",
       " 5   Past population (United Nations estimates) Pas...  \n",
       " 6   Current density Past and future population den...  \n",
       " 7   Population growth rate Natural increase Birth ...  \n",
       " 8   Age at first marriage Divorce rate Ethnic and ...  \n",
       " 9   Antiviral medications for pandemic influenza H...  \n",
       " 10  Bloomberg Innovation Index Education Index Int...  \n",
       " 11  Development aid given Official Development Ass...  \n",
       " 12                                                NaN  ]"
      ]
     },
     "execution_count": 52,
     "metadata": {},
     "output_type": "execute_result"
    }
   ],
   "source": [
    "divorces = pd.read_html('https://en.wikipedia.org/wiki/Divorce_demography')"
   ]
  },
  {
   "cell_type": "code",
   "execution_count": null,
   "metadata": {},
   "outputs": [],
   "source": [
    "divorces = pd.read_html('https://en.wikipedia.org/wiki/Divorce_demography')"
   ]
  }
 ],
 "metadata": {
  "kernelspec": {
   "display_name": "Python 3",
   "language": "python",
   "name": "python3"
  },
  "language_info": {
   "codemirror_mode": {
    "name": "ipython",
    "version": 3
   },
   "file_extension": ".py",
   "mimetype": "text/x-python",
   "name": "python",
   "nbconvert_exporter": "python",
   "pygments_lexer": "ipython3",
   "version": "3.7.1"
  }
 },
 "nbformat": 4,
 "nbformat_minor": 2
}
