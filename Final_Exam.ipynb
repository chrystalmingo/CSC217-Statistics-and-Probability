{
 "cells": [
  {
   "cell_type": "code",
   "execution_count": 90,
   "metadata": {},
   "outputs": [],
   "source": [
    "import pandas as pd\n",
    "import matplotlib.pyplot as plt\n",
    "import scipy.stats as stats\n",
    "\n",
    "import numpy as np\n",
    "%matplotlib inline"
   ]
  },
  {
   "cell_type": "markdown",
   "metadata": {},
   "source": [
    "### CSC 217 - Final Exam"
   ]
  },
  {
   "cell_type": "markdown",
   "metadata": {},
   "source": [
    "For your final exam, you will be looking at a dataset from FiveThirtyEight that looks at the voting record of each member of the House of Representatives ever since Donald Trump has been elected. There are eight columns: last name, state, party (Republican or Democrat), votes (the total number of votes they cast), votes_for (the total number of votes they made that agreed with Trump's position on the issue), votes_against (the total number of votes they made that disagreed with Trump's position on the issue), vote_percentage (the percentage of their votes that agreed with Trump's position) and GDP (the GDP of the state their district is in). Keep in mind that there are multiple representatives for most states. As an FYI, this data spans records from the last two Congresses (115th and 116th).\n",
    "\n",
    "The data DOES NOT need to be cleaned beyond what has been provided.\n",
    "\n",
    "Please write out your answer for each question.\n",
    "\n",
    "There are 14 total questions and a bonus question. There are 70 possible points - the maximum score possible is 75/70 after the bonus question. Partial credit may be awarded on questions under my discretion.\n",
    "\n",
    "The exam is due to me (via email - evan.agovino.ccny@gmail.com) by 9 PM on Wednesday, May 22nd. Late submissions will not be accepted.\n",
    "\n",
    "Good luck and please reach out to me via email or Slack (preferably Slack) with questions."
   ]
  },
  {
   "cell_type": "code",
   "execution_count": 91,
   "metadata": {},
   "outputs": [
    {
     "data": {
      "text/html": [
       "<div>\n",
       "<style scoped>\n",
       "    .dataframe tbody tr th:only-of-type {\n",
       "        vertical-align: middle;\n",
       "    }\n",
       "\n",
       "    .dataframe tbody tr th {\n",
       "        vertical-align: top;\n",
       "    }\n",
       "\n",
       "    .dataframe thead th {\n",
       "        text-align: right;\n",
       "    }\n",
       "</style>\n",
       "<table border=\"1\" class=\"dataframe\">\n",
       "  <thead>\n",
       "    <tr style=\"text-align: right;\">\n",
       "      <th></th>\n",
       "      <th>last_name</th>\n",
       "      <th>state</th>\n",
       "      <th>party</th>\n",
       "      <th>votes</th>\n",
       "      <th>votes_for</th>\n",
       "      <th>votes_against</th>\n",
       "      <th>vote_percentage</th>\n",
       "      <th>gdp</th>\n",
       "    </tr>\n",
       "  </thead>\n",
       "  <tbody>\n",
       "    <tr>\n",
       "      <th>0</th>\n",
       "      <td>Abraham</td>\n",
       "      <td>LA</td>\n",
       "      <td>R</td>\n",
       "      <td>222</td>\n",
       "      <td>208</td>\n",
       "      <td>14</td>\n",
       "      <td>0.936937</td>\n",
       "      <td>53589</td>\n",
       "    </tr>\n",
       "    <tr>\n",
       "      <th>1</th>\n",
       "      <td>Adams</td>\n",
       "      <td>NC</td>\n",
       "      <td>D</td>\n",
       "      <td>236</td>\n",
       "      <td>31</td>\n",
       "      <td>204</td>\n",
       "      <td>0.135593</td>\n",
       "      <td>54441</td>\n",
       "    </tr>\n",
       "    <tr>\n",
       "      <th>2</th>\n",
       "      <td>Aderholt</td>\n",
       "      <td>AL</td>\n",
       "      <td>R</td>\n",
       "      <td>244</td>\n",
       "      <td>238</td>\n",
       "      <td>6</td>\n",
       "      <td>0.975410</td>\n",
       "      <td>45219</td>\n",
       "    </tr>\n",
       "    <tr>\n",
       "      <th>3</th>\n",
       "      <td>Aguilar</td>\n",
       "      <td>CA</td>\n",
       "      <td>D</td>\n",
       "      <td>242</td>\n",
       "      <td>52</td>\n",
       "      <td>190</td>\n",
       "      <td>0.214876</td>\n",
       "      <td>74205</td>\n",
       "    </tr>\n",
       "    <tr>\n",
       "      <th>4</th>\n",
       "      <td>Allen</td>\n",
       "      <td>GA</td>\n",
       "      <td>R</td>\n",
       "      <td>244</td>\n",
       "      <td>236</td>\n",
       "      <td>7</td>\n",
       "      <td>0.967213</td>\n",
       "      <td>55832</td>\n",
       "    </tr>\n",
       "  </tbody>\n",
       "</table>\n",
       "</div>"
      ],
      "text/plain": [
       "  last_name state party  votes  votes_for  votes_against  vote_percentage  \\\n",
       "0   Abraham    LA     R    222        208             14         0.936937   \n",
       "1     Adams    NC     D    236         31            204         0.135593   \n",
       "2  Aderholt    AL     R    244        238              6         0.975410   \n",
       "3   Aguilar    CA     D    242         52            190         0.214876   \n",
       "4     Allen    GA     R    244        236              7         0.967213   \n",
       "\n",
       "     gdp  \n",
       "0  53589  \n",
       "1  54441  \n",
       "2  45219  \n",
       "3  74205  \n",
       "4  55832  "
      ]
     },
     "execution_count": 91,
     "metadata": {},
     "output_type": "execute_result"
    }
   ],
   "source": [
    "total_df = pd.read_csv('total_df.csv')\n",
    "total_df.head()"
   ]
  },
  {
   "cell_type": "markdown",
   "metadata": {},
   "source": [
    "    1. How many members are in each party? (3 points)"
   ]
  },
  {
   "cell_type": "code",
   "execution_count": 92,
   "metadata": {},
   "outputs": [
    {
     "data": {
      "text/plain": [
       "R    275\n",
       "D    256\n",
       "Name: party, dtype: int64"
      ]
     },
     "execution_count": 92,
     "metadata": {},
     "output_type": "execute_result"
    }
   ],
   "source": [
    "total_df['party'].value_counts()"
   ]
  },
  {
   "cell_type": "markdown",
   "metadata": {},
   "source": [
    "#### There are 275 Republican members and 256 Democratic members."
   ]
  },
  {
   "cell_type": "markdown",
   "metadata": {},
   "source": [
    "    2. Which state has the most representatives? How many representatives does it have? (4 points)"
   ]
  },
  {
   "cell_type": "code",
   "execution_count": 93,
   "metadata": {},
   "outputs": [
    {
     "data": {
      "text/plain": [
       "CA    61\n",
       "TX    45\n",
       "FL    31\n",
       "NY    31\n",
       "PA    26\n",
       "Name: state, dtype: int64"
      ]
     },
     "execution_count": 93,
     "metadata": {},
     "output_type": "execute_result"
    }
   ],
   "source": [
    "total_reps_per_state = total_df['state'].value_counts()\n",
    "total_reps_per_state.head()"
   ]
  },
  {
   "cell_type": "code",
   "execution_count": 94,
   "metadata": {},
   "outputs": [
    {
     "data": {
      "text/plain": [
       "61"
      ]
     },
     "execution_count": 94,
     "metadata": {},
     "output_type": "execute_result"
    }
   ],
   "source": [
    "total_reps_per_state.max()"
   ]
  },
  {
   "cell_type": "markdown",
   "metadata": {},
   "source": [
    "#### California has the most representatives, it has 61 representatives."
   ]
  },
  {
   "cell_type": "markdown",
   "metadata": {},
   "source": [
    "    3. Plot a histogram of the vote percentage for each state and describe what it looks like. (3 points)"
   ]
  },
  {
   "cell_type": "code",
   "execution_count": 95,
   "metadata": {},
   "outputs": [
    {
     "data": {
      "text/plain": [
       "Text(0.5, 0.92, 'Vote Percentage Per State')"
      ]
     },
     "execution_count": 95,
     "metadata": {},
     "output_type": "execute_result"
    },
    {
     "data": {
      "image/png": "[encoded data removed]",
      "text/plain": [
       "<Figure size 360x360 with 1 Axes>"
      ]
     },
     "metadata": {
      "needs_background": "light"
     },
     "output_type": "display_data"
    }
   ],
   "source": [
    "fig = plt.figure(figsize=(5,5))\n",
    "df = total_df.groupby('state')['vote_percentage'].mean()\n",
    "plt.hist(df)\n",
    "plt.xlabel('Vote Percentage (%)')\n",
    "plt.ylabel('State')\n",
    "fig.suptitle('Vote Percentage Per State', fontsize=15, y=0.92)"
   ]
  },
  {
   "cell_type": "markdown",
   "metadata": {},
   "source": [
    "#### The histogram is skewed negatively (skewed left). "
   ]
  },
  {
   "cell_type": "markdown",
   "metadata": {},
   "source": [
    "    4. What is the maximum vote percentage in the dataset? How many representatives have that maximum vote percentage? (4 points)"
   ]
  },
  {
   "cell_type": "code",
   "execution_count": 96,
   "metadata": {},
   "outputs": [
    {
     "data": {
      "text/html": [
       "<div>\n",
       "<style scoped>\n",
       "    .dataframe tbody tr th:only-of-type {\n",
       "        vertical-align: middle;\n",
       "    }\n",
       "\n",
       "    .dataframe tbody tr th {\n",
       "        vertical-align: top;\n",
       "    }\n",
       "\n",
       "    .dataframe thead th {\n",
       "        text-align: right;\n",
       "    }\n",
       "</style>\n",
       "<table border=\"1\" class=\"dataframe\">\n",
       "  <thead>\n",
       "    <tr style=\"text-align: right;\">\n",
       "      <th></th>\n",
       "      <th>last_name</th>\n",
       "      <th>state</th>\n",
       "      <th>party</th>\n",
       "      <th>votes</th>\n",
       "      <th>votes_for</th>\n",
       "      <th>votes_against</th>\n",
       "      <th>vote_percentage</th>\n",
       "      <th>gdp</th>\n",
       "    </tr>\n",
       "  </thead>\n",
       "  <tbody>\n",
       "    <tr>\n",
       "      <th>69</th>\n",
       "      <td>Chaffetz</td>\n",
       "      <td>UT</td>\n",
       "      <td>R</td>\n",
       "      <td>62</td>\n",
       "      <td>62</td>\n",
       "      <td>0</td>\n",
       "      <td>1.0</td>\n",
       "      <td>55550</td>\n",
       "    </tr>\n",
       "    <tr>\n",
       "      <th>209</th>\n",
       "      <td>Hern</td>\n",
       "      <td>OK</td>\n",
       "      <td>R</td>\n",
       "      <td>60</td>\n",
       "      <td>60</td>\n",
       "      <td>0</td>\n",
       "      <td>1.0</td>\n",
       "      <td>50613</td>\n",
       "    </tr>\n",
       "    <tr>\n",
       "      <th>245</th>\n",
       "      <td>Joyce</td>\n",
       "      <td>PA</td>\n",
       "      <td>R</td>\n",
       "      <td>54</td>\n",
       "      <td>54</td>\n",
       "      <td>0</td>\n",
       "      <td>1.0</td>\n",
       "      <td>61594</td>\n",
       "    </tr>\n",
       "    <tr>\n",
       "      <th>330</th>\n",
       "      <td>Miller</td>\n",
       "      <td>WV</td>\n",
       "      <td>R</td>\n",
       "      <td>54</td>\n",
       "      <td>54</td>\n",
       "      <td>0</td>\n",
       "      <td>1.0</td>\n",
       "      <td>43053</td>\n",
       "    </tr>\n",
       "    <tr>\n",
       "      <th>366</th>\n",
       "      <td>Pence</td>\n",
       "      <td>IN</td>\n",
       "      <td>R</td>\n",
       "      <td>52</td>\n",
       "      <td>52</td>\n",
       "      <td>0</td>\n",
       "      <td>1.0</td>\n",
       "      <td>55172</td>\n",
       "    </tr>\n",
       "    <tr>\n",
       "      <th>402</th>\n",
       "      <td>Rose</td>\n",
       "      <td>TN</td>\n",
       "      <td>R</td>\n",
       "      <td>54</td>\n",
       "      <td>54</td>\n",
       "      <td>0</td>\n",
       "      <td>1.0</td>\n",
       "      <td>53933</td>\n",
       "    </tr>\n",
       "    <tr>\n",
       "      <th>461</th>\n",
       "      <td>Steube</td>\n",
       "      <td>FL</td>\n",
       "      <td>R</td>\n",
       "      <td>54</td>\n",
       "      <td>54</td>\n",
       "      <td>0</td>\n",
       "      <td>1.0</td>\n",
       "      <td>48318</td>\n",
       "    </tr>\n",
       "    <tr>\n",
       "      <th>530</th>\n",
       "      <td>Zinke</td>\n",
       "      <td>MT</td>\n",
       "      <td>R</td>\n",
       "      <td>2</td>\n",
       "      <td>2</td>\n",
       "      <td>0</td>\n",
       "      <td>1.0</td>\n",
       "      <td>46609</td>\n",
       "    </tr>\n",
       "  </tbody>\n",
       "</table>\n",
       "</div>"
      ],
      "text/plain": [
       "    last_name state party  votes  votes_for  votes_against  vote_percentage  \\\n",
       "69   Chaffetz    UT     R     62         62              0              1.0   \n",
       "209      Hern    OK     R     60         60              0              1.0   \n",
       "245     Joyce    PA     R     54         54              0              1.0   \n",
       "330    Miller    WV     R     54         54              0              1.0   \n",
       "366     Pence    IN     R     52         52              0              1.0   \n",
       "402      Rose    TN     R     54         54              0              1.0   \n",
       "461    Steube    FL     R     54         54              0              1.0   \n",
       "530     Zinke    MT     R      2          2              0              1.0   \n",
       "\n",
       "       gdp  \n",
       "69   55550  \n",
       "209  50613  \n",
       "245  61594  \n",
       "330  43053  \n",
       "366  55172  \n",
       "402  53933  \n",
       "461  48318  \n",
       "530  46609  "
      ]
     },
     "execution_count": 96,
     "metadata": {},
     "output_type": "execute_result"
    }
   ],
   "source": [
    "max_vote = total_df['vote_percentage'].max()\n",
    "total_df[total_df['vote_percentage'] == max_vote]"
   ]
  },
  {
   "cell_type": "markdown",
   "metadata": {},
   "source": [
    "#### The maximum vote percentage is 1.0 (100%) in the dataset. 8 representatives all Republican have that maximum vote percentage."
   ]
  },
  {
   "cell_type": "markdown",
   "metadata": {},
   "source": [
    "    5. Find out how many total Republican and Democrat votes were for and against Trump's policies (hint: do a groupby and sum the 'votes_for' and 'votes_against' columns) (4 points)"
   ]
  },
  {
   "cell_type": "code",
   "execution_count": 97,
   "metadata": {},
   "outputs": [
    {
     "data": {
      "text/html": [
       "<div>\n",
       "<style scoped>\n",
       "    .dataframe tbody tr th:only-of-type {\n",
       "        vertical-align: middle;\n",
       "    }\n",
       "\n",
       "    .dataframe tbody tr th {\n",
       "        vertical-align: top;\n",
       "    }\n",
       "\n",
       "    .dataframe thead th {\n",
       "        text-align: right;\n",
       "    }\n",
       "</style>\n",
       "<table border=\"1\" class=\"dataframe\">\n",
       "  <thead>\n",
       "    <tr style=\"text-align: right;\">\n",
       "      <th></th>\n",
       "      <th>votes</th>\n",
       "      <th>votes_for</th>\n",
       "      <th>votes_against</th>\n",
       "    </tr>\n",
       "    <tr>\n",
       "      <th>party</th>\n",
       "      <th></th>\n",
       "      <th></th>\n",
       "      <th></th>\n",
       "    </tr>\n",
       "  </thead>\n",
       "  <tbody>\n",
       "    <tr>\n",
       "      <th>D</th>\n",
       "      <td>47956</td>\n",
       "      <td>8163</td>\n",
       "      <td>39779</td>\n",
       "    </tr>\n",
       "    <tr>\n",
       "      <th>R</th>\n",
       "      <td>54514</td>\n",
       "      <td>50770</td>\n",
       "      <td>3608</td>\n",
       "    </tr>\n",
       "  </tbody>\n",
       "</table>\n",
       "</div>"
      ],
      "text/plain": [
       "       votes  votes_for  votes_against\n",
       "party                                 \n",
       "D      47956       8163          39779\n",
       "R      54514      50770           3608"
      ]
     },
     "execution_count": 97,
     "metadata": {},
     "output_type": "execute_result"
    }
   ],
   "source": [
    "total_df.groupby('party')['votes', 'votes_for', 'votes_against'].sum()"
   ]
  },
  {
   "cell_type": "markdown",
   "metadata": {},
   "source": [
    "#### When it comes to Democrats 8163 voted for Trump's policies, while 39779 voted against. On the other hand, when it came to the Republican Party 50770 voted for Trump's policies, while only 3608 voted against his policies. "
   ]
  },
  {
   "cell_type": "markdown",
   "metadata": {},
   "source": [
    "    6. Now do a chi-squared test for homogeneity on the Democrats vs. Republicans to see if they could conceivably come from the same distribution (hint: use the methodology from this workbook:  https://github.com/CSC217/spring_2019/blob/master/week09-hypothesis_testing_ii/Hypothesis_Testing_II_Workbook.ipynb). What is the Chi-squared score from the test? Can we reject the null hypothesis at a 0.05 signifiance level that Democrats and Republicans come from the same distribution, voting-wise? (8 points)"
   ]
  },
  {
   "cell_type": "code",
   "execution_count": 98,
   "metadata": {},
   "outputs": [
    {
     "data": {
      "text/plain": [
       "(60791.45718371537, 0.0, 1, array([[27613.03641517, 20328.96358483],\n",
       "        [31319.96358483, 23058.03641517]]))"
      ]
     },
     "execution_count": 98,
     "metadata": {},
     "output_type": "execute_result"
    }
   ],
   "source": [
    "demo = [total_df[total_df['party'] == 'D']['votes_for'].sum(), total_df[total_df['party'] == 'D']['votes_against'].sum()]\n",
    "repub = [total_df[total_df['party'] == 'R']['votes_for'].sum(), total_df[total_df['party'] == 'R']['votes_against'].sum()]\n",
    "stats.chi2_contingency([demo, repub])"
   ]
  },
  {
   "cell_type": "markdown",
   "metadata": {},
   "source": [
    "#### Chi-squared score is 60791.45718371537\n",
    "#### P-Value = 0.0\n",
    "#### Degrees of Freedom = 1"
   ]
  },
  {
   "cell_type": "markdown",
   "metadata": {},
   "source": [
    "#### The above result, showcases that the p-value is 0 which is less than 0.05, therefore we can reject the null hypothesis that the democrats and republicans come from the same distribution, voting-wise. "
   ]
  },
  {
   "cell_type": "markdown",
   "metadata": {},
   "source": [
    "    7. Given the number of degrees of freedom in the test, what would be the minimum Chi-square value necessary to reject the null hypothesis at a 0.05 signifiance level that the Democrats and Republicans come from the same distribution, voting-wise? (8 points)"
   ]
  },
  {
   "cell_type": "code",
   "execution_count": 99,
   "metadata": {},
   "outputs": [
    {
     "data": {
      "text/plain": [
       "3.841458820694124"
      ]
     },
     "execution_count": 99,
     "metadata": {},
     "output_type": "execute_result"
    }
   ],
   "source": [
    "stats.chi2(1).ppf(0.95)"
   ]
  },
  {
   "cell_type": "markdown",
   "metadata": {},
   "source": [
    "#### The rejection region that the Democrats and Republicans come from the same distribution is 3.841458820694124."
   ]
  },
  {
   "cell_type": "markdown",
   "metadata": {},
   "source": [
    "    8. What is the correlation between the GDP of the state a representative is representing and the percentage of time that representative agrees with Trump? Is the correlation statistically significant? (5 points)"
   ]
  },
  {
   "cell_type": "code",
   "execution_count": 100,
   "metadata": {},
   "outputs": [
    {
     "data": {
      "text/html": [
       "<div>\n",
       "<style scoped>\n",
       "    .dataframe tbody tr th:only-of-type {\n",
       "        vertical-align: middle;\n",
       "    }\n",
       "\n",
       "    .dataframe tbody tr th {\n",
       "        vertical-align: top;\n",
       "    }\n",
       "\n",
       "    .dataframe thead th {\n",
       "        text-align: right;\n",
       "    }\n",
       "</style>\n",
       "<table border=\"1\" class=\"dataframe\">\n",
       "  <thead>\n",
       "    <tr style=\"text-align: right;\">\n",
       "      <th></th>\n",
       "      <th>vote_percentage</th>\n",
       "      <th>gdp</th>\n",
       "    </tr>\n",
       "  </thead>\n",
       "  <tbody>\n",
       "    <tr>\n",
       "      <th>0</th>\n",
       "      <td>0.936937</td>\n",
       "      <td>53589</td>\n",
       "    </tr>\n",
       "    <tr>\n",
       "      <th>1</th>\n",
       "      <td>0.135593</td>\n",
       "      <td>54441</td>\n",
       "    </tr>\n",
       "    <tr>\n",
       "      <th>2</th>\n",
       "      <td>0.975410</td>\n",
       "      <td>45219</td>\n",
       "    </tr>\n",
       "    <tr>\n",
       "      <th>3</th>\n",
       "      <td>0.214876</td>\n",
       "      <td>74205</td>\n",
       "    </tr>\n",
       "    <tr>\n",
       "      <th>4</th>\n",
       "      <td>0.967213</td>\n",
       "      <td>55832</td>\n",
       "    </tr>\n",
       "  </tbody>\n",
       "</table>\n",
       "</div>"
      ],
      "text/plain": [
       "   vote_percentage    gdp\n",
       "0         0.936937  53589\n",
       "1         0.135593  54441\n",
       "2         0.975410  45219\n",
       "3         0.214876  74205\n",
       "4         0.967213  55832"
      ]
     },
     "execution_count": 100,
     "metadata": {},
     "output_type": "execute_result"
    }
   ],
   "source": [
    "relav = total_df[['vote_percentage', 'gdp']]\n",
    "relav.head()"
   ]
  },
  {
   "cell_type": "code",
   "execution_count": 101,
   "metadata": {},
   "outputs": [],
   "source": [
    "def evaluate_linear_relationship(a,b):\n",
    "    slope = np.cov(a, b, bias=True)[0][1]/np.var(a)\n",
    "    intercept = np.mean(b) - (slope * np.mean(a))\n",
    "    predictions = (slope * a) + intercept\n",
    "    residuals = b - predictions\n",
    "    return slope, intercept, predictions, residuals "
   ]
  },
  {
   "cell_type": "code",
   "execution_count": 102,
   "metadata": {},
   "outputs": [],
   "source": [
    "slope, intercept, predictions, residuals = evaluate_linear_relationship(total_df['gdp'], total_df['vote_percentage'])"
   ]
  },
  {
   "cell_type": "code",
   "execution_count": 103,
   "metadata": {},
   "outputs": [
    {
     "data": {
      "text/plain": [
       "SpearmanrResult(correlation=-0.32972451612060594, pvalue=6.228178841163745e-15)"
      ]
     },
     "execution_count": 103,
     "metadata": {},
     "output_type": "execute_result"
    }
   ],
   "source": [
    "stats.spearmanr(total_df['gdp'],total_df['vote_percentage'])"
   ]
  },
  {
   "cell_type": "markdown",
   "metadata": {},
   "source": [
    "#### The correlation is not statistically significant because the p-value is less than 0.05."
   ]
  },
  {
   "cell_type": "markdown",
   "metadata": {},
   "source": [
    "    9. Find the linear relationship between GDP and the representative's likely percentage to vote. Plot the sdcatterplot with the predictive line on top of it. (6 points)"
   ]
  },
  {
   "cell_type": "code",
   "execution_count": 104,
   "metadata": {},
   "outputs": [
    {
     "data": {
      "text/plain": [
       "Text(0.5, 0.92, 'GDP vs. Vote Percentage')"
      ]
     },
     "execution_count": 104,
     "metadata": {},
     "output_type": "execute_result"
    },
    {
     "data": {
      "image/png": "[encoded data removed]",
      "text/plain": [
       "<Figure size 360x360 with 1 Axes>"
      ]
     },
     "metadata": {
      "needs_background": "light"
     },
     "output_type": "display_data"
    }
   ],
   "source": [
    "fig = plt.figure(figsize=(5,5))\n",
    "plt.scatter(total_df['gdp'], total_df['vote_percentage'])\n",
    "sorted_order = np.argsort(total_df['gdp'])\n",
    "plt.plot(total_df['gdp'][sorted_order],predictions[sorted_order])\n",
    "plt.xlabel('GDP')\n",
    "plt.ylabel('Vote Percentage')\n",
    "fig.suptitle('GDP vs. Vote Percentage', fontsize=15, y=0.92)"
   ]
  },
  {
   "cell_type": "markdown",
   "metadata": {},
   "source": [
    "    10. What is the R^2 value of this relationship? (5 points)"
   ]
  },
  {
   "cell_type": "code",
   "execution_count": 105,
   "metadata": {},
   "outputs": [
    {
     "data": {
      "text/plain": [
       "0.12751704893821011"
      ]
     },
     "execution_count": 105,
     "metadata": {},
     "output_type": "execute_result"
    }
   ],
   "source": [
    "r_squared = np.var(predictions) / np.var(total_df['vote_percentage'])\n",
    "r_squared"
   ]
  },
  {
   "cell_type": "markdown",
   "metadata": {},
   "source": [
    "#### The R^2 value of this relationship is 0.12751704893821011"
   ]
  },
  {
   "cell_type": "markdown",
   "metadata": {},
   "source": [
    "    11. If a representative comes from a state with a GDP of $50,000, what is the predicted percentage of time that representative will vote with Trump? (5 points)"
   ]
  },
  {
   "cell_type": "code",
   "execution_count": 106,
   "metadata": {},
   "outputs": [
    {
     "data": {
      "text/plain": [
       "0.7029029463887216"
      ]
     },
     "execution_count": 106,
     "metadata": {},
     "output_type": "execute_result"
    }
   ],
   "source": [
    "y = slope*50000 + intercept\n",
    "y"
   ]
  },
  {
   "cell_type": "code",
   "execution_count": 107,
   "metadata": {},
   "outputs": [
    {
     "data": {
      "text/plain": [
       "70.29029463887217"
      ]
     },
     "execution_count": 107,
     "metadata": {},
     "output_type": "execute_result"
    }
   ],
   "source": [
    "y*100"
   ]
  },
  {
   "cell_type": "markdown",
   "metadata": {},
   "source": [
    "#### The predicted percentage of time that a representative will vote with Trump if the state has a GDP of 50,000 dollars is 0.7029029463887216 (70.29%)"
   ]
  },
  {
   "cell_type": "markdown",
   "metadata": {},
   "source": [
    "    12. What is the average percentage of time that representatives agreed with Trump given that they came from states with a GDP *greater than* $45,000 and *less than* $55,000? (6 points)"
   ]
  },
  {
   "cell_type": "code",
   "execution_count": 113,
   "metadata": {},
   "outputs": [
    {
     "data": {
      "text/plain": [
       "votes                195.900000\n",
       "votes_for            134.514286\n",
       "votes_against         61.050000\n",
       "vote_percentage        0.662005\n",
       "gdp                50053.464286\n",
       "dtype: float64"
      ]
     },
     "execution_count": 113,
     "metadata": {},
     "output_type": "execute_result"
    }
   ],
   "source": [
    "(total_df[(total_df['gdp'] > 45000) & (total_df['gdp'] < 55000)]).mean()"
   ]
  },
  {
   "cell_type": "markdown",
   "metadata": {},
   "source": [
    "#### The average percentage time that representative agreed with Trump given that they came from states with a GDP greater than 45,000 dollars and less than 55,000 dollars is 66.2 percent"
   ]
  },
  {
   "cell_type": "markdown",
   "metadata": {},
   "source": [
    "    13. Plot the residuals plot. Is it homoskedastic or heteroskedastic? (5 points)"
   ]
  },
  {
   "cell_type": "code",
   "execution_count": 109,
   "metadata": {},
   "outputs": [
    {
     "data": {
      "text/plain": [
       "Text(0.5, 0.92, 'Residuals')"
      ]
     },
     "execution_count": 109,
     "metadata": {},
     "output_type": "execute_result"
    },
    {
     "data": {
      "image/png": "[encoded data removed]",
      "text/plain": [
       "<Figure size 360x360 with 1 Axes>"
      ]
     },
     "metadata": {
      "needs_background": "light"
     },
     "output_type": "display_data"
    }
   ],
   "source": [
    "fig = plt.figure(figsize=(5,5))\n",
    "plt.scatter(predictions, residuals)\n",
    "plt.plot([predictions.min(), predictions.max()], [0,0], linestyle='dotted')\n",
    "plt.xlabel('Predicted Values')\n",
    "plt.ylabel('Residuals')\n",
    "fig.suptitle('Residuals', fontsize=15, y=0.92)"
   ]
  },
  {
   "cell_type": "markdown",
   "metadata": {},
   "source": [
    "#### The graph is heteroskedastic"
   ]
  },
  {
   "cell_type": "markdown",
   "metadata": {},
   "source": [
    "    14. Overall do you think there's a linear relationship between these two variables? Why or why not? (4 points)"
   ]
  },
  {
   "cell_type": "markdown",
   "metadata": {},
   "source": [
    "#### Yes there is a linear relationship between these two variables, because the graph is heteroskedastic."
   ]
  },
  {
   "cell_type": "markdown",
   "metadata": {},
   "source": [
    "    15. *BONUS* Given that the data looks at GDP at the state-level and voting percentage at the representative level, what data would improve this data set? (5 points)"
   ]
  },
  {
   "cell_type": "markdown",
   "metadata": {
    "collapsed": true
   },
   "source": [
    "####  The data should have instead focus on the GDP of the representative's district instead of the state GDP.  By looking at the representative's district GDP, one can better get a correlation between the GDP and voting of certain districts, and so on. "
   ]
  }
 ],
 "metadata": {
  "kernelspec": {
   "display_name": "Python 3",
   "language": "python",
   "name": "python3"
  },
  "language_info": {
   "codemirror_mode": {
    "name": "ipython",
    "version": 3
   },
   "file_extension": ".py",
   "mimetype": "text/x-python",
   "name": "python",
   "nbconvert_exporter": "python",
   "pygments_lexer": "ipython3",
   "version": "3.7.1"
  }
 },
 "nbformat": 4,
 "nbformat_minor": 2
}
