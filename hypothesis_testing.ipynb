{
 "cells": [
  {
   "cell_type": "code",
   "execution_count": 69,
   "metadata": {},
   "outputs": [],
   "source": [
    "import pandas as pd\n",
    "import numpy as np\n",
    "import scipy.stats as stats\n",
    "import seaborn as sns\n",
    "import matplotlib.pyplot as plt\n",
    "%matplotlib inline"
   ]
  },
  {
   "cell_type": "code",
   "execution_count": 70,
   "metadata": {},
   "outputs": [],
   "source": [
    "tables = pd.read_html('https://en.wikipedia.org/wiki/Demographics_of_the_world')"
   ]
  },
  {
   "cell_type": "code",
   "execution_count": 71,
   "metadata": {},
   "outputs": [],
   "source": [
    "df = pd.read_html('https://en.wikipedia.org/wiki/Demographics_of_the_world', header=0)[1]"
   ]
  },
  {
   "cell_type": "code",
   "execution_count": 72,
   "metadata": {},
   "outputs": [
    {
     "data": {
      "text/html": [
       "<div>\n",
       "<style scoped>\n",
       "    .dataframe tbody tr th:only-of-type {\n",
       "        vertical-align: middle;\n",
       "    }\n",
       "\n",
       "    .dataframe tbody tr th {\n",
       "        vertical-align: top;\n",
       "    }\n",
       "\n",
       "    .dataframe thead th {\n",
       "        text-align: right;\n",
       "    }\n",
       "</style>\n",
       "<table border=\"1\" class=\"dataframe\">\n",
       "  <thead>\n",
       "    <tr style=\"text-align: right;\">\n",
       "      <th></th>\n",
       "      <th>Rank</th>\n",
       "      <th>City</th>\n",
       "      <th>Population</th>\n",
       "      <th>Country</th>\n",
       "      <th>Statistical concept[20]</th>\n",
       "      <th>Area (km²)[21]</th>\n",
       "      <th>Density (p/km²)</th>\n",
       "    </tr>\n",
       "  </thead>\n",
       "  <tbody>\n",
       "    <tr>\n",
       "      <th>0</th>\n",
       "      <td>1</td>\n",
       "      <td>Tokyo</td>\n",
       "      <td>30000000</td>\n",
       "      <td>Japan</td>\n",
       "      <td>Metropolitan area[22]</td>\n",
       "      <td>13500</td>\n",
       "      <td>2716</td>\n",
       "    </tr>\n",
       "    <tr>\n",
       "      <th>1</th>\n",
       "      <td>2</td>\n",
       "      <td>Shanghai</td>\n",
       "      <td>24180000</td>\n",
       "      <td>China</td>\n",
       "      <td>Urban agglomeration[23]</td>\n",
       "      <td>3920</td>\n",
       "      <td>6168</td>\n",
       "    </tr>\n",
       "    <tr>\n",
       "      <th>2</th>\n",
       "      <td>3</td>\n",
       "      <td>Mexico City</td>\n",
       "      <td>22460000</td>\n",
       "      <td>Mexico</td>\n",
       "      <td>Metropolitan area (zona metropolitana)</td>\n",
       "      <td>7815</td>\n",
       "      <td>2490</td>\n",
       "    </tr>\n",
       "    <tr>\n",
       "      <th>3</th>\n",
       "      <td>4</td>\n",
       "      <td>Delhi</td>\n",
       "      <td>22157000</td>\n",
       "      <td>India</td>\n",
       "      <td>Urban agglomeration[24]</td>\n",
       "      <td>33578</td>\n",
       "      <td>659</td>\n",
       "    </tr>\n",
       "    <tr>\n",
       "      <th>4</th>\n",
       "      <td>5</td>\n",
       "      <td>Lagos</td>\n",
       "      <td>21000000</td>\n",
       "      <td>Nigeria</td>\n",
       "      <td>Metropolitan area (região metropolitana)</td>\n",
       "      <td>10050</td>\n",
       "      <td>3400</td>\n",
       "    </tr>\n",
       "    <tr>\n",
       "      <th>5</th>\n",
       "      <td>6</td>\n",
       "      <td>New York City</td>\n",
       "      <td>20153634</td>\n",
       "      <td>United States</td>\n",
       "      <td>Metropolitan Statistics Area</td>\n",
       "      <td>21,483[25]</td>\n",
       "      <td>938</td>\n",
       "    </tr>\n",
       "    <tr>\n",
       "      <th>6</th>\n",
       "      <td>7</td>\n",
       "      <td>Mumbai</td>\n",
       "      <td>20041000</td>\n",
       "      <td>India</td>\n",
       "      <td>Urban agglomeration</td>\n",
       "      <td>1,097[26]</td>\n",
       "      <td>18268</td>\n",
       "    </tr>\n",
       "    <tr>\n",
       "      <th>7</th>\n",
       "      <td>8</td>\n",
       "      <td>Kolkata</td>\n",
       "      <td>15552000</td>\n",
       "      <td>India</td>\n",
       "      <td>Urban agglomeration</td>\n",
       "      <td>1,026[27]</td>\n",
       "      <td>15158</td>\n",
       "    </tr>\n",
       "    <tr>\n",
       "      <th>8</th>\n",
       "      <td>9</td>\n",
       "      <td>Dhaka</td>\n",
       "      <td>14648000</td>\n",
       "      <td>Bangladesh</td>\n",
       "      <td>Metropolitan area (megacity)</td>\n",
       "      <td>1600</td>\n",
       "      <td>9155</td>\n",
       "    </tr>\n",
       "    <tr>\n",
       "      <th>9</th>\n",
       "      <td>10</td>\n",
       "      <td>Istanbul</td>\n",
       "      <td>14160467</td>\n",
       "      <td>Turkey</td>\n",
       "      <td>Metropolitan Municipality</td>\n",
       "      <td>5461</td>\n",
       "      <td>2593</td>\n",
       "    </tr>\n",
       "  </tbody>\n",
       "</table>\n",
       "</div>"
      ],
      "text/plain": [
       "   Rank           City  Population        Country  \\\n",
       "0     1          Tokyo    30000000          Japan   \n",
       "1     2       Shanghai    24180000          China   \n",
       "2     3    Mexico City    22460000         Mexico   \n",
       "3     4          Delhi    22157000          India   \n",
       "4     5          Lagos    21000000        Nigeria   \n",
       "5     6  New York City    20153634  United States   \n",
       "6     7         Mumbai    20041000          India   \n",
       "7     8        Kolkata    15552000          India   \n",
       "8     9          Dhaka    14648000     Bangladesh   \n",
       "9    10       Istanbul    14160467         Turkey   \n",
       "\n",
       "                    Statistical concept[20] Area (km²)[21]  Density (p/km²)  \n",
       "0                     Metropolitan area[22]          13500             2716  \n",
       "1                   Urban agglomeration[23]           3920             6168  \n",
       "2    Metropolitan area (zona metropolitana)           7815             2490  \n",
       "3                   Urban agglomeration[24]          33578              659  \n",
       "4  Metropolitan area (região metropolitana)          10050             3400  \n",
       "5              Metropolitan Statistics Area     21,483[25]              938  \n",
       "6                       Urban agglomeration      1,097[26]            18268  \n",
       "7                       Urban agglomeration      1,026[27]            15158  \n",
       "8              Metropolitan area (megacity)           1600             9155  \n",
       "9                 Metropolitan Municipality           5461             2593  "
      ]
     },
     "execution_count": 72,
     "metadata": {},
     "output_type": "execute_result"
    }
   ],
   "source": [
    "df"
   ]
  },
  {
   "cell_type": "code",
   "execution_count": 73,
   "metadata": {},
   "outputs": [
    {
     "data": {
      "text/plain": [
       "Index(['Rank', 'City', 'Population', 'Country', 'Statistical concept[20]',\n",
       "       'Area (km²)[21]', 'Density (p/km²)'],\n",
       "      dtype='object')"
      ]
     },
     "execution_count": 73,
     "metadata": {},
     "output_type": "execute_result"
    }
   ],
   "source": [
    "df.columns"
   ]
  },
  {
   "cell_type": "markdown",
   "metadata": {},
   "source": [
    "Hypothesis Testing:\n",
    "\n",
    "Null Hypothesis:\n",
    "India has a density equal to the mean density of the population in the 10 largest cities in the world.\n",
    "\n",
    "Alternative Hypothesis:\n",
    "India's has a density which is greater than the mean density in the 10 largest cities in the world.  "
   ]
  },
  {
   "cell_type": "code",
   "execution_count": 74,
   "metadata": {},
   "outputs": [
    {
     "data": {
      "text/html": [
       "<div>\n",
       "<style scoped>\n",
       "    .dataframe tbody tr th:only-of-type {\n",
       "        vertical-align: middle;\n",
       "    }\n",
       "\n",
       "    .dataframe tbody tr th {\n",
       "        vertical-align: top;\n",
       "    }\n",
       "\n",
       "    .dataframe thead th {\n",
       "        text-align: right;\n",
       "    }\n",
       "</style>\n",
       "<table border=\"1\" class=\"dataframe\">\n",
       "  <thead>\n",
       "    <tr style=\"text-align: right;\">\n",
       "      <th></th>\n",
       "      <th>Rank</th>\n",
       "      <th>City</th>\n",
       "      <th>Population</th>\n",
       "      <th>Country</th>\n",
       "      <th>Statistical concept[20]</th>\n",
       "      <th>Area (km²)[21]</th>\n",
       "      <th>Density (p/km²)</th>\n",
       "    </tr>\n",
       "  </thead>\n",
       "  <tbody>\n",
       "    <tr>\n",
       "      <th>6</th>\n",
       "      <td>7</td>\n",
       "      <td>Mumbai</td>\n",
       "      <td>20041000</td>\n",
       "      <td>India</td>\n",
       "      <td>Urban agglomeration</td>\n",
       "      <td>1,097[26]</td>\n",
       "      <td>18268</td>\n",
       "    </tr>\n",
       "  </tbody>\n",
       "</table>\n",
       "</div>"
      ],
      "text/plain": [
       "   Rank    City  Population Country Statistical concept[20] Area (km²)[21]  \\\n",
       "6     7  Mumbai    20041000   India     Urban agglomeration      1,097[26]   \n",
       "\n",
       "   Density (p/km²)  \n",
       "6            18268  "
      ]
     },
     "execution_count": 74,
     "metadata": {},
     "output_type": "execute_result"
    }
   ],
   "source": [
    "df[df['Density (p/km²)'] == np.max(df['Density (p/km²)'])] #2018 has the highest population"
   ]
  },
  {
   "cell_type": "code",
   "execution_count": 75,
   "metadata": {},
   "outputs": [
    {
     "data": {
      "text/plain": [
       "6154.5"
      ]
     },
     "execution_count": 75,
     "metadata": {},
     "output_type": "execute_result"
    }
   ],
   "source": [
    "np.mean(df['Density (p/km²)']) #Mean Density "
   ]
  },
  {
   "cell_type": "code",
   "execution_count": 76,
   "metadata": {},
   "outputs": [
    {
     "data": {
      "text/plain": [
       "5828.712246285624"
      ]
     },
     "execution_count": 76,
     "metadata": {},
     "output_type": "execute_result"
    }
   ],
   "source": [
    "np.std(df['Density (p/km²)']) #std"
   ]
  },
  {
   "cell_type": "code",
   "execution_count": 77,
   "metadata": {},
   "outputs": [
    {
     "data": {
      "text/plain": [
       "15741.878478759372"
      ]
     },
     "execution_count": 77,
     "metadata": {},
     "output_type": "execute_result"
    }
   ],
   "source": [
    "di = stats.norm(6154.5, np.std(df['Density (p/km²)']))\n",
    "di.ppf(0.95) #0.05 significance "
   ]
  },
  {
   "cell_type": "code",
   "execution_count": 78,
   "metadata": {},
   "outputs": [
    {
     "data": {
      "text/plain": [
       "Text(0.5, 0.92, 'The Density of the 10 Major Cities in the World')"
      ]
     },
     "execution_count": 78,
     "metadata": {},
     "output_type": "execute_result"
    },
    {
     "data": {
      "image/png": "[encoded data removed]",
      "text/plain": [
       "<Figure size 360x360 with 1 Axes>"
      ]
     },
     "metadata": {
      "needs_background": "light"
     },
     "output_type": "display_data"
    }
   ],
   "source": [
    "dist = stats.norm(6154.5,5828.712246285624)\n",
    "fig = plt.figure(figsize=(5,5))\n",
    "x = np.linspace(dist.ppf(0.0001), dist.ppf(0.9999), 100)\n",
    "plt.plot(x, dist.pdf(x))\n",
    "plt.plot([15741.878478759372, 15741.878478759372],[0, dist.pdf(15741.878478759372)], linestyle='dotted', color='#1f77b4')\n",
    "plt.ylim(bottom=0)\n",
    "X_fill = np.linspace(dist.ppf(0.95), dist.ppf(0.9999))\n",
    "Y = dist.pdf(X_fill)\n",
    "plt.fill_between(X_fill, 0, Y, facecolor='red')\n",
    "plt.xlabel('Density Per 10 major cities Population')\n",
    "plt.ylabel('Probability Density Function')\n",
    "fig.suptitle('The Density of the 10 Major Cities in the World', fontsize=15, y=0.92)"
   ]
  },
  {
   "cell_type": "markdown",
   "metadata": {},
   "source": [
    "I reject the null hypothesis because India falls within the rejected region. "
   ]
  }
 ],
 "metadata": {
  "kernelspec": {
   "display_name": "Python 3",
   "language": "python",
   "name": "python3"
  },
  "language_info": {
   "codemirror_mode": {
    "name": "ipython",
    "version": 3
   },
   "file_extension": ".py",
   "mimetype": "text/x-python",
   "name": "python",
   "nbconvert_exporter": "python",
   "pygments_lexer": "ipython3",
   "version": "3.7.1"
  }
 },
 "nbformat": 4,
 "nbformat_minor": 2
}
